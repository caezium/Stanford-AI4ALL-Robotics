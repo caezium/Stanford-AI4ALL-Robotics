{
  "cells": [
    {
      "cell_type": "markdown",
      "metadata": {
        "id": "9nNnf6nXGtJj"
      },
      "source": [
        "# Day 9 – Session 2: Final Project Integration Workshop"
      ]
    },
    {
      "cell_type": "markdown",
      "metadata": {
        "id": "Qlr2YQvQGvIW"
      },
      "source": [
        "**Overview**: In this workshop, students assemble a skeleton of the final project pipeline. We provide stub functions for each component: vision (color detection), mapping (pixel-to-world), motion planning (trajectory generation), and decision-making. End of project integration skeleton. Fill in TODOs and verify each component! (Mentors should encourage testing each part and provide prompts)."
      ]
    },
    {
      "cell_type": "markdown",
      "metadata": {
        "id": "4NngBITjHSOr"
      },
      "source": [
        "**Guidance for Students**:\n",
        "- Fill in each TODO by implementing the required logic or algorithm.\n",
        "- After writing code, test each function independently (e.g., show the mask in detect_red_circle).\n",
        "- Use print statements or plots to verify outputs at each stage.\n",
        "- Collaborate with peers: have someone review your pixel_to_world math or decision rules.\n"
      ]
    },
    {
      "cell_type": "code",
      "execution_count": null,
      "metadata": {
        "colab": {
          "base_uri": "https://localhost:8080/"
        },
        "id": "5ILv4l0b_6dJ",
        "outputId": "4b0e8373-3286-4f82-c249-463b71a78ac3"
      },
      "outputs": [
        {
          "name": "stdout",
          "output_type": "stream",
          "text": [
            "Collecting pybullet\n",
            "  Downloading pybullet-3.2.7-cp311-cp311-manylinux_2_17_x86_64.manylinux2014_x86_64.whl.metadata (1.8 kB)\n",
            "Requirement already satisfied: opencv-python in /usr/local/lib/python3.11/dist-packages (4.11.0.86)\n",
            "Requirement already satisfied: numpy in /usr/local/lib/python3.11/dist-packages (2.0.2)\n",
            "Requirement already satisfied: matplotlib in /usr/local/lib/python3.11/dist-packages (3.10.0)\n",
            "Requirement already satisfied: contourpy>=1.0.1 in /usr/local/lib/python3.11/dist-packages (from matplotlib) (1.3.2)\n",
            "Requirement already satisfied: cycler>=0.10 in /usr/local/lib/python3.11/dist-packages (from matplotlib) (0.12.1)\n",
            "Requirement already satisfied: fonttools>=4.22.0 in /usr/local/lib/python3.11/dist-packages (from matplotlib) (4.58.1)\n",
            "Requirement already satisfied: kiwisolver>=1.3.1 in /usr/local/lib/python3.11/dist-packages (from matplotlib) (1.4.8)\n",
            "Requirement already satisfied: packaging>=20.0 in /usr/local/lib/python3.11/dist-packages (from matplotlib) (24.2)\n",
            "Requirement already satisfied: pillow>=8 in /usr/local/lib/python3.11/dist-packages (from matplotlib) (11.2.1)\n",
            "Requirement already satisfied: pyparsing>=2.3.1 in /usr/local/lib/python3.11/dist-packages (from matplotlib) (3.2.3)\n",
            "Requirement already satisfied: python-dateutil>=2.7 in /usr/local/lib/python3.11/dist-packages (from matplotlib) (2.9.0.post0)\n",
            "Requirement already satisfied: six>=1.5 in /usr/local/lib/python3.11/dist-packages (from python-dateutil>=2.7->matplotlib) (1.17.0)\n",
            "Downloading pybullet-3.2.7-cp311-cp311-manylinux_2_17_x86_64.manylinux2014_x86_64.whl (103.2 MB)\n",
            "\u001b[2K   \u001b[90m━━━━━━━━━━━━━━━━━━━━━━━━━━━━━━━━━━━━━━━━\u001b[0m \u001b[32m103.2/103.2 MB\u001b[0m \u001b[31m7.9 MB/s\u001b[0m eta \u001b[36m0:00:00\u001b[0m\n",
            "\u001b[?25hInstalling collected packages: pybullet\n",
            "Successfully installed pybullet-3.2.7\n"
          ]
        }
      ],
      "source": [
        "!pip install pybullet opencv-python numpy matplotlib"
      ]
    },
    {
      "cell_type": "code",
      "execution_count": null,
      "metadata": {
        "id": "AR_wt7EmG3nD"
      },
      "outputs": [],
      "source": [
        "import numpy as np\n",
        "import cv2\n",
        "import pybullet as p, pybullet_data\n",
        "import matplotlib.pyplot as plt"
      ]
    },
    {
      "cell_type": "code",
      "execution_count": null,
      "metadata": {
        "colab": {
          "base_uri": "https://localhost:8080/",
          "height": 428
        },
        "id": "yhEl1Ar6G4sl",
        "outputId": "95bf2266-493f-489d-f195-45875e5e9508"
      },
      "outputs": [
        {
          "data": {
            "image/png": "[encoded data removed]",
            "text/plain": [
              "<Figure size 640x480 with 1 Axes>"
            ]
          },
          "metadata": {},
          "output_type": "display_data"
        }
      ],
      "source": [
        "# Create or load the synthetic red-circle image\n",
        "image = np.zeros((200, 200, 3), dtype=np.uint8)\n",
        "cv2.circle(image, (100, 100), 50, (0, 0, 255), -1)\n",
        "plt.imshow(cv2.cvtColor(image, cv2.COLOR_BGR2RGB))\n",
        "plt.title('Synthetic Image for Final Project')\n",
        "plt.axis('off')\n",
        "plt.show()\n"
      ]
    },
    {
      "cell_type": "code",
      "execution_count": null,
      "metadata": {
        "id": "h_XL6bTtG5X1"
      },
      "outputs": [],
      "source": [
        "def detect_red_circle(image):\n",
        "    \"\"\"\n",
        "    Detect the red circle in the image and return its center (cx, cy).\n",
        "    TODO: Implement color detection (HSV threshold + contour).\n",
        "    \"\"\"\n",
        "    # Example placeholder implementation (to be replaced)\n",
        "    return None\n"
      ]
    },
    {
      "cell_type": "code",
      "execution_count": null,
      "metadata": {
        "id": "0Ikc6EAuG6gA"
      },
      "outputs": [],
      "source": [
        "def pixel_to_world(cx, cy, image_size, plane_size):\n",
        "    \"\"\"\n",
        "    Map pixel coordinates (cx, cy) to world coordinates (x, y).\n",
        "    image_size: (height, width), plane_size: size of plane in meters.\n",
        "    TODO: Implement actual calibration mapping.\n",
        "    \"\"\"\n",
        "    # Example placeholder: center of image maps to (0,0)\n",
        "    return (0.0, 0.0)\n"
      ]
    },
    {
      "cell_type": "code",
      "execution_count": null,
      "metadata": {
        "id": "mLb1KTbBG7hU"
      },
      "outputs": [],
      "source": [
        "def plan_trajectory(start_angles, target_position):\n",
        "    \"\"\"\n",
        "    Plan a joint-space trajectory from start_angles to reach target_position (x,y,z).\n",
        "    TODO: Implement motion planning (e.g., linear interpolation + IK).\n",
        "    \"\"\"\n",
        "    # Placeholder: return an empty list for now\n",
        "    return []\n"
      ]
    },
    {
      "cell_type": "code",
      "execution_count": null,
      "metadata": {
        "id": "HKr-6ISfG8Xx"
      },
      "outputs": [],
      "source": [
        "def decide_bin(features):\n",
        "    \"\"\"\n",
        "    Decide sorting bin based on object features (e.g., [hue, area]).\n",
        "    TODO: Implement decision logic (rule-based or ML).\n",
        "    \"\"\"\n",
        "    # Placeholder: always choose bin 0\n",
        "    return 0\n"
      ]
    },
    {
      "cell_type": "code",
      "execution_count": null,
      "metadata": {
        "colab": {
          "base_uri": "https://localhost:8080/"
        },
        "id": "nQYDBOQlG9QS",
        "outputId": "afd88bba-5552-4def-b33d-abf48e029f6a"
      },
      "outputs": [
        {
          "name": "stdout",
          "output_type": "stream",
          "text": [
            "Detected center: None\n",
            "Mapped world coords: None\n",
            "Planned trajectory: []\n",
            "Decided bin: 0\n"
          ]
        }
      ],
      "source": [
        "# Main integration pipeline outline\n",
        "# 1. Vision: detect red circle\n",
        "detected_center = detect_red_circle(image)  # Expected to return (cx, cy)\n",
        "print(\"Detected center:\", detected_center)\n",
        "\n",
        "# 2. Mapping: convert pixel to world coordinates\n",
        "if detected_center:\n",
        "    world_coords = pixel_to_world(detected_center[0], detected_center[1], image.shape[:2], 1.0)\n",
        "else:\n",
        "    world_coords = None\n",
        "print(\"Mapped world coords:\", world_coords)\n",
        "\n",
        "# 3. Motion Planning: generate trajectory from home to world_coords\n",
        "start_angles = [0.0, 0.0, 0.0]  # Example start pose\n",
        "trajectory = plan_trajectory(start_angles, world_coords)\n",
        "print(\"Planned trajectory:\", trajectory)\n",
        "\n",
        "# 4. Decision Making: choose sorting bin based on features\n",
        "# For example, compute mean hue and area for features\n",
        "hue_mean = hsv[:,:,0].mean() if 'hsv' in globals() else 0\n",
        "area_sum = np.sum(cv2.inRange(cv2.cvtColor(image, cv2.COLOR_BGR2HSV), np.array([0,100,100]), np.array([10,255,255]))>0)\n",
        "decision = decide_bin([hue_mean, area_sum])\n",
        "print(\"Decided bin:\", decision)\n"
      ]
    },
    {
      "cell_type": "code",
      "execution_count": null,
      "metadata": {
        "colab": {
          "base_uri": "https://localhost:8080/"
        },
        "id": "NP7Tbp07G-pl",
        "outputId": "25459fab-7ab5-4de9-d370-967e0cb467f6"
      },
      "outputs": [
        {
          "name": "stdout",
          "output_type": "stream",
          "text": [
            "Simulation ready (plane + KUKA).\n"
          ]
        }
      ],
      "source": [
        "# Setup simulation (plane + KUKA robot) for final integration\n",
        "p.connect(p.DIRECT)\n",
        "p.setAdditionalSearchPath(pybullet_data.getDataPath())\n",
        "planeId = p.loadURDF(\"plane.urdf\")\n",
        "kukaId  = p.loadURDF(\"kuka_iiwa/model.urdf\", useFixedBase=True)\n",
        "print(\"Simulation ready (plane + KUKA).\")\n"
      ]
    },
    {
      "cell_type": "code",
      "execution_count": null,
      "metadata": {
        "colab": {
          "base_uri": "https://localhost:8080/"
        },
        "id": "OIxFIkhtG_gy",
        "outputId": "09b48f77-bc9a-4de3-e326-5107f29dce27"
      },
      "outputs": [
        {
          "name": "stdout",
          "output_type": "stream",
          "text": [
            "Executed trajectory in simulation (stub).\n"
          ]
        }
      ],
      "source": [
        "# (Placeholders) In an actual run, we would execute the trajectory here\n",
        "for joint_angles in trajectory:\n",
        "    for j, angle in enumerate(joint_angles):\n",
        "        p.resetJointState(kukaId, j, angle)\n",
        "    p.stepSimulation()\n",
        "print(\"Executed trajectory in simulation (stub).\")\n"
      ]
    },
    {
      "cell_type": "code",
      "execution_count": null,
      "metadata": {
        "colab": {
          "base_uri": "https://localhost:8080/"
        },
        "id": "6UaiPElBHAiQ",
        "outputId": "35d842c0-3306-4bca-f01a-30f8aa2728af"
      },
      "outputs": [
        {
          "name": "stdout",
          "output_type": "stream",
          "text": [
            "Simulation ended.\n"
          ]
        }
      ],
      "source": [
        "p.disconnect()\n",
        "print(\"Simulation ended.\")\n"
      ]
    },
    {
      "cell_type": "code",
      "execution_count": null,
      "metadata": {
        "colab": {
          "base_uri": "https://localhost:8080/"
        },
        "id": "ntAbhViPHBUJ",
        "outputId": "b0528746-eee0-46b6-e299-2357facc4e74"
      },
      "outputs": [
        {
          "name": "stdout",
          "output_type": "stream",
          "text": [
            "Test detect: None\n",
            "Test mapping: (0.0, 0.0)\n",
            "Test plan: []\n",
            "Test decide: 0\n"
          ]
        }
      ],
      "source": [
        "# Testing stub functions (with dummy inputs)\n",
        "print(\"Test detect:\", detect_red_circle(np.zeros((10,10,3), dtype=np.uint8)))\n",
        "print(\"Test mapping:\", pixel_to_world(5,5,(10,10),1.0))\n",
        "print(\"Test plan:\", plan_trajectory([0,0], [0,0,0]))\n",
        "print(\"Test decide:\", decide_bin([0,0]))\n"
      ]
    },
    {
      "cell_type": "code",
      "execution_count": null,
      "metadata": {
        "colab": {
          "base_uri": "https://localhost:8080/",
          "height": 446
        },
        "id": "Vy0zHfozHCWn",
        "outputId": "98d9a9fa-7a7b-495f-b5f4-51d45a06461e"
      },
      "outputs": [
        {
          "name": "stdout",
          "output_type": "stream",
          "text": [
            "Example mask pixel count: 7845\n"
          ]
        },
        {
          "data": {
            "image/png": "[encoded data removed]",
            "text/plain": [
              "<Figure size 640x480 with 1 Axes>"
            ]
          },
          "metadata": {},
          "output_type": "display_data"
        }
      ],
      "source": [
        "# Example of mask creation (students could use this code in detect_red_circle)\n",
        "hsv = cv2.cvtColor(image, cv2.COLOR_BGR2HSV)\n",
        "mask = cv2.inRange(hsv, np.array([0,100,100]), np.array([10,255,255]))\n",
        "print(\"Example mask pixel count:\", np.sum(mask>0))\n",
        "plt.imshow(mask, cmap='gray'); plt.title('Example Mask'); plt.axis('off'); plt.show()\n"
      ]
    },
    {
      "cell_type": "code",
      "execution_count": null,
      "metadata": {
        "id": "wFDdebtQHDSc"
      },
      "outputs": [],
      "source": [
        "# Example usage of stubs with dummy trajectory\n",
        "for point in trajectory:\n",
        "    print(\"Moving joints to:\", point)\n"
      ]
    },
    {
      "cell_type": "code",
      "execution_count": null,
      "metadata": {
        "colab": {
          "base_uri": "https://localhost:8080/"
        },
        "id": "6fFP-jk9HFLh",
        "outputId": "6d39a92f-d2ae-4488-a73c-0a79d2e07ec6"
      },
      "outputs": [
        {
          "name": "stdout",
          "output_type": "stream",
          "text": [
            "Hue avg = 0.0, Area = 7845\n",
            "Bin choice (stub): 0\n"
          ]
        }
      ],
      "source": [
        "hue_val = hsv[:,:,0].mean() if 'hsv' in globals() else 0\n",
        "area_val = np.sum(mask > 0)\n",
        "print(f\"Hue avg = {hue_val:.1f}, Area = {area_val}\")\n",
        "print(\"Bin choice (stub):\", decide_bin([hue_val, area_val]))\n"
      ]
    },
    {
      "cell_type": "markdown",
      "metadata": {
        "id": "2PJ-t6BhJ4Fz"
      },
      "source": [
        "**🛠️ Workshop Checklist**\n",
        "\n",
        "1. Vision ✅  \n",
        "   - `detect_red_circle` returns `(cx,cy)` for at least 3 test images.  \n",
        "\n",
        "2. Mapping ✅  \n",
        "   - Print `(cx,cy) → (x_w,y_w)`; verify by placing a PyBullet sphere.  \n",
        "\n",
        "3. Planning ✅  \n",
        "   - `plan_trajectory` outputs ≥ 5 waypoints.  \n",
        "   - Plot each joint vs. step to confirm smoothness.  \n",
        "\n",
        "4. Decision-making ✅  \n",
        "   - Show confusion matrix on validation set.  \n",
        "\n",
        "5. End‑to‑End Demo 🚀  \n",
        "   - Run pipeline; arm should point at sphere, then print chosen bin.  \n",
        "   - Peer‑review: trade computers and test each other’s notebooks.\n",
        "\n",
        "**🌟 Reflection**\n",
        "\n",
        "- *Where did most bugs appear (vision, mapping, planning, decision)?*  \n",
        "- *If given a real robot, which module would likely need the most recalibration?*  \n",
        "- *What one improvement would you add if you had another day?*\n"
      ]
    },
    {
      "cell_type": "markdown",
      "metadata": {
        "id": "3BOI7FjDHJQP"
      },
      "source": [
        "Note: Replace all 'TODO' sections above with your implementations."
      ]
    },
    {
      "cell_type": "code",
      "execution_count": null,
      "metadata": {
        "colab": {
          "base_uri": "https://localhost:8080/"
        },
        "id": "DWh8lH4CHHZe",
        "outputId": "8739d52e-b101-4984-a642-6bccadd52cfc"
      },
      "outputs": [
        {
          "name": "stdout",
          "output_type": "stream",
          "text": [
            "Test mapping: pixel (80, 120) -> world (0.0, 0.0)\n"
          ]
        }
      ],
      "source": [
        "# Test mapping with a sample pixel\n",
        "test_center = (80, 120)\n",
        "mapped = pixel_to_world(test_center[0], test_center[1], image.shape[:2], 1.0)\n",
        "print(f\"Test mapping: pixel {test_center} -> world {mapped}\")\n"
      ]
    }
  ],
  "metadata": {
    "colab": {
      "provenance": []
    },
    "kernelspec": {
      "display_name": "Python 3",
      "name": "python3"
    },
    "language_info": {
      "name": "python"
    }
  },
  "nbformat": 4,
  "nbformat_minor": 0
}
