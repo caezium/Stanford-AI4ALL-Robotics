{
  "cells": [
    {
      "cell_type": "markdown",
      "metadata": {
        "id": "DojKnVW_E6UI"
      },
      "source": [
        "# Day 7 – Session 2: Debugging and Parameter Tuning"
      ]
    },
    {
      "cell_type": "markdown",
      "metadata": {
        "id": "3IX2GzgHE8GP"
      },
      "source": [
        "**Overview**: In this session, students debug the vision-to-simulation pipeline. We print intermediate values, plot intermediate results, and experiment with tuning the HSV thresholds. By visualizing the mask and contours for different threshold values, students see how parameter changes affect detection accuracy and final mapping.\n",
        "\n",
        "**Steps for debugging**:\n",
        "- Display the original image and mask side by side.\n",
        "- Print the number of detected pixels and contours.\n",
        "- Compare detection results using different HSV thresholds (e.g., stricter or looser ranges).\n",
        "- Compute the error between the detected center and the known center (in both pixel and world units).\n",
        "- Plot how changing the hue threshold affects the detection error.\n"
      ]
    },
    {
      "cell_type": "code",
      "execution_count": null,
      "metadata": {
        "colab": {
          "base_uri": "https://localhost:8080/"
        },
        "id": "jhvlpHqP_xfC",
        "outputId": "a1e3feed-b868-4919-a152-ca8c63bc8b9d"
      },
      "outputs": [
        {
          "name": "stdout",
          "output_type": "stream",
          "text": [
            "Collecting pybullet\n",
            "  Downloading pybullet-3.2.7-cp311-cp311-manylinux_2_17_x86_64.manylinux2014_x86_64.whl.metadata (1.8 kB)\n",
            "Requirement already satisfied: opencv-python in /usr/local/lib/python3.11/dist-packages (4.11.0.86)\n",
            "Requirement already satisfied: matplotlib in /usr/local/lib/python3.11/dist-packages (3.10.0)\n",
            "Requirement already satisfied: numpy in /usr/local/lib/python3.11/dist-packages (2.0.2)\n",
            "Requirement already satisfied: contourpy>=1.0.1 in /usr/local/lib/python3.11/dist-packages (from matplotlib) (1.3.2)\n",
            "Requirement already satisfied: cycler>=0.10 in /usr/local/lib/python3.11/dist-packages (from matplotlib) (0.12.1)\n",
            "Requirement already satisfied: fonttools>=4.22.0 in /usr/local/lib/python3.11/dist-packages (from matplotlib) (4.58.1)\n",
            "Requirement already satisfied: kiwisolver>=1.3.1 in /usr/local/lib/python3.11/dist-packages (from matplotlib) (1.4.8)\n",
            "Requirement already satisfied: packaging>=20.0 in /usr/local/lib/python3.11/dist-packages (from matplotlib) (24.2)\n",
            "Requirement already satisfied: pillow>=8 in /usr/local/lib/python3.11/dist-packages (from matplotlib) (11.2.1)\n",
            "Requirement already satisfied: pyparsing>=2.3.1 in /usr/local/lib/python3.11/dist-packages (from matplotlib) (3.2.3)\n",
            "Requirement already satisfied: python-dateutil>=2.7 in /usr/local/lib/python3.11/dist-packages (from matplotlib) (2.9.0.post0)\n",
            "Requirement already satisfied: six>=1.5 in /usr/local/lib/python3.11/dist-packages (from python-dateutil>=2.7->matplotlib) (1.17.0)\n",
            "Downloading pybullet-3.2.7-cp311-cp311-manylinux_2_17_x86_64.manylinux2014_x86_64.whl (103.2 MB)\n",
            "\u001b[2K   \u001b[90m━━━━━━━━━━━━━━━━━━━━━━━━━━━━━━━━━━━━━━━━\u001b[0m \u001b[32m103.2/103.2 MB\u001b[0m \u001b[31m7.4 MB/s\u001b[0m eta \u001b[36m0:00:00\u001b[0m\n",
            "\u001b[?25hInstalling collected packages: pybullet\n",
            "Successfully installed pybullet-3.2.7\n"
          ]
        }
      ],
      "source": [
        "!pip install pybullet opencv-python matplotlib numpy"
      ]
    },
    {
      "cell_type": "code",
      "execution_count": null,
      "metadata": {
        "id": "DM9rOQkyFCvc"
      },
      "outputs": [],
      "source": [
        "# Re-create the synthetic image and convert to HSV\n",
        "import cv2, numpy as np, matplotlib.pyplot as plt\n",
        "image = np.zeros((200, 200, 3), dtype=np.uint8)\n",
        "cv2.circle(image, (100, 100), 50, (0, 0, 255), -1)\n",
        "hsv = cv2.cvtColor(image, cv2.COLOR_BGR2HSV)\n",
        "plane_size = 1.0  # same scale as before"
      ]
    },
    {
      "cell_type": "code",
      "execution_count": null,
      "metadata": {
        "colab": {
          "base_uri": "https://localhost:8080/",
          "height": 377
        },
        "id": "EgG5k-1MFDtq",
        "outputId": "4e25ac72-117d-48f2-dc21-8f309af2df75"
      },
      "outputs": [
        {
          "data": {
            "image/png": "[encoded data removed]",
            "text/plain": [
              "<Figure size 800x400 with 2 Axes>"
            ]
          },
          "metadata": {},
          "output_type": "display_data"
        },
        {
          "name": "stdout",
          "output_type": "stream",
          "text": [
            "Contours found: 1\n",
            "Contour center at (100, 100)\n"
          ]
        }
      ],
      "source": [
        "# Apply our baseline threshold and show image vs mask side by side\n",
        "lower_red = np.array([0, 100, 100])\n",
        "upper_red = np.array([10, 255, 255])\n",
        "mask = cv2.inRange(hsv, lower_red, upper_red)\n",
        "\n",
        "plt.figure(figsize=(8,4))\n",
        "plt.subplot(1,2,1)\n",
        "plt.imshow(cv2.cvtColor(image, cv2.COLOR_BGR2RGB)); plt.title('Original Image'); plt.axis('off')\n",
        "plt.subplot(1,2,2)\n",
        "plt.imshow(mask, cmap='gray'); plt.title('Mask'); plt.axis('off')\n",
        "plt.show()\n",
        "\n",
        "contours, _ = cv2.findContours(mask, cv2.RETR_EXTERNAL, cv2.CHAIN_APPROX_SIMPLE)\n",
        "print(\"Contours found:\", len(contours))\n",
        "if contours:\n",
        "    M = cv2.moments(contours[0])\n",
        "    cx = int(M['m10']/M['m00']) if M['m00']!=0 else None\n",
        "    cy = int(M['m01']/M['m00']) if M['m00']!=0 else None\n",
        "    print(f\"Contour center at ({cx}, {cy})\")\n",
        "else:\n",
        "    cx, cy = None, None"
      ]
    },
    {
      "cell_type": "code",
      "execution_count": null,
      "metadata": {
        "colab": {
          "base_uri": "https://localhost:8080/",
          "height": 428
        },
        "id": "FFLzv3ATFEpX",
        "outputId": "6e298d94-853a-46d4-f6a8-63ad1b3c2c3f"
      },
      "outputs": [
        {
          "data": {
            "image/png": "[encoded data removed]",
            "text/plain": [
              "<Figure size 640x480 with 1 Axes>"
            ]
          },
          "metadata": {},
          "output_type": "display_data"
        }
      ],
      "source": [
        "# Show detected center on the image\n",
        "image_marked = image.copy()\n",
        "if cx is not None:\n",
        "    cv2.circle(image_marked, (cx, cy), 5, (0,255,0), -1)\n",
        "plt.imshow(cv2.cvtColor(image_marked, cv2.COLOR_BGR2RGB))\n",
        "plt.title('Detected Center on Image')\n",
        "plt.axis('off')\n",
        "plt.show()"
      ]
    },
    {
      "cell_type": "code",
      "execution_count": null,
      "metadata": {
        "colab": {
          "base_uri": "https://localhost:8080/"
        },
        "id": "7LOlkQ5bFFsR",
        "outputId": "542c5bf8-abfc-4203-95ed-1e6a3e172417"
      },
      "outputs": [
        {
          "name": "stdout",
          "output_type": "stream",
          "text": [
            "Mapped world coords: (0.00, 0.00)\n"
          ]
        }
      ],
      "source": [
        "# Map to world coordinates for this detection\n",
        "image_h, image_w = image.shape[:2]\n",
        "world_x = (cx/image_w)*plane_size - plane_size/2\n",
        "world_y = (cy/image_h)*plane_size - plane_size/2\n",
        "print(f\"Mapped world coords: ({world_x:.2f}, {world_y:.2f})\")"
      ]
    },
    {
      "cell_type": "code",
      "execution_count": null,
      "metadata": {
        "colab": {
          "base_uri": "https://localhost:8080/"
        },
        "id": "MfsyeVH_FGoq",
        "outputId": "85e8bf7a-9f6a-419b-e69d-b8d214d7b947"
      },
      "outputs": [
        {
          "name": "stdout",
          "output_type": "stream",
          "text": [
            "Original mask pixel count: 7845\n",
            "Tight threshold mask count: 7845\n",
            "Contours (tight): 1\n",
            "Tight threshold center: (100, 100)\n"
          ]
        }
      ],
      "source": [
        "# Count masked pixels and try tighter threshold\n",
        "print(\"Original mask pixel count:\", np.sum(mask>0))\n",
        "mask_tight = cv2.inRange(hsv, np.array([0, 150, 150]), np.array([10, 255, 255]))\n",
        "print(\"Tight threshold mask count:\", np.sum(mask_tight>0))\n",
        "\n",
        "contours_t, _ = cv2.findContours(mask_tight, cv2.RETR_EXTERNAL, cv2.CHAIN_APPROX_SIMPLE)\n",
        "print(\"Contours (tight):\", len(contours_t))\n",
        "if contours_t:\n",
        "    M_t = cv2.moments(contours_t[0])\n",
        "    cx_t = int(M_t['m10']/M_t['m00'])\n",
        "    cy_t = int(M_t['m01']/M_t['m00'])\n",
        "    print(f\"Tight threshold center: ({cx_t}, {cy_t})\")\n",
        "else:\n",
        "    cx_t, cy_t = None, None"
      ]
    },
    {
      "cell_type": "code",
      "execution_count": null,
      "metadata": {
        "colab": {
          "base_uri": "https://localhost:8080/",
          "height": 428
        },
        "id": "3EDjn2dXFH_G",
        "outputId": "542d960a-a0eb-4bdc-80f7-93ff34a9ce12"
      },
      "outputs": [
        {
          "data": {
            "image/png": "[encoded data removed]",
            "text/plain": [
              "<Figure size 640x480 with 1 Axes>"
            ]
          },
          "metadata": {},
          "output_type": "display_data"
        }
      ],
      "source": [
        "# Display detection with tight threshold\n",
        "image_tight = image.copy()\n",
        "if cx_t is not None:\n",
        "    cv2.circle(image_tight, (cx_t, cy_t), 5, (0,255,0), -1)\n",
        "plt.imshow(cv2.cvtColor(image_tight, cv2.COLOR_BGR2RGB))\n",
        "plt.title('Detection with Tight Threshold')\n",
        "plt.axis('off')\n",
        "plt.show()\n"
      ]
    },
    {
      "cell_type": "code",
      "execution_count": null,
      "metadata": {
        "colab": {
          "base_uri": "https://localhost:8080/"
        },
        "id": "j7_1Ox9bFJFt",
        "outputId": "b64fe5f0-cca7-4f8f-ffe3-41735db05f22"
      },
      "outputs": [
        {
          "name": "stdout",
          "output_type": "stream",
          "text": [
            "Loose threshold mask count: 7845\n",
            "Contours (loose): 1\n",
            "Loose threshold center: (100, 100)\n"
          ]
        }
      ],
      "source": [
        "# Try a looser threshold (expand hue range) and evaluate\n",
        "mask_loose = cv2.inRange(hsv, np.array([0, 50, 50]), np.array([20, 255, 255]))\n",
        "print(\"Loose threshold mask count:\", np.sum(mask_loose>0))\n",
        "\n",
        "contours_l, _ = cv2.findContours(mask_loose, cv2.RETR_EXTERNAL, cv2.CHAIN_APPROX_SIMPLE)\n",
        "print(\"Contours (loose):\", len(contours_l))\n",
        "if contours_l:\n",
        "    M_l = cv2.moments(contours_l[0])\n",
        "    cx_l = int(M_l['m10']/M_l['m00'])\n",
        "    cy_l = int(M_l['m01']/M_l['m00'])\n",
        "    print(f\"Loose threshold center: ({cx_l}, {cy_l})\")\n",
        "else:\n",
        "    cx_l, cy_l = None, None\n"
      ]
    },
    {
      "cell_type": "code",
      "execution_count": null,
      "metadata": {
        "colab": {
          "base_uri": "https://localhost:8080/",
          "height": 428
        },
        "id": "hw3aYt4EFKLP",
        "outputId": "bda1d172-b094-4eae-b845-bfdb8a77de23"
      },
      "outputs": [
        {
          "data": {
            "image/png": "[encoded data removed]",
            "text/plain": [
              "<Figure size 640x480 with 1 Axes>"
            ]
          },
          "metadata": {},
          "output_type": "display_data"
        }
      ],
      "source": [
        "# Display detection with loose threshold\n",
        "image_loose = image.copy()\n",
        "if contours_l:\n",
        "    cv2.circle(image_loose, (cx_l, cy_l), 5, (0,255,0), -1)\n",
        "plt.imshow(cv2.cvtColor(image_loose, cv2.COLOR_BGR2RGB))\n",
        "plt.title('Detection with Loose Threshold')\n",
        "plt.axis('off')\n",
        "plt.show()"
      ]
    },
    {
      "cell_type": "code",
      "execution_count": null,
      "metadata": {
        "colab": {
          "base_uri": "https://localhost:8080/"
        },
        "id": "QVHf9LnkFLot",
        "outputId": "32f1452b-22fe-48b2-926f-236679b31e3c"
      },
      "outputs": [
        {
          "name": "stdout",
          "output_type": "stream",
          "text": [
            "Pixel error: 0.00 px, World error: 0.000 m\n"
          ]
        }
      ],
      "source": [
        "# Compute pixel-center error compared to true center (100,100)\n",
        "true_center = np.array([100, 100])\n",
        "det_center = np.array([cx, cy])\n",
        "pixel_error = np.linalg.norm(true_center - det_center)\n",
        "true_world = np.array([0.0, 0.0])  # known mapping\n",
        "det_world = np.array([world_x, world_y])\n",
        "world_error = np.linalg.norm(true_world - det_world)\n",
        "print(f\"Pixel error: {pixel_error:.2f} px, World error: {world_error:.3f} m\")"
      ]
    },
    {
      "cell_type": "code",
      "execution_count": null,
      "metadata": {
        "colab": {
          "base_uri": "https://localhost:8080/"
        },
        "id": "utT6G8wrFMoy",
        "outputId": "04d122e7-35b9-44cd-c396-5304cd292691"
      },
      "outputs": [
        {
          "name": "stdout",
          "output_type": "stream",
          "text": [
            "Hue lower bound vs pixel error: [(0, np.float64(0.0)), (5, nan), (10, nan), (15, nan), (20, nan), (25, nan), (30, nan)]\n"
          ]
        }
      ],
      "source": [
        "# Experiment: vary the hue lower bound and track error\n",
        "errors = []\n",
        "h_values = list(range(0, 31, 5))\n",
        "for h in h_values:\n",
        "    lower = np.array([h, 100, 100])\n",
        "    upper = np.array([h+10, 255, 255])\n",
        "    mask_tmp = cv2.inRange(hsv, lower, upper)\n",
        "    contours_tmp, _ = cv2.findContours(mask_tmp, cv2.RETR_EXTERNAL, cv2.CHAIN_APPROX_SIMPLE)\n",
        "    if contours_tmp:\n",
        "        M_tmp = cv2.moments(contours_tmp[0])\n",
        "        cx_tmp = int(M_tmp['m10']/M_tmp['m00'])\n",
        "        cy_tmp = int(M_tmp['m01']/M_tmp['m00'])\n",
        "        err = np.linalg.norm(true_center - np.array([cx_tmp, cy_tmp]))\n",
        "        errors.append(err)\n",
        "    else:\n",
        "        errors.append(np.nan)\n",
        "print(\"Hue lower bound vs pixel error:\", list(zip(h_values, errors)))\n"
      ]
    },
    {
      "cell_type": "code",
      "execution_count": null,
      "metadata": {
        "colab": {
          "base_uri": "https://localhost:8080/",
          "height": 472
        },
        "id": "QjRi3M9MFNzx",
        "outputId": "e0cff955-bfbc-463a-a9bb-cc96cd39673f"
      },
      "outputs": [
        {
          "data": {
            "image/png": "[encoded data removed]",
            "text/plain": [
              "<Figure size 640x480 with 1 Axes>"
            ]
          },
          "metadata": {},
          "output_type": "display_data"
        }
      ],
      "source": [
        "# Plot error vs hue lower bound\n",
        "plt.plot(h_values, [e if not np.isnan(e) else max(h_values) for e in errors], 'o-')\n",
        "plt.title('Detection Error vs Hue Lower Bound')\n",
        "plt.xlabel('Hue Lower Bound')\n",
        "plt.ylabel('Pixel distance error')\n",
        "plt.show()\n"
      ]
    },
    {
      "cell_type": "markdown",
      "metadata": {
        "id": "K_hLrdtoJETJ"
      },
      "source": [
        "🔍 **Debug Challenge**\n",
        "\n",
        "**Goal:** Reduce pixel‑center error ⬇️ to **< 2 px** while keeping the mask free of noise.\n",
        "\n",
        "1. Adjust `lower_red` / `upper_red` H‑S‑V values.  \n",
        "2. Re‑run detection; print `pixel_error`.  \n",
        "3. Plot a table of `(H_low, S_low, V_low) → pixel_error` for at least 5 combinations.  \n",
        "\n",
        "🚀 Stretch\n",
        "\n",
        "- Try **morphological operations** (`cv2.morphologyEx`) on the mask to remove speckle noise.  \n",
        "- Measure how much processing time each additional debug print / plot adds; is it worth it?"
      ]
    },
    {
      "cell_type": "markdown",
      "metadata": {
        "id": "GcI8-wDMFPbM"
      },
      "source": [
        "**Mentor Discussion Prompts**:\n",
        "- How did changing the HSV range affect the mask and detection?\n",
        "- Did tightening the range reduce noise but risk missing the object?\n",
        "- How does pixel error translate into world-coordinate error in meters?\n",
        "- Why might the detected center shift even if the object is clearly visible? (Consider asymmetric lighting or contour shape.)\n",
        "- How would you systematically choose HSV values for robust detection?"
      ]
    }
  ],
  "metadata": {
    "colab": {
      "provenance": []
    },
    "kernelspec": {
      "display_name": "Python 3",
      "name": "python3"
    },
    "language_info": {
      "name": "python"
    }
  },
  "nbformat": 4,
  "nbformat_minor": 0
}
