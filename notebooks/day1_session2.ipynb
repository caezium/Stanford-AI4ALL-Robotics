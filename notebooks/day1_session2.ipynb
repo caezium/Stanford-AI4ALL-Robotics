{
  "cells": [
    {
      "cell_type": "markdown",
      "metadata": {
        "id": "I-3sW7F0hmo8"
      },
      "source": [
        "# Notebook 2: Technical Environment Setup and Git Introduction"
      ]
    },
    {
      "cell_type": "markdown",
      "metadata": {
        "id": "2hTFZTqnhqKa"
      },
      "source": [
        "## Introduction 🔧\n",
        "\n",
        "Welcome back! Now that you’ve learned the basics of AI and robotics, it’s time to set up our technical environment. Think of this as preparing our toolbox before we build something. Today, we’ll make sure you have:\n",
        "- Python 3 installed (the programming language we’ll use).\n",
        "- Access to Jupyter Notebooks (an environment like this one, where you can write/run code easily).\n",
        "- Git and GitHub set up for version control, so you can collaborate and save your code.\n",
        "\n",
        "By the end of this session, you’ll have all the software ready to go and know the basics of using Git 🚀. This might feel a bit less exciting than robots, but it’s super important. Even the best AI ideas need the right setup to come to life!\n",
        "\n",
        "(If you’re using Google Colab right now, some of these steps are already done for you – Colab has Python and notebooks pre-installed. But we’ll show you how to set things up on your own computer too, in case you continue your projects offline.)"
      ]
    },
    {
      "cell_type": "markdown",
      "metadata": {
        "id": "TuoQCDw1hyZP"
      },
      "source": [
        "## 1. Installing Python 3 🐍\n",
        "\n",
        "Python is a popular programming language for AI, known for its simple syntax and powerful libraries. We will use Python 3 (the latest version of Python). Many of you might already have it, but if not, here’s how to install:\n",
        "- **Windows**: Download the Python installer from the official website (python.org) and run it. Make sure to check “Add Python to PATH” during installation.\n",
        "- **Mac**: Python 3 might be preinstalled on newer macOS. If not, you can use the installer from python.org or install via Homebrew (`brew install python3`).\n",
        "- **Linux**: Typically comes with Python, but you can install via your package manager (e.g., `sudo apt-get install python3` on Ubuntu).\n",
        "\n",
        "For all systems, the official Python website has a download for Python 3.x. Always choose Python 3 (not Python 2, which is outdated).\n",
        "\n",
        "Once installed, you should be able to open a terminal/command prompt and type `python3 --version` (or `python --version`) to see if it’s correctly installed.\n",
        "\n",
        "Let’s verify the Python version in this notebook environment:\n"
      ]
    },
    {
      "cell_type": "code",
      "execution_count": null,
      "metadata": {
        "colab": {
          "base_uri": "https://localhost:8080/"
        },
        "id": "I9_dDbq3h5Z_",
        "outputId": "ea54d740-6b93-4f8b-936b-53d24116a9d1"
      },
      "outputs": [
        {
          "name": "stdout",
          "output_type": "stream",
          "text": [
            "Python 3.11.12\n"
          ]
        }
      ],
      "source": [
        "!python --version\n"
      ]
    },
    {
      "cell_type": "markdown",
      "metadata": {
        "id": "K-kQ7W48h8N3"
      },
      "source": [
        "Output should show a Python 3.x version. If you run the above cell, you likely see something like Python 3.10.12 (version may vary). Colab and most modern systems default to Python 3.\n",
        "\n",
        " If you get an error or a different version (like Python 2.x), then Python 3 isn’t set as default. On a personal computer, you might need to adjust your PATH or use the command python3. On Colab, it should be fine.\n",
        "\n",
        " Why Python? It’s widely used in AI because of libraries like TensorFlow, PyTorch (for machine learning), and OpenCV (for computer vision), among others. You’ll get to play with some of these later!"
      ]
    },
    {
      "cell_type": "markdown",
      "metadata": {
        "id": "htq7iQkBiEup"
      },
      "source": [
        "## [Local Installation Only] Install Jupyter Notebook\n",
        "\n",
        "A Jupyter Notebook is the interface you’re reading and using right now – it lets you mix code and text (and images, etc.) in one document. If you’re on Google Colab, you’re effectively using a Jupyter-like environment hosted by Google. If you want to run notebooks locally on your computer, you need to install Jupyter.\n",
        "\n",
        "The easiest way: after installing Python, open a terminal and run:\n"
      ]
    },
    {
      "cell_type": "code",
      "execution_count": 3,
      "metadata": {
        "colab": {
          "base_uri": "https://localhost:8080/"
        },
        "id": "BlgglRYyiKch",
        "outputId": "f83aa125-87a3-46ff-a828-2985d9f9addf"
      },
      "outputs": [
        {
          "name": "stdout",
          "output_type": "stream",
          "text": [
            "Defaulting to user installation because normal site-packages is not writeable\n",
            "Looking in indexes: https://mirrors.tuna.tsinghua.edu.cn/pypi/web/simple\n",
            "Requirement already satisfied: notebook in /Users/henry/Library/Python/3.13/lib/python/site-packages (7.4.3)\n",
            "Requirement already satisfied: jupyter-server<3,>=2.4.0 in /Users/henry/Library/Python/3.13/lib/python/site-packages (from notebook) (2.16.0)\n",
            "Requirement already satisfied: jupyterlab-server<3,>=2.27.1 in /Users/henry/Library/Python/3.13/lib/python/site-packages (from notebook) (2.27.3)\n",
            "Requirement already satisfied: jupyterlab<4.5,>=4.4.3 in /Users/henry/Library/Python/3.13/lib/python/site-packages (from notebook) (4.4.3)\n",
            "Requirement already satisfied: notebook-shim<0.3,>=0.2 in /Users/henry/Library/Python/3.13/lib/python/site-packages (from notebook) (0.2.4)\n",
            "Requirement already satisfied: tornado>=6.2.0 in /Users/henry/Library/Python/3.13/lib/python/site-packages (from notebook) (6.5.1)\n",
            "Requirement already satisfied: anyio>=3.1.0 in /Users/henry/Library/Python/3.13/lib/python/site-packages (from jupyter-server<3,>=2.4.0->notebook) (4.9.0)\n",
            "Requirement already satisfied: argon2-cffi>=21.1 in /Users/henry/Library/Python/3.13/lib/python/site-packages (from jupyter-server<3,>=2.4.0->notebook) (25.1.0)\n",
            "Requirement already satisfied: jinja2>=3.0.3 in /Library/Frameworks/Python.framework/Versions/3.13/lib/python3.13/site-packages (from jupyter-server<3,>=2.4.0->notebook) (3.1.6)\n",
            "Requirement already satisfied: jupyter-client>=7.4.4 in /Users/henry/Library/Python/3.13/lib/python/site-packages (from jupyter-server<3,>=2.4.0->notebook) (8.6.3)\n",
            "Requirement already satisfied: jupyter-core!=5.0.*,>=4.12 in /Users/henry/Library/Python/3.13/lib/python/site-packages (from jupyter-server<3,>=2.4.0->notebook) (5.8.1)\n",
            "Requirement already satisfied: jupyter-events>=0.11.0 in /Users/henry/Library/Python/3.13/lib/python/site-packages (from jupyter-server<3,>=2.4.0->notebook) (0.12.0)\n",
            "Requirement already satisfied: jupyter-server-terminals>=0.4.4 in /Users/henry/Library/Python/3.13/lib/python/site-packages (from jupyter-server<3,>=2.4.0->notebook) (0.5.3)\n",
            "Requirement already satisfied: nbconvert>=6.4.4 in /Users/henry/Library/Python/3.13/lib/python/site-packages (from jupyter-server<3,>=2.4.0->notebook) (7.16.6)\n",
            "Requirement already satisfied: nbformat>=5.3.0 in /Users/henry/Library/Python/3.13/lib/python/site-packages (from jupyter-server<3,>=2.4.0->notebook) (5.10.4)\n",
            "Requirement already satisfied: overrides>=5.0 in /Users/henry/Library/Python/3.13/lib/python/site-packages (from jupyter-server<3,>=2.4.0->notebook) (7.7.0)\n",
            "Requirement already satisfied: packaging>=22.0 in /Library/Frameworks/Python.framework/Versions/3.13/lib/python3.13/site-packages (from jupyter-server<3,>=2.4.0->notebook) (24.2)\n",
            "Requirement already satisfied: prometheus-client>=0.9 in /Users/henry/Library/Python/3.13/lib/python/site-packages (from jupyter-server<3,>=2.4.0->notebook) (0.22.1)\n",
            "Requirement already satisfied: pyzmq>=24 in /Users/henry/Library/Python/3.13/lib/python/site-packages (from jupyter-server<3,>=2.4.0->notebook) (27.0.0)\n",
            "Requirement already satisfied: send2trash>=1.8.2 in /Users/henry/Library/Python/3.13/lib/python/site-packages (from jupyter-server<3,>=2.4.0->notebook) (1.8.3)\n",
            "Requirement already satisfied: terminado>=0.8.3 in /Users/henry/Library/Python/3.13/lib/python/site-packages (from jupyter-server<3,>=2.4.0->notebook) (0.18.1)\n",
            "Requirement already satisfied: traitlets>=5.6.0 in /Users/henry/Library/Python/3.13/lib/python/site-packages (from jupyter-server<3,>=2.4.0->notebook) (5.14.3)\n",
            "Requirement already satisfied: websocket-client>=1.7 in /Users/henry/Library/Python/3.13/lib/python/site-packages (from jupyter-server<3,>=2.4.0->notebook) (1.8.0)\n",
            "Requirement already satisfied: async-lru>=1.0.0 in /Users/henry/Library/Python/3.13/lib/python/site-packages (from jupyterlab<4.5,>=4.4.3->notebook) (2.0.5)\n",
            "Requirement already satisfied: httpx>=0.25.0 in /Users/henry/Library/Python/3.13/lib/python/site-packages (from jupyterlab<4.5,>=4.4.3->notebook) (0.28.1)\n",
            "Requirement already satisfied: ipykernel>=6.5.0 in /Users/henry/Library/Python/3.13/lib/python/site-packages (from jupyterlab<4.5,>=4.4.3->notebook) (6.29.5)\n",
            "Requirement already satisfied: jupyter-lsp>=2.0.0 in /Users/henry/Library/Python/3.13/lib/python/site-packages (from jupyterlab<4.5,>=4.4.3->notebook) (2.2.5)\n",
            "Requirement already satisfied: setuptools>=41.1.0 in /Users/henry/Library/Python/3.13/lib/python/site-packages (from jupyterlab<4.5,>=4.4.3->notebook) (80.9.0)\n",
            "Requirement already satisfied: babel>=2.10 in /Users/henry/Library/Python/3.13/lib/python/site-packages (from jupyterlab-server<3,>=2.27.1->notebook) (2.17.0)\n",
            "Requirement already satisfied: json5>=0.9.0 in /Users/henry/Library/Python/3.13/lib/python/site-packages (from jupyterlab-server<3,>=2.27.1->notebook) (0.12.0)\n",
            "Requirement already satisfied: jsonschema>=4.18.0 in /Users/henry/Library/Python/3.13/lib/python/site-packages (from jupyterlab-server<3,>=2.27.1->notebook) (4.24.0)\n",
            "Requirement already satisfied: requests>=2.31 in /Library/Frameworks/Python.framework/Versions/3.13/lib/python3.13/site-packages (from jupyterlab-server<3,>=2.27.1->notebook) (2.31.0)\n",
            "Requirement already satisfied: idna>=2.8 in /Users/henry/Library/Python/3.13/lib/python/site-packages (from anyio>=3.1.0->jupyter-server<3,>=2.4.0->notebook) (3.10)\n",
            "Requirement already satisfied: sniffio>=1.1 in /Users/henry/Library/Python/3.13/lib/python/site-packages (from anyio>=3.1.0->jupyter-server<3,>=2.4.0->notebook) (1.3.1)\n",
            "Requirement already satisfied: argon2-cffi-bindings in /Users/henry/Library/Python/3.13/lib/python/site-packages (from argon2-cffi>=21.1->jupyter-server<3,>=2.4.0->notebook) (21.2.0)\n",
            "Requirement already satisfied: certifi in /Library/Frameworks/Python.framework/Versions/3.13/lib/python3.13/site-packages (from httpx>=0.25.0->jupyterlab<4.5,>=4.4.3->notebook) (2025.1.31)\n",
            "Requirement already satisfied: httpcore==1.* in /Users/henry/Library/Python/3.13/lib/python/site-packages (from httpx>=0.25.0->jupyterlab<4.5,>=4.4.3->notebook) (1.0.8)\n",
            "Requirement already satisfied: h11<0.15,>=0.13 in /Users/henry/Library/Python/3.13/lib/python/site-packages (from httpcore==1.*->httpx>=0.25.0->jupyterlab<4.5,>=4.4.3->notebook) (0.14.0)\n",
            "Requirement already satisfied: appnope in /Users/henry/Library/Python/3.13/lib/python/site-packages (from ipykernel>=6.5.0->jupyterlab<4.5,>=4.4.3->notebook) (0.1.4)\n",
            "Requirement already satisfied: comm>=0.1.1 in /Users/henry/Library/Python/3.13/lib/python/site-packages (from ipykernel>=6.5.0->jupyterlab<4.5,>=4.4.3->notebook) (0.2.2)\n",
            "Requirement already satisfied: debugpy>=1.6.5 in /Users/henry/Library/Python/3.13/lib/python/site-packages (from ipykernel>=6.5.0->jupyterlab<4.5,>=4.4.3->notebook) (1.8.14)\n",
            "Requirement already satisfied: ipython>=7.23.1 in /Users/henry/Library/Python/3.13/lib/python/site-packages (from ipykernel>=6.5.0->jupyterlab<4.5,>=4.4.3->notebook) (9.3.0)\n",
            "Requirement already satisfied: matplotlib-inline>=0.1 in /Users/henry/Library/Python/3.13/lib/python/site-packages (from ipykernel>=6.5.0->jupyterlab<4.5,>=4.4.3->notebook) (0.1.7)\n",
            "Requirement already satisfied: nest-asyncio in /Library/Frameworks/Python.framework/Versions/3.13/lib/python3.13/site-packages (from ipykernel>=6.5.0->jupyterlab<4.5,>=4.4.3->notebook) (1.6.0)\n",
            "Requirement already satisfied: psutil in /Users/henry/Library/Python/3.13/lib/python/site-packages (from ipykernel>=6.5.0->jupyterlab<4.5,>=4.4.3->notebook) (7.0.0)\n",
            "Requirement already satisfied: decorator in /Users/henry/Library/Python/3.13/lib/python/site-packages (from ipython>=7.23.1->ipykernel>=6.5.0->jupyterlab<4.5,>=4.4.3->notebook) (5.2.1)\n",
            "Requirement already satisfied: ipython-pygments-lexers in /Users/henry/Library/Python/3.13/lib/python/site-packages (from ipython>=7.23.1->ipykernel>=6.5.0->jupyterlab<4.5,>=4.4.3->notebook) (1.1.1)\n",
            "Requirement already satisfied: jedi>=0.16 in /Users/henry/Library/Python/3.13/lib/python/site-packages (from ipython>=7.23.1->ipykernel>=6.5.0->jupyterlab<4.5,>=4.4.3->notebook) (0.19.2)\n",
            "Requirement already satisfied: pexpect>4.3 in /Users/henry/Library/Python/3.13/lib/python/site-packages (from ipython>=7.23.1->ipykernel>=6.5.0->jupyterlab<4.5,>=4.4.3->notebook) (4.9.0)\n",
            "Requirement already satisfied: prompt_toolkit<3.1.0,>=3.0.41 in /Users/henry/Library/Python/3.13/lib/python/site-packages (from ipython>=7.23.1->ipykernel>=6.5.0->jupyterlab<4.5,>=4.4.3->notebook) (3.0.51)\n",
            "Requirement already satisfied: pygments>=2.4.0 in /Users/henry/Library/Python/3.13/lib/python/site-packages (from ipython>=7.23.1->ipykernel>=6.5.0->jupyterlab<4.5,>=4.4.3->notebook) (2.19.1)\n",
            "Requirement already satisfied: stack_data in /Users/henry/Library/Python/3.13/lib/python/site-packages (from ipython>=7.23.1->ipykernel>=6.5.0->jupyterlab<4.5,>=4.4.3->notebook) (0.6.3)\n",
            "Requirement already satisfied: wcwidth in /Users/henry/Library/Python/3.13/lib/python/site-packages (from prompt_toolkit<3.1.0,>=3.0.41->ipython>=7.23.1->ipykernel>=6.5.0->jupyterlab<4.5,>=4.4.3->notebook) (0.2.13)\n",
            "Requirement already satisfied: parso<0.9.0,>=0.8.4 in /Users/henry/Library/Python/3.13/lib/python/site-packages (from jedi>=0.16->ipython>=7.23.1->ipykernel>=6.5.0->jupyterlab<4.5,>=4.4.3->notebook) (0.8.4)\n",
            "Requirement already satisfied: MarkupSafe>=2.0 in /Library/Frameworks/Python.framework/Versions/3.13/lib/python3.13/site-packages (from jinja2>=3.0.3->jupyter-server<3,>=2.4.0->notebook) (3.0.2)\n",
            "Requirement already satisfied: attrs>=22.2.0 in /Users/henry/Library/Python/3.13/lib/python/site-packages (from jsonschema>=4.18.0->jupyterlab-server<3,>=2.27.1->notebook) (25.3.0)\n",
            "Requirement already satisfied: jsonschema-specifications>=2023.03.6 in /Users/henry/Library/Python/3.13/lib/python/site-packages (from jsonschema>=4.18.0->jupyterlab-server<3,>=2.27.1->notebook) (2025.4.1)\n",
            "Requirement already satisfied: referencing>=0.28.4 in /Users/henry/Library/Python/3.13/lib/python/site-packages (from jsonschema>=4.18.0->jupyterlab-server<3,>=2.27.1->notebook) (0.36.2)\n",
            "Requirement already satisfied: rpds-py>=0.7.1 in /Users/henry/Library/Python/3.13/lib/python/site-packages (from jsonschema>=4.18.0->jupyterlab-server<3,>=2.27.1->notebook) (0.25.1)\n",
            "Requirement already satisfied: python-dateutil>=2.8.2 in /Users/henry/Library/Python/3.13/lib/python/site-packages (from jupyter-client>=7.4.4->jupyter-server<3,>=2.4.0->notebook) (2.8.2)\n",
            "Requirement already satisfied: platformdirs>=2.5 in /Library/Frameworks/Python.framework/Versions/3.13/lib/python3.13/site-packages (from jupyter-core!=5.0.*,>=4.12->jupyter-server<3,>=2.4.0->notebook) (4.3.7)\n",
            "Requirement already satisfied: python-json-logger>=2.0.4 in /Users/henry/Library/Python/3.13/lib/python/site-packages (from jupyter-events>=0.11.0->jupyter-server<3,>=2.4.0->notebook) (3.3.0)\n",
            "Requirement already satisfied: pyyaml>=5.3 in /Library/Frameworks/Python.framework/Versions/3.13/lib/python3.13/site-packages (from jupyter-events>=0.11.0->jupyter-server<3,>=2.4.0->notebook) (6.0.2)\n",
            "Requirement already satisfied: rfc3339-validator in /Users/henry/Library/Python/3.13/lib/python/site-packages (from jupyter-events>=0.11.0->jupyter-server<3,>=2.4.0->notebook) (0.1.4)\n",
            "Requirement already satisfied: rfc3986-validator>=0.1.1 in /Users/henry/Library/Python/3.13/lib/python/site-packages (from jupyter-events>=0.11.0->jupyter-server<3,>=2.4.0->notebook) (0.1.1)\n",
            "Requirement already satisfied: fqdn in /Users/henry/Library/Python/3.13/lib/python/site-packages (from jsonschema[format-nongpl]>=4.18.0->jupyter-events>=0.11.0->jupyter-server<3,>=2.4.0->notebook) (1.5.1)\n",
            "Requirement already satisfied: isoduration in /Users/henry/Library/Python/3.13/lib/python/site-packages (from jsonschema[format-nongpl]>=4.18.0->jupyter-events>=0.11.0->jupyter-server<3,>=2.4.0->notebook) (20.11.0)\n",
            "Requirement already satisfied: jsonpointer>1.13 in /Users/henry/Library/Python/3.13/lib/python/site-packages (from jsonschema[format-nongpl]>=4.18.0->jupyter-events>=0.11.0->jupyter-server<3,>=2.4.0->notebook) (3.0.0)\n",
            "Requirement already satisfied: uri-template in /Users/henry/Library/Python/3.13/lib/python/site-packages (from jsonschema[format-nongpl]>=4.18.0->jupyter-events>=0.11.0->jupyter-server<3,>=2.4.0->notebook) (1.3.0)\n",
            "Requirement already satisfied: webcolors>=24.6.0 in /Users/henry/Library/Python/3.13/lib/python/site-packages (from jsonschema[format-nongpl]>=4.18.0->jupyter-events>=0.11.0->jupyter-server<3,>=2.4.0->notebook) (24.11.1)\n",
            "Requirement already satisfied: beautifulsoup4 in /Users/henry/Library/Python/3.13/lib/python/site-packages (from nbconvert>=6.4.4->jupyter-server<3,>=2.4.0->notebook) (4.12.3)\n",
            "Requirement already satisfied: bleach!=5.0.0 in /Users/henry/Library/Python/3.13/lib/python/site-packages (from bleach[css]!=5.0.0->nbconvert>=6.4.4->jupyter-server<3,>=2.4.0->notebook) (6.2.0)\n",
            "Requirement already satisfied: defusedxml in /Users/henry/Library/Python/3.13/lib/python/site-packages (from nbconvert>=6.4.4->jupyter-server<3,>=2.4.0->notebook) (0.7.1)\n",
            "Requirement already satisfied: jupyterlab-pygments in /Users/henry/Library/Python/3.13/lib/python/site-packages (from nbconvert>=6.4.4->jupyter-server<3,>=2.4.0->notebook) (0.3.0)\n",
            "Requirement already satisfied: mistune<4,>=2.0.3 in /Users/henry/Library/Python/3.13/lib/python/site-packages (from nbconvert>=6.4.4->jupyter-server<3,>=2.4.0->notebook) (3.1.3)\n",
            "Requirement already satisfied: nbclient>=0.5.0 in /Users/henry/Library/Python/3.13/lib/python/site-packages (from nbconvert>=6.4.4->jupyter-server<3,>=2.4.0->notebook) (0.10.2)\n",
            "Requirement already satisfied: pandocfilters>=1.4.1 in /Users/henry/Library/Python/3.13/lib/python/site-packages (from nbconvert>=6.4.4->jupyter-server<3,>=2.4.0->notebook) (1.5.1)\n",
            "Requirement already satisfied: webencodings in /Users/henry/Library/Python/3.13/lib/python/site-packages (from bleach!=5.0.0->bleach[css]!=5.0.0->nbconvert>=6.4.4->jupyter-server<3,>=2.4.0->notebook) (0.5.1)\n",
            "Requirement already satisfied: tinycss2<1.5,>=1.1.0 in /Users/henry/Library/Python/3.13/lib/python/site-packages (from bleach[css]!=5.0.0->nbconvert>=6.4.4->jupyter-server<3,>=2.4.0->notebook) (1.4.0)\n",
            "Requirement already satisfied: fastjsonschema>=2.15 in /Users/henry/Library/Python/3.13/lib/python/site-packages (from nbformat>=5.3.0->jupyter-server<3,>=2.4.0->notebook) (2.21.1)\n",
            "Requirement already satisfied: ptyprocess>=0.5 in /Users/henry/Library/Python/3.13/lib/python/site-packages (from pexpect>4.3->ipython>=7.23.1->ipykernel>=6.5.0->jupyterlab<4.5,>=4.4.3->notebook) (0.7.0)\n",
            "Requirement already satisfied: six>=1.5 in /Library/Frameworks/Python.framework/Versions/3.13/lib/python3.13/site-packages (from python-dateutil>=2.8.2->jupyter-client>=7.4.4->jupyter-server<3,>=2.4.0->notebook) (1.17.0)\n",
            "Requirement already satisfied: charset-normalizer<4,>=2 in /Users/henry/Library/Python/3.13/lib/python/site-packages (from requests>=2.31->jupyterlab-server<3,>=2.27.1->notebook) (3.3.2)\n",
            "Requirement already satisfied: urllib3<3,>=1.21.1 in /Library/Frameworks/Python.framework/Versions/3.13/lib/python3.13/site-packages (from requests>=2.31->jupyterlab-server<3,>=2.27.1->notebook) (2.3.0)\n",
            "Requirement already satisfied: cffi>=1.0.1 in /Library/Frameworks/Python.framework/Versions/3.13/lib/python3.13/site-packages (from argon2-cffi-bindings->argon2-cffi>=21.1->jupyter-server<3,>=2.4.0->notebook) (1.17.1)\n",
            "Requirement already satisfied: pycparser in /Library/Frameworks/Python.framework/Versions/3.13/lib/python3.13/site-packages (from cffi>=1.0.1->argon2-cffi-bindings->argon2-cffi>=21.1->jupyter-server<3,>=2.4.0->notebook) (2.22)\n",
            "Requirement already satisfied: soupsieve>1.2 in /Users/henry/Library/Python/3.13/lib/python/site-packages (from beautifulsoup4->nbconvert>=6.4.4->jupyter-server<3,>=2.4.0->notebook) (2.7)\n",
            "Requirement already satisfied: arrow>=0.15.0 in /Users/henry/Library/Python/3.13/lib/python/site-packages (from isoduration->jsonschema[format-nongpl]>=4.18.0->jupyter-events>=0.11.0->jupyter-server<3,>=2.4.0->notebook) (1.3.0)\n",
            "Requirement already satisfied: types-python-dateutil>=2.8.10 in /Users/henry/Library/Python/3.13/lib/python/site-packages (from arrow>=0.15.0->isoduration->jsonschema[format-nongpl]>=4.18.0->jupyter-events>=0.11.0->jupyter-server<3,>=2.4.0->notebook) (2.9.0.20250516)\n",
            "Requirement already satisfied: executing>=1.2.0 in /Users/henry/Library/Python/3.13/lib/python/site-packages (from stack_data->ipython>=7.23.1->ipykernel>=6.5.0->jupyterlab<4.5,>=4.4.3->notebook) (2.2.0)\n",
            "Requirement already satisfied: asttokens>=2.1.0 in /Users/henry/Library/Python/3.13/lib/python/site-packages (from stack_data->ipython>=7.23.1->ipykernel>=6.5.0->jupyterlab<4.5,>=4.4.3->notebook) (3.0.0)\n",
            "Requirement already satisfied: pure-eval in /Users/henry/Library/Python/3.13/lib/python/site-packages (from stack_data->ipython>=7.23.1->ipykernel>=6.5.0->jupyterlab<4.5,>=4.4.3->notebook) (0.2.3)\n",
            "Note: you may need to restart the kernel to use updated packages.\n"
          ]
        }
      ],
      "source": [
        "pip install notebook\n"
      ]
    },
    {
      "cell_type": "markdown",
      "metadata": {
        "id": "Gp-ZKe5liOR2"
      },
      "source": [
        "This installs Jupyter Notebook (and its dependencies). You can then start a notebook server by running:"
      ]
    },
    {
      "cell_type": "code",
      "execution_count": 11,
      "metadata": {
        "colab": {
          "base_uri": "https://localhost:8080/",
          "height": 108
        },
        "id": "t-Pix5-ViQFN",
        "outputId": "97aecfe7-61e2-4c90-d52d-173ce8b26c69"
      },
      "outputs": [
        {
          "name": "stdout",
          "output_type": "stream",
          "text": [
            "\u001b[32m[I 2025-06-20 02:21:23.959 ServerApp]\u001b[m jupyter_lsp | extension was successfully linked.\n",
            "\u001b[32m[I 2025-06-20 02:21:23.961 ServerApp]\u001b[m jupyter_server_terminals | extension was successfully linked.\n",
            "\u001b[32m[I 2025-06-20 02:21:23.962 ServerApp]\u001b[m jupyterlab | extension was successfully linked.\n",
            "\u001b[32m[I 2025-06-20 02:21:23.962 ServerApp]\u001b[m jupyterlab_jupytext | extension was successfully linked.\n",
            "\u001b[32m[I 2025-06-20 02:21:23.963 ServerApp]\u001b[m notebook | extension was successfully linked.\n",
            "\u001b[32m[I 2025-06-20 02:21:24.103 ServerApp]\u001b[m notebook_shim | extension was successfully linked.\n",
            "\u001b[32m[I 2025-06-20 02:21:24.123 ServerApp]\u001b[m notebook_shim | extension was successfully loaded.\n",
            "\u001b[32m[I 2025-06-20 02:21:24.124 ServerApp]\u001b[m jupyter_lsp | extension was successfully loaded.\n",
            "\u001b[32m[I 2025-06-20 02:21:24.125 ServerApp]\u001b[m jupyter_server_terminals | extension was successfully loaded.\n",
            "\u001b[32m[I 2025-06-20 02:21:24.126 LabApp]\u001b[m JupyterLab extension loaded from /Users/henry/Library/Python/3.13/lib/python/site-packages/jupyterlab\n",
            "\u001b[32m[I 2025-06-20 02:21:24.126 LabApp]\u001b[m JupyterLab application directory is /Users/henry/Library/Python/3.13/share/jupyter/lab\n",
            "\u001b[32m[I 2025-06-20 02:21:24.127 LabApp]\u001b[m Extension Manager is 'pypi'.\n",
            "\u001b[32m[I 2025-06-20 02:21:24.177 ServerApp]\u001b[m jupyterlab | extension was successfully loaded.\n",
            "\u001b[32m[I 2025-06-20 02:21:24.178 ServerApp]\u001b[m [Jupytext Server Extension] Deriving an AsyncTextFileContentsManager from AsyncLargeFileManager\n",
            "\u001b[32m[I 2025-06-20 02:21:24.178 ServerApp]\u001b[m jupyterlab_jupytext | extension was successfully loaded.\n",
            "\u001b[32m[I 2025-06-20 02:21:24.179 ServerApp]\u001b[m notebook | extension was successfully loaded.\n",
            "\u001b[32m[I 2025-06-20 02:21:24.180 ServerApp]\u001b[m Serving notebooks from local directory: /Users/henry/Desktop/Stanford-AI4ALL-Robotics/notebooks\n",
            "\u001b[32m[I 2025-06-20 02:21:24.180 ServerApp]\u001b[m Jupyter Server 2.16.0 is running at:\n",
            "\u001b[32m[I 2025-06-20 02:21:24.180 ServerApp]\u001b[m http://localhost:8888/tree?token=f5a2ad2b523b0918af84d3db011edae51bd260a6688a610a\n",
            "\u001b[32m[I 2025-06-20 02:21:24.180 ServerApp]\u001b[m     http://127.0.0.1:8888/tree?token=f5a2ad2b523b0918af84d3db011edae51bd260a6688a610a\n",
            "\u001b[32m[I 2025-06-20 02:21:24.180 ServerApp]\u001b[m Use Control-C to stop this server and shut down all kernels (twice to skip confirmation).\n",
            "\u001b[35m[C 2025-06-20 02:21:24.182 ServerApp]\u001b[m \n",
            "    \n",
            "    To access the server, open this file in a browser:\n",
            "        file:///Users/henry/Library/Jupyter/runtime/jpserver-18534-open.html\n",
            "    Or copy and paste one of these URLs:\n",
            "        http://localhost:8888/tree?token=f5a2ad2b523b0918af84d3db011edae51bd260a6688a610a\n",
            "        http://127.0.0.1:8888/tree?token=f5a2ad2b523b0918af84d3db011edae51bd260a6688a610a\n",
            "\u001b[32m[I 2025-06-20 02:21:24.298 ServerApp]\u001b[m Skipped non-installed server(s): bash-language-server, dockerfile-language-server-nodejs, javascript-typescript-langserver, jedi-language-server, julia-language-server, pyright, python-language-server, python-lsp-server, r-languageserver, sql-language-server, texlab, typescript-language-server, unified-language-server, vscode-css-languageserver-bin, vscode-html-languageserver-bin, vscode-json-languageserver-bin, yaml-language-server\n",
            "^C\n",
            "\u001b[32m[I 2025-06-20 02:21:31.520 ServerApp]\u001b[m interrupted\n",
            "\u001b[32m[I 2025-06-20 02:21:31.521 ServerApp]\u001b[m Serving notebooks from local directory: /Users/henry/Desktop/Stanford-AI4ALL-Robotics/notebooks\n",
            "    0 active kernels\n",
            "    Jupyter Server 2.16.0 is running at:\n",
            "    http://localhost:8888/tree?token=f5a2ad2b523b0918af84d3db011edae51bd260a6688a610a\n",
            "        http://127.0.0.1:8888/tree?token=f5a2ad2b523b0918af84d3db011edae51bd260a6688a610a\n",
            "Shut down this Jupyter server (y/[n])? \u001b[32m[I 2025-06-20 02:21:31.522 ServerApp]\u001b[m resuming operation...\n"
          ]
        }
      ],
      "source": [
        "!jupyter notebook\n"
      ]
    },
    {
      "cell_type": "markdown",
      "metadata": {
        "id": "TlSLt-XViSkl"
      },
      "source": [
        "This will open a browser window where you can create and run notebooks on your own machine.\n",
        "\n",
        "However, for our workshop, we recommend using Google Colab for consistency – it’s online, requires no setup, and everyone gets the same environment. But it’s good to know how to install Jupyter in case you continue working offline later.\n",
        "\n",
        "Let’s check if Jupyter is installed here and what version:\n"
      ]
    },
    {
      "cell_type": "code",
      "execution_count": 5,
      "metadata": {
        "colab": {
          "base_uri": "https://localhost:8080/"
        },
        "id": "XvHvoqU5iWxG",
        "outputId": "698daa5c-95ca-43b6-9973-1dc00cb86a5d"
      },
      "outputs": [
        {
          "name": "stdout",
          "output_type": "stream",
          "text": [
            "Selected Jupyter core packages...\n",
            "IPython          : 9.3.0\n",
            "ipykernel        : 6.29.5\n",
            "ipywidgets       : not installed\n",
            "jupyter_client   : 8.6.3\n",
            "jupyter_core     : 5.8.1\n",
            "jupyter_server   : 2.16.0\n",
            "jupyterlab       : 4.4.3\n",
            "nbclient         : 0.10.2\n",
            "nbconvert        : 7.16.6\n",
            "nbformat         : 5.10.4\n",
            "notebook         : 7.4.3\n",
            "qtconsole        : not installed\n",
            "traitlets        : 5.14.3\n"
          ]
        }
      ],
      "source": [
        "!jupyter --version"
      ]
    },
    {
      "cell_type": "markdown",
      "metadata": {
        "id": "hPPkpljRiZEN"
      },
      "source": [
        "When you run that, you’ll see version numbers for Jupyter components (e.g., Notebook, IPython, etc.). Don’t worry about the details; if you see output, it means Jupyter is available.\n",
        "\n",
        "Running a Notebook: In Colab, you’re all set – just go to colab.research.google.com and open notebooks. Locally, you’d use the jupyter notebook command. Another popular option is JupyterLab, which you can install with pip as well (it’s like an updated interface for notebooks). For now, Colab or classic Notebook is fine."
      ]
    },
    {
      "cell_type": "markdown",
      "metadata": {
        "id": "92j2Iqn-ifKj"
      },
      "source": [
        "### A Quick Notebook Test\n",
        "\n",
        "You’ve already run some cells in the previous notebook. Let’s do a quick test here to ensure things are working:\n"
      ]
    },
    {
      "cell_type": "code",
      "execution_count": 7,
      "metadata": {
        "colab": {
          "base_uri": "https://localhost:8080/"
        },
        "id": "71yQaeD3ih8a",
        "outputId": "3a5a110f-4c33-4ac4-ab12-2a95e668bed9"
      },
      "outputs": [
        {
          "name": "stdout",
          "output_type": "stream",
          "text": [
            "You are using Python version: 3.13.2 (v3.13.2:4f8bb3947cf, Feb  4 2025, 11:51:10) [Clang 15.0.0 (clang-1500.3.9.4)]\n"
          ]
        }
      ],
      "source": [
        "import sys\n",
        "print(\"You are using Python version:\", sys.version)\n"
      ]
    },
    {
      "cell_type": "markdown",
      "metadata": {
        "id": "fgxuA_xeijKj"
      },
      "source": [
        "The above cell, when run, will print the exact Python version and some system info. It confirms that Python in our environment is working. Great!\n"
      ]
    },
    {
      "cell_type": "markdown",
      "metadata": {
        "id": "sMKV5_nEillz"
      },
      "source": [
        "## 2. Installing Git and Understanding Version Control 🌱\n",
        "\n",
        "\n",
        "### Next up: Git\n",
        "Git is a version control system – basically, it keeps track of changes to code (or any files) over time. It’s like the Undo/Redo superpower for coding, and it also lets multiple people collaborate on projects without messing up each other’s work. GitHub is an online service that hosts Git repositories (repos) so you can share code and work together.\n",
        "\n",
        "Why do we need Git for our program? We’ll be sharing code with you (like starter project code) through a GitHub repository. You’ll use Git to download that code (clone it) and later to push your own changes (like your project code) to share with mentors or teammates. It might be your first time using Git, so we’ll go slow.\n",
        "\n",
        "### Installing Git\n",
        "Many of you will already have Git:\n",
        "\n",
        "- **Windows**: Install “Git for Windows” from git-scm.com, and use either Git Bash or your IDE’s terminal.\n",
        "- **Mac**: Git is usually installed (try typing git --version in Terminal). If not, installing Xcode Command Line Tools (xcode-select --install) will include Git, or use Homebrew (brew install git).\n",
        "- **Linux**: Install via package manager (e.g., sudo apt-get install git on Ubuntu).\n",
        "\n",
        "To check if Git is installed, run:"
      ]
    },
    {
      "cell_type": "code",
      "execution_count": null,
      "metadata": {
        "colab": {
          "base_uri": "https://localhost:8080/"
        },
        "id": "QD3Fj0pgiuNj",
        "outputId": "834dc588-ed01-42ba-f80d-050ef0c8b6fb"
      },
      "outputs": [
        {
          "name": "stdout",
          "output_type": "stream",
          "text": [
            "git version 2.34.1\n"
          ]
        }
      ],
      "source": [
        "!git --version\n"
      ]
    },
    {
      "cell_type": "markdown",
      "metadata": {
        "id": "bfMqrREfivlk"
      },
      "source": [
        "If you see something like git version 2.x.y, you’re good. If you get an error, you need to install Git on that system (on Colab it should already be installed, as shown above).\n",
        "\n",
        "What is Git? Git tracks changes in a repository (a folder of your project). You “commit” changes with messages describing what you did. This creates a history (like save points). You can also create branches to try out ideas without affecting the main code. For AI4ALL, we likely won’t go deep into branching, but we will use basic commands:\n",
        "- `git clone` – download a repository from the internet (GitHub) to your local machine.\n",
        "- `git status` – see what’s changed in your repo.\n",
        "- `git add` – stage changes (mark files to include in the next commit).\n",
        "- `git commit` – commit staged changes with a descriptive message.\n",
        "- `git push` – upload your commits to the remote repository (e.g., on GitHub) so others (like your mentors) can see them.\n",
        "\n",
        "Think of Git as a team timeline for code. If you screw something up, you can go back to an earlier commit. If you want to see who wrote a piece of code or why, Git’s history can tell you. It’s an essential tool in real-world software development."
      ]
    },
    {
      "cell_type": "markdown",
      "metadata": {
        "id": "ksm55Ytpi2hE"
      },
      "source": [
        "## 3. Using GitHub and Cloning the Workshop Repository\n",
        "\n",
        "We have a GitHub repository set up for this workshop (with starter code, notebooks, etc.). You’ll need to clone it to get the materials. Cloning means making a local copy of an online repo. In Colab, we can clone directly into our environment. \n",
        "\n",
        "Repository URL: https://github.com/hvcho/Stanford-AI4ALL-Robotics/\n",
        "\n",
        "This repo will contain all of the starter code for the various lectures and the project. Note that you can only read this repo, but you can't write or upload anything to it!\n",
        "\n",
        "In order to be able to have your \"own copy\" of the repo to write to it and collaborate with your project teammates, there is something called a Git \"fork.\" Forking a public repo means making your own copy such that changes made to upstream repo (the original repo that is being forked) can be synced. To create a fork, open the Repository URL above and click the \"Fork\" option. \n"
      ]
    },
    {
      "cell_type": "markdown",
      "metadata": {},
      "source": [
        "Now, let’s download or clone the repository so we can edit the files."
      ]
    },
    {
      "cell_type": "code",
      "execution_count": 1,
      "metadata": {
        "colab": {
          "base_uri": "https://localhost:8080/"
        },
        "id": "U0OBSPNhjATG",
        "outputId": "3b46dad0-7c1c-46a7-e50d-f6b2f142c570"
      },
      "outputs": [
        {
          "name": "stdout",
          "output_type": "stream",
          "text": [
            "Cloning into 'Stanford-AI4ALL-Robotics'...\n",
            "remote: Enumerating objects: 43, done.\u001b[K\n",
            "remote: Counting objects: 100% (43/43), done.\u001b[K\n",
            "remote: Compressing objects: 100% (33/33), done.\u001b[K\n",
            "remote: Total 43 (delta 13), reused 33 (delta 6), pack-reused 0 (from 0)\u001b[K\n",
            "Receiving objects: 100% (43/43), 39.05 KiB | 1.05 MiB/s, done.\n",
            "Resolving deltas: 100% (13/13), done.\n"
          ]
        }
      ],
      "source": [
        "# Note: Change the link to your specific fork! If you don't have a GitHub account to make a fork, you can use the link below for now.\n",
        "!git clone https://github.com/hvcho/Stanford-AI4ALL-Robotics/"
      ]
    },
    {
      "cell_type": "markdown",
      "metadata": {
        "id": "7-5pwO7GjGer"
      },
      "source": [
        "(Running the above will download the repository into this notebook’s environment. It might ask for credentials if it’s a private repo – in that case, we’ll handle authentication. For now, assume it’s public or you have access.)\n",
        "\n",
        "After cloning, you should see a new folder created in the environment. The output will look something like:\n",
        "\n",
        "```\n",
        "Cloning into 'WorkshopRepo'...\n",
        "remote: Enumerating objects: 10, done.\n",
        "remote: Counting objects: 100% (10/10), done.\n",
        "remote: Compressing objects: 100% (8/8), done.\n",
        "Receiving objects: 100% (10/10), done.\n",
        "Resolving deltas: 100% (3/3), done.\n",
        "```"
      ]
    },
    {
      "cell_type": "markdown",
      "metadata": {
        "id": "-_2EvJ3cjMml"
      },
      "source": [
        "The numbers may vary depending on repo size. Essentially, Git is telling you it copied all the files.\n",
        "\n",
        "Now, let’s confirm we have the repository contents. We can list the files:"
      ]
    },
    {
      "cell_type": "code",
      "execution_count": null,
      "metadata": {
        "colab": {
          "base_uri": "https://localhost:8080/"
        },
        "id": "H7ghmcqzjOe2",
        "outputId": "8817d4f5-1410-4db6-d4db-215e122da229"
      },
      "outputs": [
        {
          "name": "stdout",
          "output_type": "stream",
          "text": [
            "data  notebooks  project  README.md  requirements.txt\n"
          ]
        }
      ],
      "source": [
        "!ls Stanford-AI4ALL-Robotics\n"
      ]
    },
    {
      "cell_type": "markdown",
      "metadata": {
        "id": "DB5O5-zbjUa2"
      },
      "source": [
        "(If you run this in Colab after a successful clone, it will show the files and folders in the repo. If you’re reading this and not actually running, imagine it listed things like README.md, a notebooks folder, etc.)\n",
        "\n",
        "Typically, in our workshop repository you might see:\n",
        "- Jupyter notebooks for each session (like the one you’re reading).\n",
        "- A folder for the final project code.\n",
        "- Perhaps a data folder for datasets (if any).\n",
        "- A README.md with information about the repo.\n",
        "\n",
        "```\n",
        "data  notebooks  project  README.md  requirements.txt\n",
        "```\n",
        "\n",
        "Your mentors will clarify the structure, but feel free to explore the files once you have the repo."
      ]
    },
    {
      "cell_type": "markdown",
      "metadata": {
        "id": "NbuOngqFjcXb"
      },
      "source": [
        "## 4. Basic Git Workflow: Add, Commit, Push\n",
        "\n",
        "Cloning is a one-time operation to get the project. As you work on files, you’ll use the add/commit/push cycle regularly. Let’s go through it step by step with an example.\n",
        "\n",
        "### Step 4.1: git status – Checking for Changes\n",
        "\n",
        "After you edit or create files in the repo, git status lets you see what’s going on."
      ]
    },
    {
      "cell_type": "code",
      "execution_count": null,
      "metadata": {
        "colab": {
          "base_uri": "https://localhost:8080/"
        },
        "id": "sf5uCDCzjgzC",
        "outputId": "059258ac-f27e-4b36-fa1e-9ac4774b771d"
      },
      "outputs": [
        {
          "name": "stdout",
          "output_type": "stream",
          "text": [
            "On branch main\n",
            "Your branch is up to date with 'origin/main'.\n",
            "\n",
            "nothing to commit, working tree clean\n"
          ]
        }
      ],
      "source": [
        "!cd Stanford-AI4ALL-Robotics && git status"
      ]
    },
    {
      "cell_type": "markdown",
      "metadata": {
        "id": "Z8WM_rkBjmza"
      },
      "source": [
        "(We use `cd` to go into the repo directory, then run git status.) The output might be:\n",
        "\n",
        "```\n",
        "On branch main\n",
        "Your branch is up to date with 'origin/main'.\n",
        "\n",
        "nothing to commit, working tree clean\n",
        "\n",
        "```\n",
        "\n",
        "This means nothing has changed yet (a “clean” state). Now let’s create a new file to simulate making a change. We’ll do this via code for demonstration:\n",
        "\n",
        "```\n",
        "%%bash\n",
        "cd WorkshopRepo\n",
        "echo \"print('AI4ALL is awesome!')\" > example.py  # create a new Python file\n",
        "git status\n",
        "```\n",
        "\n",
        "The above cell goes into the repo and uses a shell command to create a file `example.py` with a simple print statement. Then it runs git status again. Now the status output should show something like:\n",
        "\n",
        "```\n",
        "On branch main\n",
        "Your branch is up to date with 'origin/main'.\n",
        "\n",
        "Untracked files:\n",
        "  (use \"git add <file>...\" to include in what will be committed)\n",
        "\texample.py\n",
        "\n",
        "nothing added to commit but untracked files present (use \"git add\" to track)\n",
        "```\n",
        "We see `example.py` listed as an untracked file. This means Git sees a new file that it isn’t tracking yet.\n",
        "\n",
        "### Step 4.2: git add – Staging Changes\n",
        "To tell Git we want to include this new file in the next commit, we need to “add” it:\n"
      ]
    },
    {
      "cell_type": "code",
      "execution_count": null,
      "metadata": {
        "colab": {
          "base_uri": "https://localhost:8080/"
        },
        "id": "aUgY3gFyj2Zk",
        "outputId": "8fe78654-03ea-495e-bc40-ee9ea5983a54"
      },
      "outputs": [
        {
          "name": "stdout",
          "output_type": "stream",
          "text": [
            "/bin/bash: line 1: cd: WorkshopRepo: No such file or directory\n"
          ]
        }
      ],
      "source": [
        "!cd Stanford-AI4ALL-Robotics && git add example.py\n"
      ]
    },
    {
      "cell_type": "markdown",
      "metadata": {
        "id": "MlYY0l5jj6V5"
      },
      "source": [
        "Now git status would show that file as staged:"
      ]
    },
    {
      "cell_type": "code",
      "execution_count": null,
      "metadata": {
        "id": "L4MBbR-nj77c"
      },
      "outputs": [],
      "source": [
        "!cd Stanford-AI4ALL-Robotics && git status"
      ]
    },
    {
      "cell_type": "markdown",
      "metadata": {
        "id": "xVqsGXdjj_Lx"
      },
      "source": [
        "Expected output snippet:\n",
        "\n",
        "```\n",
        "Changes to be committed:\n",
        "  (use \"git restore --staged <file>...\" to unstage)\n",
        "\tnew file:   example.py\n",
        "```\n",
        "\n",
        "This means example.py is staged (ready to commit).\n",
        "\n",
        "(Note: We could also stage changes to existing files. For modified files, git add <file> stages the modifications. You can stage multiple files or use git add . to add everything.)\n",
        "\n",
        "### Step 4.3: git commit – Saving Changes with a Message\n",
        "\n",
        "Now we commit the staged changes. Every commit should have a message that describes what you did. Since we added a new file, our message might be “Add example file”.\n",
        "\n"
      ]
    },
    {
      "cell_type": "code",
      "execution_count": null,
      "metadata": {
        "id": "Vyh5VeUNkIgq"
      },
      "outputs": [],
      "source": [
        "!cd Stanford-AI4ALL-Robotics && git commit -m \"Add example file\""
      ]
    },
    {
      "cell_type": "markdown",
      "metadata": {
        "id": "0vcQeQiRkLvs"
      },
      "source": [
        "If all goes well, you’ll see an output:\n",
        "\n",
        "```\n",
        "[main abc1234] Add example file\n",
        " 1 file changed, 1 insertion(+)\n",
        " create mode 100644 example.py\n",
        "```\n",
        "\n",
        "The text in brackets shows the branch (main), a short commit ID (abc1234 here is a placeholder for the actual hash), and our commit message. It also summarizes the changes: one file added with one line (insertion). Great, now our changes are committed in our local repository’s history. Let’s check status one more time:\n"
      ]
    },
    {
      "cell_type": "code",
      "execution_count": null,
      "metadata": {
        "id": "rSaXjK9tkPmS"
      },
      "outputs": [],
      "source": [
        "!cd Stanford-AI4ALL-Robotics && git status\n"
      ]
    },
    {
      "cell_type": "markdown",
      "metadata": {
        "id": "0dsl41YUkS2H"
      },
      "source": [
        "Now it should say everything is clean again:\n",
        "\n",
        "```\n",
        "On branch main\n",
        "Your branch is up to date with 'origin/main'.\n",
        "\n",
        "nothing to commit, working tree clean\n",
        "```\n",
        "However, note an important detail: local vs remote. We committed locally (in our notebook environment or computer). Those changes are not yet on GitHub. To upload them, we need to push.\n",
        "\n",
        "### Step 4.4: git push – Uploading to GitHub\n",
        "\n",
        "Pushing sends your commits to the remote repository (e.g., on GitHub) so others can see them or so you can pull them later from another computer. The command is usually:\n",
        "\n"
      ]
    },
    {
      "cell_type": "code",
      "execution_count": null,
      "metadata": {
        "id": "XzFIJ9lSkY8d"
      },
      "outputs": [],
      "source": [
        "!cd Stanford-AI4ALL-Robotics && git push origin main\n"
      ]
    },
    {
      "cell_type": "markdown",
      "metadata": {
        "id": "gpFMTl3Okb5Q"
      },
      "source": [
        "- origin is the default name for the remote repository you cloned from.\n",
        "- main is the branch name we’re pushing (some projects use master or other names).\n",
        "\n",
        "If you run this in a real scenario, Git will ask for authentication (because it needs permission to update the repo on GitHub). In a classroom setting, we might have given you access, or we use a shared account/token. In Colab, an interactive prompt might appear asking for username/password or a token.\n",
        "\n",
        "(Since this is a demo and we can’t actually push to a real repo here, don’t worry about executing this push command now.)\n",
        "\n",
        "If authentication is set up, git push would output something like:\n",
        "\n",
        "```\n",
        "Enumerating objects: 3, done.\n",
        "Counting objects: 100% (3/3), done.\n",
        "Writing objects: 100% (3/3), 256 bytes | 256.00 KiB/s, done.\n",
        "Total 3 (delta 1), reused 0 (delta 0)\n",
        "To github.com:Stanford-AI4ALL/WorkshopRepo.git\n",
        "   1234abc..5678def  main -> main\n",
        "```\n",
        "\n",
        "And voila, your changes are on GitHub! If you refresh the GitHub page for the repo, you’d see your new file and commit message.\n",
        "\n",
        "Important: If you’re working in a team, always git pull before you start working to get the latest changes from others, and push after committing your changes. This prevents conflicts. If two people edit the same file, Git will try to merge the changes, and sometimes you might have to resolve conflicts manually – but that’s beyond today’s scope. We’ll coordinate in the workshop to minimize overlap."
      ]
    },
    {
      "cell_type": "markdown",
      "metadata": {
        "id": "g-dKX57Ekmhd"
      },
      "source": [
        "## 5. Working with the Shared Repository\n",
        "\n",
        "Now that you know the basics of Git, let’s talk about how we’ll use it in AI4ALL:\n",
        "- We (the instructors) will provide starter code, data, or notebooks via the GitHub repo. You will clone it once at the start.\n",
        "- For each session, there might be new materials. We’ll tell you to git pull to update your local copy with any new files or edits we’ve posted.\n",
        "- For your project, you will code in this repository (perhaps in a designated folder or branch). Using Git, you can save versions of your project as you progress.\n",
        "- If you work in teams, GitHub allows collaboration. Everyone can push commits and you’ll all see each other’s changes. (Communication is key – maybe designate who works on which file to avoid conflicts.)\n",
        "\n",
        "Let’s briefly describe the structure of the repository (replace this with actual structure if known):\n",
        "\n",
        "```\n",
        "Stanford-AI4ALL-Robotics/\n",
        "├── README.md            # Overview of the repo and setup instructions\n",
        "├── notebooks/           # Jupyter notebooks for each session\n",
        "│   ├── Day1_session1.ipynb\n",
        "│   ├── Day2_session2.ipynb\n",
        "│   └── ... etc.\n",
        "├── project/             # Directory for final project code\n",
        "│   ├── vision_model.py\n",
        "│   ├── robot_control.py\n",
        "│   └── ... etc.\n",
        "├── data/                # Any dataset or images for exercises/project\n",
        "└── requirements.txt     # (if any libraries need to be installed, listed here)\n",
        "```\n",
        "\n",
        "Don’t worry if not all of these are in your repo; it’s just an example. The key point is to know where to find things. For instance, you might open the notebooks/Session3_PythonBasics.ipynb in Colab to follow along Session 3. For the project, you’ll likely edit files under project/ or perhaps work in a project notebook.\n",
        "\n",
        "Using Git in Colab vs Local: In Colab, you can run !git commands as we did. Alternatively, you might use the Colab Git integration (there’s an option to save a copy to GitHub). On your local machine, you’d use a terminal or a Git GUI tool. Feel free to use whatever you’re comfortable with; the commands are the same.\n",
        "\n",
        "Authentication tip: If pushing from Colab or a new environment, you might not want to enter your GitHub password (and GitHub no longer allows password auth; you need a Personal Access Token). One trick: you can generate a token from GitHub (with repo permissions) and use it as your password. Another approach for Colab is to mount Google Drive or use Colab’s own GitHub integration. If this is confusing – don’t worry. We will help you get set up, or we might handle pushes for you by other means if needed (e.g., maybe you just send us files to commit). Our goal isn’t to make you Git experts in one day, but to introduce the tool so you can use it."
      ]
    },
    {
      "cell_type": "markdown",
      "metadata": {
        "id": "CwVSn1oKk4rQ"
      },
      "source": [
        "## 6. Recap and Next Steps\n",
        "\n",
        "You’ve done a lot of setup work today – nice job! Let’s summarize what you accomplished:\n",
        "- Installed/verified Python 3 on your system or confirmed the Colab environment’s Python.\n",
        "- Installed Jupyter Notebook (if working locally) or learned that Colab provides it, so you can create and run notebooks.\n",
        "- Installed Git (if needed) and learned why we use version control.\n",
        "- Cloned the workshop GitHub repository to get all necessary materials.\n",
        "- Practiced the basic Git workflow: checking status, adding files, committing changes with messages, and understanding how to push to a remote repo.\n",
        "- Explored the repository structure so you know where things are.\n",
        "\n",
        "All these tools set the stage for the core content coming up. In the next session, we’ll dive into Python programming basics. You’ll learn about variables, data types, functions, and more – which are the building blocks you’ll use to create AI algorithms and control robots. With your environment ready, you can code along with us.\n",
        "\n",
        "Before we wrap up:\n",
        "\n",
        "- If you had any issues with installation or Git, please let us know. We want everyone to start the next session on equal footing. It’s normal to hit snags; part of being a developer is troubleshooting setup problems!\n",
        "- Make sure you have the latest code by doing a git pull at the start of each new session’s notebook (we’ll remind you). This pulls any updates we instructors might have added.\n",
        "\n",
        "\n",
        "Finally, take a breather and pat yourself on the back for getting through the setup. 🎉 Often, setting up the environment is the not-so-glamorous part of coding, but you handled it. From here on, we can focus on the fun stuff: coding, AI, and robots!\n",
        "\n",
        " Your To-Do: If you’re curious, you can open the next notebook (Session 3) and have a sneak peek. No need to understand it fully yet – we’ll explain everything. Or, you might try writing a simple Python program on your own as practice (perhaps using the skills from this notebook’s examples). For instance, can you modify the example.py file in the repo to print something else, and then commit that change? It’s good practice with Git.\n",
        "\n",
        "Thanks for your effort today. Looking forward to our next session where we start programming! Keep the curiosity and see you soon. 😊"
      ]
    }
  ],
  "metadata": {
    "colab": {
      "provenance": []
    },
    "kernelspec": {
      "display_name": "Python 3",
      "name": "python3"
    },
    "language_info": {
      "codemirror_mode": {
        "name": "ipython",
        "version": 3
      },
      "file_extension": ".py",
      "mimetype": "text/x-python",
      "name": "python",
      "nbconvert_exporter": "python",
      "pygments_lexer": "ipython3",
      "version": "3.13.2"
    }
  },
  "nbformat": 4,
  "nbformat_minor": 0
}
