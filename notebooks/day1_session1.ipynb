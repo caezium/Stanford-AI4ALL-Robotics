{
  "cells": [
    {
      "cell_type": "markdown",
      "metadata": {
        "id": "E7Vh0CpIWEwB"
      },
      "source": [
        "# Notebook 1: Welcome and Introduction to AI & Robotics"
      ]
    },
    {
      "cell_type": "markdown",
      "metadata": {
        "id": "94jThGNWWgtV"
      },
      "source": [
        "## Introduction 🎉\n",
        "\n",
        "Welcome to Stanford AI4ALL – we’re excited to have you here! In this program, you’ll explore the world of artificial intelligence (AI) and robotics, learn new skills, and work on an awesome project. Over the next few weeks, you’ll see how AI is changing the world and get hands-on experience with coding and robots.\n",
        "\n",
        "<img src=\"https://manlybattery.com/wp-content/uploads/2024/01/Optimus-Gen2-humanoid-robot-Tesla.webp\" alt=\"Optimus Gen2 Humanoid Robot from Tesla\" width=\"400\"/>\n",
        "\n",
        "Optimus Gen2 Humanoid Robot from Tesla\n",
        "\n",
        "A deployed robot in the real-world, showcasing the global impact of AI and robotics.\n",
        "\n",
        "AI and robotics are transforming industries around the globe. From self-driving cars to voice assistants like Siri, AI is everywhere. And when we add AI “brains” to robotic “bodies,” we get intelligent machines that can see, think, and act. By the end of this workshop, you’ll understand why AI is such a big deal and how it helps robots do amazing things."
      ]
    },
    {
      "cell_type": "markdown",
      "metadata": {
        "id": "C-8tpu3OWspt"
      },
      "source": [
        "## Program Overview and Mentors\n",
        "\n",
        "Let’s start with an overview of the program. Here’s what you can expect in our AI4ALL journey:\n",
        "- **Duration**: 3 weeks (Monday to Friday sessions).\n",
        "- **Mentors**: You will be guided by Stanford students and researchers who love AI and robotics (that’s us! 😊). We’re here to help you learn and have fun.\n",
        "- **Topics**: We’ll cover the basics of AI, introduction to programming, and how to work with robots. Each session builds on the previous one.\n",
        "- **Final Project**: You’ll work on an AI-powered robotic sorting system (more on this later) and showcase it at the end!\n",
        "\n",
        "Tentative Schedule:\n",
        "- **Session 1**: Welcome & Intro to AI/Robotics – (You are here!) Meet everyone, learn what AI and robotics are, and see real-world examples.\n",
        "- **Session 2**: Environment Setup & Git – Install Python, set up our coding tools, and learn how to use Git for collaboration.\n",
        "- **Sessions 3**: Python Basics – Learn programming fundamentals with Python (variables, loops, conditionals, etc.).\n",
        "- **Session 4-6**: Computer vision basics – Learning to detect shapes and colors.\n",
        "- **Session 7-16**: Robotics Simulation, Control, Integration – Introduction to robotics hardware and sensors in simulation and learn to control a simple virtual robot.\n",
        "- **Sessions 17-20**: Decision Making & Project Development – Build and refine your AI-powered robotic sorting system with mentors’ help.\n",
        "- **Final Session**: Presentations & Wrap-up – Share your project and celebrate! 🎊\n",
        "\n",
        "(Don’t worry if not everything on this list makes sense now – you’ll learn step by step.) By outlining the schedule, we want you to see the big picture of where we’re headed.\n"
      ]
    },
    {
      "cell_type": "markdown",
      "metadata": {
        "id": "A4bWTsSWXH9F"
      },
      "source": [
        "## Using This Notebook\n",
        "Throughout these notebooks, you’ll see text like this, as well as code cells (gray boxes with code) that you can run. To run a code cell, click it and press Shift + Enter. Give it a try below!"
      ]
    },
    {
      "cell_type": "code",
      "execution_count": 1,
      "metadata": {
        "colab": {
          "base_uri": "https://localhost:8080/"
        },
        "id": "YN6KVhcvQBMf",
        "outputId": "75004df6-647d-410a-fc28-ae0cdec8e979"
      },
      "outputs": [
        {
          "name": "stdout",
          "output_type": "stream",
          "text": [
            "Hello, AI4ALL students! 🤖 Welcome to the program!\n"
          ]
        }
      ],
      "source": [
        "# This is a code cell. Let's print a welcome message.\n",
        "print(\"Hello, AI4ALL students! 🤖 Welcome to the program!\")\n"
      ]
    },
    {
      "cell_type": "markdown",
      "metadata": {
        "id": "J7E9SOloXONQ"
      },
      "source": [
        "When you run the above cell, it should output a greeting. You’ll be writing and running code like this often, so let’s get comfortable with it! If nothing happens, make sure you pressed the keys correctly, or ask a mentor for help.\n"
      ]
    },
    {
      "cell_type": "markdown",
      "metadata": {
        "id": "Qtggy8VGXPlE"
      },
      "source": [
        "## What is Artificial Intelligence (AI)?\n",
        "\n",
        "Artificial Intelligence (AI) is the science of making computers think or act like humans in some ways. This means getting machines to solve problems, make decisions, or recognize patterns on their own.\n",
        "\n",
        "AI comes in many forms, for example:\n",
        "- Voice assistants: Apps like Alexa or Siri can recognize your speech and respond with answers.\n",
        "- Image recognition: Facebook can tag your friends in photos automatically, and smartphones unlock by recognizing your face.\n",
        "- Recommendation systems: Netflix and YouTube suggest videos you might like by learning your preferences.\n",
        "\n",
        "AI systems often learn from data. For instance, an AI can learn to recognize cats in pictures by studying thousands of cat photos. The more it practices, the better it gets – similar to how we learn! Essentially, AI is about creating software “brains” that can do tasks we consider smart, such as learning or problem-solving.\n",
        "\n",
        "Why is AI useful? Unlike regular programs that follow fixed rules, AI can improve itself by learning. This makes it powerful for complex tasks. For example, AI helps detect diseases from X-rays, drive cars autonomously, and even beat humans at chess. As we explore AI, remember it’s not about robots taking over 🦾 – it’s about tools that can help people and make life easier.\n"
      ]
    },
    {
      "cell_type": "markdown",
      "metadata": {
        "id": "FooAn4L5XioZ"
      },
      "source": [
        "🤔 Reflection: AI Around Us\n",
        "\n",
        "Now it’s your turn to think! Can you think of an AI system or smart device you’ve used or heard of? How did it make something easier or more fun?\n"
      ]
    },
    {
      "cell_type": "code",
      "execution_count": null,
      "metadata": {
        "id": "sWFJlhw8XpPD"
      },
      "outputs": [],
      "source": [
        "# 🚀 Reflection:\n",
        "# Describe an AI-based technology you've seen (in school, at home, or online).\n",
        "# How did it impress you? (Feel free to type your thoughts here as a comment.)\n",
        "#\n",
        "# Example: \"I used Google Translate, which is AI that translates languages instantly!\"\n"
      ]
    },
    {
      "cell_type": "markdown",
      "metadata": {
        "id": "mHkvYRpIXr0W"
      },
      "source": [
        "(You can type your answer in the cell above – it’s just for you. There's no \"right\" answer, we just want you to reflect.)"
      ]
    },
    {
      "cell_type": "markdown",
      "metadata": {
        "id": "NW6pJI79XuJo"
      },
      "source": [
        "## What is Robotics?\n",
        "\n",
        "**Robotics** is the branch of technology that deals with designing, building, and operating robots. A robot is basically a machine that can sense its environment, make decisions, and perform actions. Robots often have moving parts (like wheels or arms) and are controlled by programs – sometimes very simple programs, and sometimes with AI.\n",
        "\n",
        "Common components of a robot include:\n",
        "- **Sensors**: to perceive the world (camera as the robot’s “eyes,” microphone as “ears,” touch sensors as “skin,” etc.).\n",
        "- **Actuators**: motors or engines that let the robot move (wheels, robotic arms, grippers).\n",
        "- **Computer/Controller**: the “brain” that runs software. This can be a small computer inside the robot that executes instructions or AI algorithms.\n",
        "\n",
        "Think of a household vacuum robot. Its sensors prevent it from bumping into walls, and its wheels let it move around the house. Its program (brain) tells it how to sweep floors methodically. That’s robotics in action! Robots range from toys to industrial machines to futuristic humanoids.\n",
        "\n",
        "Now, how do AI and robotics fit together? AI is like the decision-making brain, and the robot is the body. AI in robotics gives robots the ability to make smart choices rather than just follow pre-set routines. For example, a robot with AI can learn the layout of a room and improve its cleaning route, or adjust its grip if an object is slipping. Without AI, a robot might only do exactly what it’s told and not handle unexpected situations. With AI, robots become more autonomous and flexible problem-solvers."
      ]
    },
    {
      "cell_type": "markdown",
      "metadata": {
        "id": "oH4IFOx5vz3c"
      },
      "source": [
        "**Quick Example**: Imagine a simple robot arm in a factory that places items into boxes. A non-AI robot arm will repeat the same motion over and over in the exact same spot. If an item is slightly off position, the robot might miss it because it doesn’t “realize” the change. Now give the robot an AI vision system (a camera + image recognition AI): suddenly it can locate items by itself and adjust its movements! That’s the power of combining AI with robotics."
      ]
    },
    {
      "cell_type": "markdown",
      "metadata": {
        "id": "4D2iSA5yYIYc"
      },
      "source": [
        "### A Tiny Robot Brain: Code Example\n",
        "\n",
        "Let’s illustrate a simple decision a robot might make using code. This is not a full AI, but it shows logic. Suppose our robot has a sensor that tells it an object’s color. We want the robot to pick up objects that are red and ignore others. We can simulate that with an `if` statement in Python:"
      ]
    },
    {
      "cell_type": "code",
      "execution_count": null,
      "metadata": {
        "colab": {
          "base_uri": "https://localhost:8080/"
        },
        "id": "fDBgiW-rYLdq",
        "outputId": "b3492e70-4e9c-4c5e-d709-b73163ea83b5"
      },
      "outputs": [
        {
          "name": "stdout",
          "output_type": "stream",
          "text": [
            "🤖 The robot picks up the red object.\n"
          ]
        }
      ],
      "source": [
        "# Simulate a simple robot decision based on color\n",
        "color = \"red\"   # try changing this to \"blue\" or \"green\" and rerun!\n",
        "if color == \"red\":\n",
        "    print(\"🤖 The robot picks up the red object.\")\n",
        "else:\n",
        "    print(\"🤖 The robot ignores the object (not red).\")\n"
      ]
    },
    {
      "cell_type": "markdown",
      "metadata": {
        "id": "C0ev6dFFYP-c"
      },
      "source": [
        "Try running the above cell. You should see the robot’s action. Now, change the color variable to something else (like \"blue\") and run it again. See how the output changes? This is a basic example of a robot making a decision based on a condition.\n",
        "\n",
        "Real AI is more complex – instead of a simple rule “if red then pick,” an AI might analyze an image to decide the color, or even learn which colors it should pick. But many AI decisions in robotics can still be broken down into these logical steps."
      ]
    },
    {
      "cell_type": "markdown",
      "metadata": {
        "id": "Rvs3vWFaYS_8"
      },
      "source": [
        "### Robots Can Repeat Tasks\n",
        "\n",
        "Robots are great at doing repetitive tasks without getting tired. Let’s say our robot needs to lift 3 boxes. Using a loop, we can have it repeat a command multiple times:\n",
        "\n"
      ]
    },
    {
      "cell_type": "code",
      "execution_count": null,
      "metadata": {
        "colab": {
          "base_uri": "https://localhost:8080/"
        },
        "id": "MysHje3UY6H9",
        "outputId": "69cc193f-5157-4997-e5d3-a1cc272859b3"
      },
      "outputs": [
        {
          "name": "stdout",
          "output_type": "stream",
          "text": [
            "🤖 Lifting box number 1\n",
            "🤖 Lifting box number 2\n",
            "🤖 Lifting box number 3\n"
          ]
        }
      ],
      "source": [
        "# Robot lifting boxes repeatedly\n",
        "for i in range(3):  # repeat 3 times (i = 0,1,2)\n",
        "    print(\"🤖 Lifting box number\", i+1)\n"
      ]
    },
    {
      "cell_type": "markdown",
      "metadata": {
        "id": "9pfgPQ4hY7UA"
      },
      "source": [
        "Run the loop above and watch the output. The code prints a line for each box the robot “lifts.” In real life, a loop in a robot’s program might correspond to doing an action for each item on an assembly line. Loops and conditionals (if-else) are fundamental in programming robots. You will learn more about these when we dive into Python coding.\n"
      ]
    },
    {
      "cell_type": "markdown",
      "metadata": {
        "id": "ZOQQQ4g3Y8jJ"
      },
      "source": [
        "## Why AI in Robotics? (Significance and Impact)\n",
        "\n",
        "Why are we combining AI with robotics in this program? Because together they are super powerful! Here are a few reasons AI is a game-changer for robotics:\n",
        "- Handling Complexity: AI lets robots deal with complex, unpredictable environments. A standard robot can follow a fixed routine in a structured setting (like a car factory). But an AI-powered robot can adapt to changes – for example, a home assistant robot navigating new furniture placement or a Mars rover handling unknown terrain.\n",
        "- Learning and Improvement: With AI (especially machine learning), robots can learn from data/experience. For instance, a robot can learn to sort objects by trial and error, improving over time. This ability to learn makes robots more efficient and autonomous.\n",
        "- Vision and Recognition: AI enables computer vision. Robots can recognize faces, detect obstacles, or identify objects (e.g., distinguish trash from recycle items). Without AI, a camera is just a sensor giving raw images; with AI, the robot can interpret what it “sees” (like “this is a plastic bottle”).\n",
        "- Decision Making: In complex tasks (like disaster rescue), a robot might have many possible actions. AI algorithms help it decide the best action (e.g., prioritize which survivor to help first based on various factors).\n",
        "\n",
        "In short, AI makes robots smarter and more useful. That’s why modern robotics often relies on AI for cutting-edge applications, and why learning both together is so valuable. By the end of AI4ALL, you’ll not only know what these technologies are but also how to use them in creative ways."
      ]
    },
    {
      "cell_type": "markdown",
      "metadata": {
        "id": "2_dPKPZEZIoE"
      },
      "source": [
        "## Real-World Applications of AI & Robotics 🌟\n",
        "\n",
        "Let’s look at some exciting real-world areas where AI-driven robots are making an impact:\n",
        "\n",
        "### Manufacturing and Automation\n",
        "\n",
        "Manufacturing was one of the first industries to adopt robotics. Robotic arms are common in factories (such as car assembly lines) to weld, paint, or assemble parts with high precision. With AI, these robots become even more efficient. They can detect defects, optimize their movements, or even work safely alongside humans (so-called cobots, or collaborative robots). Fun fact: as of 2023, there were over 4 million industrial robots operating in factories worldwide.\n",
        "\n",
        "<img src=\"https://images.wevolver.com/eyJidWNrZXQiOiJ3ZXZvbHZlci1wcm9qZWN0LWltYWdlcyIsImtleSI6IjAuYTJiZjd0MHBydVJvYm90QXNzZW1ibHlMaW5laW5DYXJGYWN0b3J5LmpwZWciLCJlZGl0cyI6eyJyZXNpemUiOnsid2lkdGgiOjgwMCwiaGVpZ2h0Ijo0NTAsImZpdCI6ImNvdmVyIn19fQ==\" alt=\"Car Manufacturing robot\" width=\"400\"/>\n",
        "\n",
        "An automated robotic arm in a warehouse setting, moving sheets of material. AI-powered robots like these can work 24/7, handling heavy loads and repetitive tasks accurately.\n",
        "\n",
        "\n",
        "In logistics and warehouses, AI-guided robots move goods and manage inventory. For example, Amazon’s warehouses use over 200,000 mobile robots to fetch items and carry shelves\n",
        "geekwire.com\n",
        ". These robots use AI to navigate the warehouse layout without bumping into things or people. Automation like this makes production faster and safer. However, it also raises questions about the future of work – which is why it’s important you learn these skills, to shape that future!\n",
        "\n",
        "### Healthcare (Medical Robots)\n",
        "\n",
        "Healthcare robots are improving the quality of treatment and patient outcomes. One famous example is the Da Vinci Surgical System, a robotic surgery platform. It allows surgeons to perform minimally invasive surgeries with robotic arms controlled by a doctor. The robot’s precision means smaller cuts, less pain, and faster recovery for patients. AI comes into play by providing enhanced vision (like highlighting tissues) or even assisting in making surgical decisions.\n",
        "\n",
        "<img src=\"https://www.mccormick.northwestern.edu/robotics/images/news/roboticists-role-in-healthcare-and-medicine-670.jpg\" alt=\"Medical Robot\" width=\"400\"/>\n",
        "\n",
        "An advanced robotic surgery setup. The robot (with human-like torso on screen) illustrates how medical robots can assist surgeons with precision and control.\n",
        "\n",
        "Robotic surgery systems enable doctors to do complex procedures with more precision and control than traditional methods. Beyond surgery, AI-powered robots in hospitals can do tasks like delivering medications, disinfecting rooms with UV light, or even social robots that help in therapy and caregiving. Imagine a friendly robot that reminds elderly patients to take their meds or exercises with them – that’s happening now!\n",
        "\n",
        "### Everyday Life and Other Fields\n",
        "\n",
        "AI robotics isn’t just factories and hospitals; it’s also entering our daily lives and other fields:\n",
        "- Home Robots: Think of robot vacuum cleaners (like Roomba) that map your house, or lawn-mowing robots. There are even prototype kitchen robots that can cook recipes! AI helps them navigate and handle varied tasks.\n",
        "- Transportation: Self-driving cars are essentially robots on wheels. They use AI to perceive the road (cameras/radar as eyes) and decide how to steer, brake, and so on. Drones are another example – autonomous flying robots used for everything from photography to delivery services.\n",
        "- Exploration: NASA’s Mars rovers (e.g., Perseverance) are robots that use AI to make decisions on Mars (like navigating rocks) when communication delays make direct control hard. Underwater robots explore oceans where it’s dangerous for humans.\n",
        "- Agriculture: Robots combined with AI help in precision farming – e.g., drones that identify which crops need water or robots that pick fruits by recognizing ripeness.\n",
        "\n",
        "The key takeaway: AI-powered robots are everywhere! They boost efficiency, take on dangerous jobs (e.g., cleaning toxic waste), and improve services. As we discuss these applications, also remember ethical considerations – for example, how do we ensure AI robots are safe and used for good? We’ll touch on these discussions throughout the program."
      ]
    },
    {
      "cell_type": "markdown",
      "metadata": {
        "id": "XWi0tg77gzFu"
      },
      "source": [
        "🤖 Reflection: Your Interests\n",
        "\n",
        "Out of the examples above (or any others you know), which AI/robotics application do you find most interesting, and why? There’s no wrong answer – maybe you love the idea of medical robots saving lives, or you’re excited by AI in self-driving cars. Write a few thoughts:\n"
      ]
    },
    {
      "cell_type": "code",
      "execution_count": null,
      "metadata": {
        "id": "HamQnfLOg2Gb"
      },
      "outputs": [],
      "source": [
        "# 🚀 Reflection:\n",
        "# Which AI + Robotics application excites you the most? Why?\n",
        "# For example: \"I find self-driving cars fascinating because they could make roads safer and save time.\"\n"
      ]
    },
    {
      "cell_type": "markdown",
      "metadata": {
        "id": "MMu3I5b2g3Rc"
      },
      "source": [
        "Take a moment to jot down your thoughts. This can help you identify areas you might want to explore more.\n"
      ]
    },
    {
      "cell_type": "markdown",
      "metadata": {
        "id": "4svdu7vmg41b"
      },
      "source": [
        "## Final Project Preview: AI-Powered Robotic Sorting System\n",
        "\n",
        "Now for the fun part – let’s introduce the final project you’ll be working on! By the end of the program, you and your team will build an AI-powered robotic sorting system. What’s that? In simple terms, it’s a setup where a robot uses AI to sort items into categories.\n",
        "\n",
        "Project Scenario: Imagine you have a mix of objects (for example, recyclable bottles, cans, and paper) coming down a conveyor belt. Your goal is to sort them into different bins: plastic, metal, and paper. Doing this by hand is tedious – but a robot can do it tirelessly. We’ll create a scaled-down version of this idea.\n",
        "\n",
        "*How might it work?*\n",
        "\n",
        "- A camera (acting as the robot’s “eye”) looks at each object and uses an AI vision model to identify the item type (or maybe its color/shape as a proxy).\n",
        "- Based on the AI’s decision, a small robotic arm (or a simulated one) will push the item into the correct bin or area.\n",
        "- This involves classification (the AI deciding what the object is) and robotic control (moving the object to the right place).\n",
        "\n",
        "\n",
        "In fact, such sorting systems exist in industry – for example, advanced recycling facilities use AI-driven robots to sort trash from recyclables by type. In our case, we might sort something simpler like colored blocks or different fruits in a simulation.\n",
        "\n",
        "What will you actually do? Don’t worry, you’re not expected to build a full industrial robot from scratch! We’ll likely use sensors/cameras and maybe a small robot kit or a virtual robot environment. The project will involve:\n",
        "- Training or using an AI model to recognize categories (perhaps using a machine learning model that we provide or help you build).\n",
        "- Programming a robot (or simulation) to move accordingly.\n",
        "- Integration: making sure the AI’s output correctly guides the robot’s actions.\n",
        "\n",
        "It’s okay if this sounds complex now. By the time we reach the project, you’ll have learned all the pieces needed. You’ll work in teams, so you’ll have help and can specialize in a part you enjoy (maybe one of you does the vision part, another handles the robot movement, etc.). We’ll revisit this project in detail later. For now, remember:\n",
        "\n",
        "- It’s a sorting robot with AI vision.\n",
        "- The focus is to apply what you learn in a tangible way.\n",
        "- It’s going to be a lot of fun and a chance to get creative! Start thinking of what kind of items you might want to sort – candies by color? 😀 (Why not!)"
      ]
    },
    {
      "cell_type": "markdown",
      "metadata": {
        "id": "VwpoTZV3hLMb"
      },
      "source": [
        "Discussion: Brainstorm Ideas 💡\n",
        "\n",
        "Before we wrap up today, consider this question: What challenges do you think an AI sorting robot might face? For example, items could be weirdly shaped, or two items might overlap, etc. How might we handle those? Feel free to discuss or write down an idea."
      ]
    },
    {
      "cell_type": "code",
      "execution_count": null,
      "metadata": {
        "id": "vB-bR0iGhNSA"
      },
      "outputs": [],
      "source": [
        "# (Optional) Brainstorm:\n",
        "# What is one challenge for a sorting robot using AI, and how might you overcome it?\n",
        "# Example: \"If items overlap on the conveyor belt, the AI might get confused.\n",
        "# We could tackle this by using multiple camera angles or an algorithm to separate touching objects.\"\n"
      ]
    },
    {
      "cell_type": "markdown",
      "metadata": {
        "id": "hq-QoA3yhOnL"
      },
      "source": [
        "There is no need to have a perfect answer – this is just to get your critical thinking started. In engineering (and in this project), identifying challenges is the first step to solving them.\n"
      ]
    },
    {
      "cell_type": "markdown",
      "metadata": {
        "id": "U95kQElQhPnv"
      },
      "source": [
        "## Conclusion & Next Steps\n",
        "\n",
        "Congratulations on finishing your first session! 🎉 You were introduced to key concepts and got your feet wet with running some code. Let’s recap what we covered:\n",
        "\n",
        "- Met the mentors and got an overview of the Stanford AI4ALL program.\n",
        "- Learned what AI is (machines doing “smart” tasks) and saw examples in daily life.\n",
        "- Learned what robotics is (building and programming robots) and how AI makes robots smarter.\n",
        "- Explored real-world applications in manufacturing, healthcare, and more, seeing how widespread AI in robotics has become.\n",
        "- Got a sneak peek at the final project – an AI-driven sorting robot system – which will combine everything you learn.\n",
        "- Ran a couple of simple code examples in Python for the first time (give yourself a pat on the back if you ran them! 👍).\n",
        "\n",
        "Coming up next: In Session 2, we will ensure your technical environment is ready. That means installing Python (if you haven’t), using Jupyter/Colab notebooks (as you’re doing now), and learning about Git and GitHub for collaborating on code. Don’t worry if you’ve never done this – we’ll walk through it step by step. Being comfortable with our tools is important before we dive deeper into coding and AI.\n",
        "\n",
        "Before next time: If you have some free time, try to observe the world around you and spot where AI or robots are at work. You might be surprised – from the autocorrect on your phone to the traffic lights timing, little “smart” systems are everywhere. Jot down any example to share with the group. It can be a fun conversation starter and a way to connect what you learn with real life.\n",
        "\n",
        "Thanks for your attention and enthusiasm today! We can’t wait to continue this journey with you. 🚀🤖"
      ]
    }
  ],
  "metadata": {
    "colab": {
      "provenance": []
    },
    "kernelspec": {
      "display_name": "Python 3",
      "name": "python3"
    },
    "language_info": {
      "codemirror_mode": {
        "name": "ipython",
        "version": 3
      },
      "file_extension": ".py",
      "mimetype": "text/x-python",
      "name": "python",
      "nbconvert_exporter": "python",
      "pygments_lexer": "ipython3",
      "version": "3.13.2"
    }
  },
  "nbformat": 4,
  "nbformat_minor": 0
}
