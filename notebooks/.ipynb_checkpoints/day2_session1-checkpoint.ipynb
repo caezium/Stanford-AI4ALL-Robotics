{
  "cells": [
    {
      "cell_type": "markdown",
      "metadata": {
        "id": "Gw-a0VhUlNoD"
      },
      "source": [
        "# Python Refresher + Intro to Computer Vision for Robotics (Day 2, First Session)\n",
        "\n",
        "Welcome to Day 2 (Session 1) of the Stanford AI4ALL Robotics workshop! Today, we will refresh some Python basics and then dive into an introduction to Computer Vision (CV) and why it’s important for robotics. By the end of this session, you’ll understand core CV concepts like color spaces and image thresholding, which we'll use in our project."
      ]
    },
    {
      "cell_type": "markdown",
      "metadata": {
        "id": "TXkNVorulQ7w"
      },
      "source": [
        "## 1. Python Refresher\n",
        "\n",
        "Let's start with a quick Python refresher covering variables, data types, lists/dictionaries, loops, and functions. Feel free to run each code cell and examine the output. You can also modify the code to experiment – that's one of the best ways to learn!\n",
        "\n",
        "### Variables and Data Types\n",
        "\n",
        "In Python, you don't need to declare variable types. A variable can hold numbers, text, etc., and Python figures out the type. Run the code below to see some variables and their types:\n"
      ]
    },
    {
      "cell_type": "code",
      "execution_count": null,
      "metadata": {
        "colab": {
          "base_uri": "https://localhost:8080/"
        },
        "id": "uVtuI2a0lTtc",
        "outputId": "6e4a1087-93dc-49de-ba42-9029e747fc8e"
      },
      "outputs": [
        {
          "name": "stdout",
          "output_type": "stream",
          "text": [
            "x = 7 | Type: <class 'int'>\n",
            "pi = 3.14 | Type: <class 'float'>\n",
            "text = Hello AI4ALL | Type: <class 'str'>\n",
            "is_robotics_fun = True | Type: <class 'bool'>\n"
          ]
        }
      ],
      "source": [
        "# Example: Using variables of different types\n",
        "x = 7               # x is an integer\n",
        "pi = 3.14           # pi is a float (decimal number)\n",
        "text = \"Hello AI4ALL\"  # text is a string (sequence of characters)\n",
        "is_robotics_fun = True  # is_robotics_fun is a boolean (True/False)\n",
        "\n",
        "print(\"x =\", x, \"| Type:\", type(x))\n",
        "print(\"pi =\", pi, \"| Type:\", type(pi))\n",
        "print(\"text =\", text, \"| Type:\", type(text))\n",
        "print(\"is_robotics_fun =\", is_robotics_fun, \"| Type:\", type(is_robotics_fun))\n"
      ]
    },
    {
      "cell_type": "markdown",
      "metadata": {
        "id": "XR4qj4ymlV6h"
      },
      "source": [
        "Variables can change type when you assign new values to them (though that's usually not needed in practice). You can also do basic arithmetic with numbers and concatenate strings.\n",
        "\n",
        "Example: Let's do some operations:"
      ]
    },
    {
      "cell_type": "code",
      "execution_count": null,
      "metadata": {
        "colab": {
          "base_uri": "https://localhost:8080/"
        },
        "id": "xtr4WM2ylXit",
        "outputId": "b9cc4e67-2252-49f5-d526-ac2e9c48acff"
      },
      "outputs": [
        {
          "name": "stdout",
          "output_type": "stream",
          "text": [
            "a + b = 13\n",
            "a - b = 7\n",
            "a * b = 30\n",
            "a / b = 3.3333333333333335\n",
            "a // b = 3\n",
            "a % b = 1\n"
          ]
        }
      ],
      "source": [
        "# Basic arithmetic operations\n",
        "a = 10\n",
        "b = 3\n",
        "print(\"a + b =\", a + b)       # addition\n",
        "print(\"a - b =\", a - b)       # subtraction\n",
        "print(\"a * b =\", a * b)       # multiplication\n",
        "print(\"a / b =\", a / b)       # division (always float in Python3)\n",
        "print(\"a // b =\", a // b)     # integer (floor) division\n",
        "print(\"a % b =\", a % b)       # modulo (remainder of division)\n"
      ]
    },
    {
      "cell_type": "markdown",
      "metadata": {
        "id": "s_Jyhe0zlY9B"
      },
      "source": [
        "Notice the difference between / and // (one gives a decimal, the other an integer result), and % which gives the remainder of division (e.g., 10 % 3 = 1). You can use these to perform various calculations. Also, note that Python follows order of operations (PEMDAS) for arithmetic.\n",
        "\n",
        "### Quick Jupyter Notebook Tips\n",
        "\n",
        "In Jupyter notebooks (like Colab), you can intermix Code cells (to run Python) and Markdown cells (for text). To run a code cell, click it and press Shift+Enter (or click the Play button). You can edit and re-run cells multiple times.\n",
        "\n",
        "### Working with Text (Strings)\n",
        "\n",
        "Strings in Python are sequences of characters. You can use single or double quotes to define them. You can combine (concatenate) strings with + or repeat them with *. You can also access individual characters by index (starting at 0). Run the example:"
      ]
    },
    {
      "cell_type": "code",
      "execution_count": null,
      "metadata": {
        "colab": {
          "base_uri": "https://localhost:8080/"
        },
        "id": "OnXBHeO5leuS",
        "outputId": "bbfed0fb-c511-4e34-e6dd-49f088cb9e90"
      },
      "outputs": [
        {
          "name": "stdout",
          "output_type": "stream",
          "text": [
            "Greeting: Hello, Alice!\n",
            "First letter of name: A\n",
            "Last letter of name: e\n",
            "Uppercase name: ALICE\n"
          ]
        }
      ],
      "source": [
        "name = \"Alice\"\n",
        "greeting = \"Hello, \" + name + \"!\"\n",
        "print(\"Greeting:\", greeting)\n",
        "\n",
        "# String indexing example\n",
        "print(\"First letter of name:\", name[0])\n",
        "print(\"Last letter of name:\", name[-1])  # -1 index gives the last character\n",
        "print(\"Uppercase name:\", name.upper())   # example of a string method\n"
      ]
    },
    {
      "cell_type": "markdown",
      "metadata": {
        "id": "V5mBYs59lgh7"
      },
      "source": [
        "We used name.upper() to show a string method that returns an uppercase version of the string. There are many useful string methods (like .lower(), .replace(), etc.), but we'll keep things simple for now.\n",
        "\n",
        "### Lists (Arrays) and Dictionaries\n",
        "\n",
        "Lists are ordered collections of items (like an array). You can store a sequence of values (even of different types) in a list. Let's see how to create and use a list:"
      ]
    },
    {
      "cell_type": "code",
      "execution_count": null,
      "metadata": {
        "colab": {
          "base_uri": "https://localhost:8080/"
        },
        "id": "NeUaBWnnlijm",
        "outputId": "7b0cff20-2876-4670-ccd4-a3d82efd11e4"
      },
      "outputs": [
        {
          "name": "stdout",
          "output_type": "stream",
          "text": [
            "Our fruit list: ['apple', 'banana', 'cherry']\n",
            "Number of fruits: 3\n",
            "First fruit: apple\n",
            "Last fruit: cherry\n",
            "After adding a fruit, list is now: ['apple', 'banana', 'cherry', 'durian']\n",
            "Now number of fruits: 4\n"
          ]
        }
      ],
      "source": [
        "# Creating and using a list\n",
        "fruits = [\"apple\", \"banana\", \"cherry\"]\n",
        "print(\"Our fruit list:\", fruits)\n",
        "print(\"Number of fruits:\", len(fruits))      # len() gives the length of the list\n",
        "print(\"First fruit:\", fruits[0])             # accessing by index\n",
        "print(\"Last fruit:\", fruits[-1])             # negative index for last item\n",
        "\n",
        "# Let's add a new fruit to the list\n",
        "fruits.append(\"durian\")\n",
        "print(\"After adding a fruit, list is now:\", fruits)\n",
        "print(\"Now number of fruits:\", len(fruits))\n"
      ]
    },
    {
      "cell_type": "markdown",
      "metadata": {
        "id": "a2tN2StwlkJb"
      },
      "source": [
        "We used list.append(item) to add a new element to the list. There are other operations like removing elements, slicing, etc., but append is one of the most common for now.\n",
        "\n",
        "Dictionaries are another useful data structure: they store key-value pairs (like a mini database or a vocabulary). Keys and values can be various types. A dictionary is defined using curly braces {} with key: value pairs. Let's make a small dictionary and access it:"
      ]
    },
    {
      "cell_type": "code",
      "execution_count": null,
      "metadata": {
        "colab": {
          "base_uri": "https://localhost:8080/"
        },
        "id": "5TBBRNpkll9j",
        "outputId": "48b07f6b-6758-4fe2-8696-17d4e91bdce1"
      },
      "outputs": [
        {
          "name": "stdout",
          "output_type": "stream",
          "text": [
            "Robots dictionary: {'Mars Rover': 'NASA', 'Sophia': 'Hanson Robotics', 'ASIMO': 'Honda'}\n",
            "ASIMO is created by: Honda\n",
            "After adding Spot: {'Mars Rover': 'NASA', 'Sophia': 'Hanson Robotics', 'ASIMO': 'Honda', 'Spot': 'Boston Dynamics'}\n"
          ]
        }
      ],
      "source": [
        "# Dictionary of some robots and their creators\n",
        "robots = {\n",
        "    \"Mars Rover\": \"NASA\",\n",
        "    \"Sophia\": \"Hanson Robotics\",\n",
        "    \"ASIMO\": \"Honda\"\n",
        "}\n",
        "print(\"Robots dictionary:\", robots)\n",
        "print(\"ASIMO is created by:\", robots[\"ASIMO\"])  # accessing value by key\n",
        "\n",
        "# Adding a new key-value pair to the dictionary:\n",
        "robots[\"Spot\"] = \"Boston Dynamics\"\n",
        "print(\"After adding Spot:\", robots)\n"
      ]
    },
    {
      "cell_type": "markdown",
      "metadata": {
        "id": "8x9Vxva8lm9I"
      },
      "source": [
        "We can loop through a dictionary as well (more on loops below). For example, to print all robot names and their creators, we can do:\n"
      ]
    },
    {
      "cell_type": "code",
      "execution_count": null,
      "metadata": {
        "colab": {
          "base_uri": "https://localhost:8080/"
        },
        "id": "OLnCrciOloB6",
        "outputId": "ae48a180-0932-4e34-a83b-ac06b0d22d0e"
      },
      "outputs": [
        {
          "name": "stdout",
          "output_type": "stream",
          "text": [
            "Mars Rover -> NASA\n",
            "Sophia -> Hanson Robotics\n",
            "ASIMO -> Honda\n",
            "Spot -> Boston Dynamics\n"
          ]
        }
      ],
      "source": [
        "# Iterating over dictionary items\n",
        "for name, maker in robots.items():\n",
        "    print(name, \"->\", maker)\n"
      ]
    },
    {
      "cell_type": "markdown",
      "metadata": {
        "id": "5tr0ZbmflpXR"
      },
      "source": [
        "When you run the above, notice how we used dict.items() to get pairs of (key, value). Now we have a basic idea of variables, lists, and dictionaries."
      ]
    },
    {
      "cell_type": "markdown",
      "metadata": {
        "id": "SBgxjYl5lr1m"
      },
      "source": [
        "### Control Flow: Conditional Statements\n",
        "\n",
        "`if` statements allow your program to make decisions. We can execute certain code only if a condition is true. Optionally, use else (and elif for \"else if\") for alternate cases. Example:"
      ]
    },
    {
      "cell_type": "code",
      "execution_count": null,
      "metadata": {
        "colab": {
          "base_uri": "https://localhost:8080/"
        },
        "id": "aRpke7zDlvlc",
        "outputId": "c0ada82f-4e5b-471c-bfe6-09c2f8b646bc"
      },
      "outputs": [
        {
          "name": "stdout",
          "output_type": "stream",
          "text": [
            "It's warm today.\n"
          ]
        }
      ],
      "source": [
        "temperature = 30  # in degrees Celsius\n",
        "if temperature > 25:\n",
        "    print(\"It's warm today.\")\n",
        "else:\n",
        "    print(\"It's not very warm today.\")\n"
      ]
    },
    {
      "cell_type": "markdown",
      "metadata": {
        "id": "UXVIgLj6lw9e"
      },
      "source": [
        "Try changing temperature in the code and re-run to see the other branch. You can have multiple conditions using elif (e.g., check ranges of values).\n",
        "\n",
        "### Control Flow: Loops\n",
        "\n",
        "Loops let us repeat actions without writing them multiple times. There are two main loop types in Python: for loops and while loops.\n",
        "\n",
        "`For` Loops: These iterate over a sequence (like every element in a list, or a range of numbers). For example, let's print each fruit in our fruits list from before:"
      ]
    },
    {
      "cell_type": "code",
      "execution_count": null,
      "metadata": {
        "colab": {
          "base_uri": "https://localhost:8080/"
        },
        "id": "u1MVjD8jl0lP",
        "outputId": "5809d6c1-d2de-4cb7-8526-d38dc6ed6f36"
      },
      "outputs": [
        {
          "name": "stdout",
          "output_type": "stream",
          "text": [
            "I like apple\n",
            "I like banana\n",
            "I like cherry\n",
            "I like durian\n"
          ]
        }
      ],
      "source": [
        "for fruit in fruits:\n",
        "    print(\"I like\", fruit)\n"
      ]
    },
    {
      "cell_type": "markdown",
      "metadata": {
        "id": "OUu3ftZPl1oK"
      },
      "source": [
        "You can also loop a specific number of times using range(n), which generates numbers from 0 up to n-1. For instance:\n"
      ]
    },
    {
      "cell_type": "code",
      "execution_count": null,
      "metadata": {
        "colab": {
          "base_uri": "https://localhost:8080/"
        },
        "id": "Hm2q4TUzlYy3",
        "outputId": "28513df7-2d19-4ee0-fcd1-f1372af94bce"
      },
      "outputs": [
        {
          "name": "stdout",
          "output_type": "stream",
          "text": [
            "Loop index i = 0\n",
            "Loop index i = 1\n",
            "Loop index i = 2\n",
            "Loop index i = 3\n",
            "Loop index i = 4\n"
          ]
        }
      ],
      "source": [
        "# Using range() to loop a fixed number of times\n",
        "for i in range(5):\n",
        "    print(\"Loop index i =\", i)\n"
      ]
    },
    {
      "cell_type": "markdown",
      "metadata": {
        "id": "tC3__KLJl41o"
      },
      "source": [
        "The above will print i from 0 to 4 (5 iterations total). range(5) generated [0,1,2,3,4]. You can use range(start, end) for different start or even add a step as a third argument.\n",
        "\n",
        "Let's use a loop for a practical task: summing numbers. We can sum all elements in a list:\n"
      ]
    },
    {
      "cell_type": "code",
      "execution_count": null,
      "metadata": {
        "colab": {
          "base_uri": "https://localhost:8080/"
        },
        "id": "vk6sqKSqZxW0",
        "outputId": "d2e21f4c-4d37-4996-de1e-0586c87ee8ae"
      },
      "outputs": [
        {
          "name": "stdout",
          "output_type": "stream",
          "text": [
            "Numbers: [3, 7, 2, 8, 4]\n",
            "Sum of numbers in list: 24\n"
          ]
        }
      ],
      "source": [
        "numbers = [3, 7, 2, 8, 4]\n",
        "total = 0\n",
        "for num in numbers:\n",
        "    total += num   # shorthand for total = total + num\n",
        "print(\"Numbers:\", numbers)\n",
        "print(\"Sum of numbers in list:\", total)\n"
      ]
    },
    {
      "cell_type": "markdown",
      "metadata": {
        "id": "bRpJiKECl7dE"
      },
      "source": [
        "We initialized `total` to 0 and then added each number in the list to it. After the loop, total holds the sum. (We could also use Python’s built-in sum(numbers), but using a loop is more instructive here.)\n",
        "\n",
        "While Loops: A `while` loop repeats as long as a condition remains true. Be careful with while loops – if the condition never becomes false, you get an infinite loop! Here’s a simple while loop that counts down:"
      ]
    },
    {
      "cell_type": "code",
      "execution_count": null,
      "metadata": {
        "colab": {
          "base_uri": "https://localhost:8080/"
        },
        "id": "9ET2cth0l_UN",
        "outputId": "31f2ef11-25b2-40c3-9857-7ce92799ab62"
      },
      "outputs": [
        {
          "name": "stdout",
          "output_type": "stream",
          "text": [
            "Counting down: 5\n",
            "Counting down: 4\n",
            "Counting down: 3\n",
            "Counting down: 2\n",
            "Counting down: 1\n",
            "Blast off!\n"
          ]
        }
      ],
      "source": [
        "count = 5\n",
        "while count > 0:\n",
        "    print(\"Counting down:\", count)\n",
        "    count -= 1  # decrease count by 1 each time\n",
        "print(\"Blast off!\")\n"
      ]
    },
    {
      "cell_type": "markdown",
      "metadata": {
        "id": "druq0z2BmBdc"
      },
      "source": [
        "Make sure you understand why this loop stops (the condition becomes false when count reaches 0). If you accidentally create a while loop that never stops, you can interrupt the kernel (in Colab: Runtime > Interrupt Execution).\n",
        "\n",
        "### Functions\n",
        "\n",
        "Functions are reusable blocks of code that perform a specific task. We define a function using def, give it a name and parameters, and then return a result (or just perform actions). Functions help organize code and avoid repetition.\n",
        "\n",
        "Let's define a simple function and see it in action:"
      ]
    },
    {
      "cell_type": "code",
      "execution_count": null,
      "metadata": {
        "colab": {
          "base_uri": "https://localhost:8080/"
        },
        "id": "J2CZ5zQ6mF6F",
        "outputId": "31c52604-e056-4d1f-bb68-5c2a244df78f"
      },
      "outputs": [
        {
          "name": "stdout",
          "output_type": "stream",
          "text": [
            "The square of 5 is 25\n"
          ]
        }
      ],
      "source": [
        "# Function to square a number\n",
        "def square(x):\n",
        "    return x * x\n",
        "\n",
        "# Using the function\n",
        "num = 5\n",
        "result = square(num)\n",
        "print(\"The square of\", num, \"is\", result)\n"
      ]
    },
    {
      "cell_type": "markdown",
      "metadata": {
        "id": "frtvM85TmHtt"
      },
      "source": [
        "Here square takes an input `x` and returns `x*x`. We then called square(5) and printed the result.\n",
        "\n",
        "Functions can also just perform an action without returning anything (they return `None` by default if no return given). For example, a greet function that prints a message:\n"
      ]
    },
    {
      "cell_type": "code",
      "execution_count": null,
      "metadata": {
        "colab": {
          "base_uri": "https://localhost:8080/"
        },
        "id": "X2zqOWn4mMBe",
        "outputId": "e1507582-8563-463a-f09e-5e5fb26c9bb3"
      },
      "outputs": [
        {
          "name": "stdout",
          "output_type": "stream",
          "text": [
            "Hello, Alice!\n",
            "Hello, Bob!\n"
          ]
        }
      ],
      "source": [
        "def greet(name):\n",
        "    print(\"Hello,\", name + \"!\")\n",
        "\n",
        "greet(\"Alice\")\n",
        "greet(\"Bob\")\n"
      ]
    },
    {
      "cell_type": "markdown",
      "metadata": {
        "id": "fDaSIshBmNqb"
      },
      "source": [
        "Run the above cell to see the greetings. Notice we concatenated the name with \"!\" inside the print. We could also use f-strings (formatted strings) like print(f\"Hello, {name}!\") which is another convenient way to format output in Python.\n",
        "\n",
        "Functions can encapsulate logic, and we can call them multiple times with different inputs. This will be useful when structuring our robot code (e.g., we might write a function to decide a move based on sensor input).\n",
        "\n",
        "**Mentor's Note: Ensure students understand the difference between defining a function and calling it. One way is to ask: \"What happens if you call the function before its definition cell is run?\" (It will error, since the function isn't defined yet). Also clarify return vs print inside functions if needed.**"
      ]
    },
    {
      "cell_type": "markdown",
      "metadata": {
        "id": "sA7RmRj6mQ2U"
      },
      "source": [
        "📝 Practice: Try it Yourself!\n",
        "\n",
        "Now it’s your turn to practice a bit of Python. Below are some prompts. Try to write code in the provided cells to accomplish each task.\n",
        "\n",
        "**Exercise 1**: Create a list of three of your friends' names. Then use a for loop to print a greeting to each friend by name. For example, if your list is [\"Alice\", \"Bob\"], it might print \"Hello, Alice!\" and \"Hello, Bob!\" (each on a new line)."
      ]
    },
    {
      "cell_type": "code",
      "execution_count": 4,
      "metadata": {
        "id": "8VQOvCdLmTXA"
      },
      "outputs": [
        {
          "name": "stdout",
          "output_type": "stream",
          "text": [
            "Hello Henry\n",
            "Hello John\n",
            "Hello Jane\n"
          ]
        }
      ],
      "source": [
        "# 🚀 Exercise 1: Create a list of names and greet each person.\n",
        "friends = [\"Henry\", \"John\", \"Jane\"]  # TODO: fill this list with 3 names (as strings)\n",
        "\n",
        "# TODO: Use a for loop to print a greeting for each name in the list\n",
        "for i in friends:\n",
        "        print(\"Hello\", i) #print(\"Hello \" + i)\n"
      ]
    },
    {
      "cell_type": "markdown",
      "metadata": {
        "id": "Lqf2fPjKmUQj"
      },
      "source": [
        "**Exercise 2**: Use a loop to calculate the sum of all numbers from 1 to 10 (inclusive). In other words, 1+2+3+...+10. Print the result. (You can verify the answer should be 55.)"
      ]
    },
    {
      "cell_type": "code",
      "execution_count": 6,
      "metadata": {
        "colab": {
          "base_uri": "https://localhost:8080/"
        },
        "id": "W1BoVPxHmV6B",
        "outputId": "b112592c-8c1b-420e-8ed9-3de08783b20e"
      },
      "outputs": [
        {
          "name": "stdout",
          "output_type": "stream",
          "text": [
            "Sum from 1 to 10 = 55\n"
          ]
        }
      ],
      "source": [
        "# 🚀 Exercise 2: Sum numbers from 1 to 10\n",
        "total = 0\n",
        "# TODO: use a for loop with range or while loop to accumulate the sum\n",
        "# Hint: range(1, 11) will generate numbers 1 through 10\n",
        "for i in range(1,11):\n",
        "        total += i\n",
        "print(\"Sum from 1 to 10 =\", total)\n"
      ]
    },
    {
      "cell_type": "markdown",
      "metadata": {
        "id": "TOC7kMdTmXei"
      },
      "source": [
        "**Exercise 3**: Write a function greet_person(name) that returns a greeting string (instead of printing it). For example, greet_person(\"Charlie\") could return \"Hello, Charlie!\". Then call your function a couple of times with different names and print the returned value each time to test it.\n"
      ]
    },
    {
      "cell_type": "code",
      "execution_count": 9,
      "metadata": {
        "colab": {
          "base_uri": "https://localhost:8080/"
        },
        "id": "k3wAFyrqmZNO",
        "outputId": "3633cab0-7983-457b-c152-2bf26ecca25b"
      },
      "outputs": [
        {
          "name": "stdout",
          "output_type": "stream",
          "text": [
            "Hello Charlie\n",
            "Hello Dana\n"
          ]
        }
      ],
      "source": [
        "# 🚀 Exercise 3: Define and use a greeting function that returns a string\n",
        "def greet_person(name):\n",
        "    # TODO: return a greeting message for the given name\n",
        "    return \"Hello \" + name # (replace this with the greeting string)\n",
        "\n",
        "# Testing the function:\n",
        "print(greet_person(\"Charlie\"))\n",
        "print(greet_person(\"Dana\"))\n"
      ]
    },
    {
      "cell_type": "markdown",
      "metadata": {
        "id": "2e0Iffk8mava"
      },
      "source": [
        "Take a moment to ensure you understand the exercises and your results. If something isn’t working, ask a partner or mentor for help, or try printing intermediate values to debug.\n",
        "\n",
        "**Mentor's Note: Walk around and assist with the exercises. For Exercise 1, some might try to print inside the loop but forget string concatenation or commas; guide them on using print(\"Hello, \" + name). For Exercise 2, watch for off-by-one errors (using range(10) instead of range(1,11)). For Exercise 3, clarify using return vs print inside the function.**"
      ]
    },
    {
      "cell_type": "markdown",
      "metadata": {
        "id": "PJ_Oxkfwmen0"
      },
      "source": [
        "## 2. Introduction to Computer Vision (CV)\n",
        "\n",
        "Now that our Python skills are warmed up, let's talk about Computer Vision. What is it, and why is it important in robotics?\n",
        "\n",
        "Computer Vision (CV) is a field of AI that enables computers (or robots) to interpret and understand visual information from the world, such as images or videos, similar to how humans use their eyes and brain. In simpler terms, it's like giving eyes to machines and teaching them to make sense of what they \"see\". This is crucial for robots that need to navigate, recognize objects, or make decisions based on their environment.\n",
        "\n",
        "Some core tasks in computer vision include:\n",
        "- Image Classification: Determining what an image contains (e.g., identifying if an image is of a cat or a dog). The output is a label or category for the image.\n",
        "- Object Detection: Finding and locating objects in an image (e.g., drawing a bounding box around a person in an image). The output is one or more bounding boxes and labels for each detected object.\n",
        "- Image Segmentation: Partitioning an image into segments by class, essentially classifying each pixel (e.g., coloring each pixel belonging to a cat vs background differently). This gives a precise shape outline for objects.\n",
        "\n",
        "There are other tasks too (face recognition, optical flow for motion, etc.), but the above are fundamental. In robotics, these tasks allow a robot to know what is in its environment and where it is, so it can act accordingly.\n",
        "\n",
        "Why is CV important for robotics? Imagine a self-driving car (a robot car) – it uses CV to detect lanes, traffic signs, pedestrians, and other cars. In our case, we are building a sorting robot. For a robot to sort objects (by color or shape), it must first see the objects and recognize their properties (like what color an object is, or where it is located). CV provides that capability. Without vision, our robot would be \"blind\" and unable to differentiate objects.\n",
        "\n",
        "### Relevance to Our Project: Sorting System\n",
        "\n",
        "Our final project is a robotic sorting system. In this project, the robot needs to identify objects by color and sort them into groups. We'll use computer vision techniques so that a camera can detect the color of each object and tell the robot where those objects are.\n",
        "\n",
        "For example, if we have an image feed from a camera looking at a conveyor belt or a table with objects, we want the computer to pick out, say, all the blue objects and maybe tell the robot arm to pick them up. Achieving this will involve some of the CV concepts we introduce today and practice in the next session:\n",
        "- Converting the camera image into a useful color representation.\n",
        "- Filtering the image to isolate a particular color (like creating a mask of just the blue areas).\n",
        "- Finding the location/shape of those areas (so the robot knows where to pick).\n",
        "\n",
        "Now, let's get into a few key concepts that will help us do this:\n",
        "color **spaces**, **image filtering**, and **thresholding**.\n"
      ]
    },
    {
      "cell_type": "markdown",
      "metadata": {
        "id": "tRBib0zXm9P9"
      },
      "source": [
        "## 3. Core Computer Vision Concepts\n",
        "\n",
        "### Color Spaces: BGR and HSV\n",
        "When dealing with color images on a computer, each pixel is typically represented by three values (for the three primary color channels). The common color space for digital images is RGB (Red, Green, Blue). OpenCV, the library we'll use, by default uses BGR (Blue, Green, Red) – it's just the channel order that's swapped (blue first instead of red).\n",
        "\n",
        "Why different color spaces? The RGB/BGR is intuitive for display, but not always the best for processing. Another very useful color space is HSV: Hue, Saturation, Value. This corresponds more closely to how humans describe colors:\n",
        "- Hue: The actual color type (angle on the color wheel), e.g., red, green, blue, etc.\n",
        "- Saturation: How intense or pure the color is (high saturation means vivid color, low means more grayish).\n",
        "- Value: The brightness of the color (0 is black, higher values are brighter).\n",
        "\n",
        "In HSV, the hue is typically given as an angle from 0–360° (OpenCV uses 0–180, essentially half-scale), saturation and value are given as percentages 0–100% (in OpenCV these are 0–255). The benefit is that HSV separates the color component (hue) from illumination (value). This makes it easier to filter by color alone. For example, if we want to detect all green objects, we can specify a range of hue values corresponding to green and not worry as much about how bright or dark the object is.\n",
        "\n",
        "Below is a diagram of the HSV color model (often visualized as a cone or cylinder). It shows how Hue, Saturation, and Value relate to color perception:\n",
        "https://docs.wpilib.org/en/stable/docs/software/vision-processing/wpilibpi/image-thresholding.html\n",
        "\n",
        "\n",
        "HSV color space represented as a cone: Hue corresponds to the angle (different colors around the circle), Saturation is the radius (distance from center – pale to vivid), and Value is the vertical axis (height – from dark to bright).\n",
        "\n",
        "In OpenCV, we can convert an image from BGR to HSV using a function cv2.cvtColor. We will do that in the next notebook. The key takeaway for now is: for color-based object detection, HSV is often more effective than RGB/BGR. In HSV, a range of hue values cleanly captures \"what color\" something is, while in BGR, a color is a combination of three values which can be affected by lighting. For instance, a red object in shadow (darker) still has a red hue, even if its BGR values are all lower due to less light.\n",
        "\n",
        "### Image Filtering\n",
        "Before we isolate colors, sometimes we might need to filter images. Filtering is modifying images by changing pixel values based on some criteria or neighborhood. Why filter? To enhance certain features or reduce noise.\n",
        "\n",
        "For example:\n",
        "- A blurring (smoothing) filter replaces a pixel by the average of its neighbors, which can remove small noise and smooth out the image. This is useful to reduce tiny stray dots or fluctuations.\n",
        "- A sharpening filter does the opposite – it emphasizes differences (edges) to make features more distinct.\n",
        "- Edge detection filters (like the Sobel filter or Canny edge detector) find boundaries of objects by looking for rapid intensity changes.\n",
        "\n",
        "In image processing terms, filtering changes the pixel values to either highlight or suppress certain details. We won't delve deep into filter algorithms today, but remember: we can preprocess images with filters to make our main task (like detecting color blobs) easier. For instance, if an image is a bit noisy, applying a blur filter before thresholding might help produce a cleaner mask.\n",
        "\n",
        "(If you're curious, blur is an example of a low-pass filter (removes high-frequency detail), and edge detection is high-pass (removes smooth background, keeps high-frequency edges).)\n",
        "\n",
        "### Thresholding\n",
        "Thresholding is a simple but powerful operation in vision. It converts an image to a binary image (just two values, commonly 0 and 255) based on a threshold condition. Essentially: if a pixel value meets a criterion, mark it as \"foreground\" (white); if not, mark it as \"background\" (black).\n",
        "\n",
        "For example, suppose we have a grayscale image (each pixel intensity from 0=black to 255=white). If we choose a threshold of 128, we can make a rule: any pixel brighter than 128 becomes 255 (white), and anything else becomes 0 (black). This will segment the image into two parts. If the image was dark background with bright objects, thresholding would ideally leave us white blobs on black background corresponding to the objects.\n",
        "\n",
        "Thresholding can be applied to color images too, but usually we apply it to one channel at a time (e.g., on a grayscale image or on the hue channel of an HSV image). In our project, we will threshold on the HSV representation to get only the pixels in a certain color range.\n",
        "\n",
        "Let's illustrate thresholding with a very simple example using Python lists (to avoid needing an image file here). Imagine we have some brightness values and we want to threshold them:"
      ]
    },
    {
      "cell_type": "code",
      "execution_count": 11,
      "metadata": {
        "colab": {
          "base_uri": "https://localhost:8080/"
        },
        "id": "b_kodUtynb_o",
        "outputId": "72cbafad-81bf-47a0-addf-720591a3ee2a"
      },
      "outputs": [
        {
          "name": "stdout",
          "output_type": "stream",
          "text": [
            "Original: [50, 120, 200, 90, 150]\n",
            "Thresholded: [0, 255, 255, 0, 255]\n"
          ]
        }
      ],
      "source": [
        "# Simulated grayscale pixel intensities\n",
        "pixels = [50, 120, 200, 90, 150]  # five pixel values (0-255 scale)\n",
        "threshold_value = 100\n",
        "\n",
        "# Apply threshold: values above threshold -> 255, otherwise -> 0\n",
        "binary_pixels = []\n",
        "for pixel in pixels:\n",
        "    if pixel > threshold_value:\n",
        "        binary_pixels.append(255)\n",
        "    else:\n",
        "        binary_pixels.append(0)\n",
        "print(\"Original:\", pixels)\n",
        "print(\"Thresholded:\", binary_pixels)"
      ]
    },
    {
      "cell_type": "markdown",
      "metadata": {
        "id": "llV17RA2ndlM"
      },
      "source": [
        "When you run the above cell, you'll see the original list and the thresholded result. Pixel values above 100 became 255, the rest became 0. This is exactly what thresholding does on an image, just applied to each pixel. In an actual image, we'd get a black-and-white image as output.\n",
        "\n",
        "Try changing threshold_value to something else (say 150) in the code and re-run to see how the binary output changes.\n",
        "\n",
        "Thresholding is often used as a segmentation technique – to separate regions of interest. However, picking the right threshold is key, and in more complex images, a single global threshold might not work perfectly (there are methods like adaptive thresholding or Otsu’s method for that, but those are beyond our scope today).\n",
        "\n",
        "**In the context of color:**\n",
        "- We might threshold on the hue channel (to get a certain color range).\n",
        "- **Actually, we will use a function that threshold in a range: cv2.inRange(), which keeps pixels within a min and max range for each channel. This is like a 3D threshold (for H, S, and V ranges).**\n",
        "\n",
        "Recap: Thresholding takes us from a full-color or grayscale image to a binary mask. This mask can highlight just the parts of the image we care about (e.g., all pixels that are \"green\" within some tolerance become white).\n",
        "\n",
        "One thing to note: after thresholding, the result may have noise (extra white spots or small holes) depending on the image. There are morphological operations (like eroding or dilating the mask) that can clean up such noise if needed. If our results have noise, we might mention how to handle it, but we’ll see if it's necessary once we try on a real image.\n"
      ]
    },
    {
      "cell_type": "markdown",
      "metadata": {
        "id": "MFoiPesunmdr"
      },
      "source": [
        "## 4. Tying It Together: Vision for the Sorting Robot\n",
        "Let's connect these concepts to what our robot needs to do:\n",
        "- We will use a camera image as input.\n",
        "- Convert the image from BGR to HSV color space.\n",
        "- Choose a target color (say, we want to sort out all the blue objects first). We will define a range of HSV values that correspond to \"blue\".\n",
        "- Apply a threshold (using inRange) to get a binary mask where white = pixels that are in the blue range, black = everything else.\n",
        "- That mask should ideally look like white blobs on black background, each blob representing a blue object.\n",
        "- We can then find contours (connected white regions) in that mask. Each contour corresponds to one detected object.\n",
        "- For each contour, we can compute its area (to filter out tiny specks) and its center. The center (in pixel coordinates) tells us where the object is in the image. This information can later be used to guide the robot to that object.\n",
        "- We can draw these contours and centers on the image for visualization.\n",
        "\n",
        "Don't worry if some of these steps sound unfamiliar – we'll walk through them in the next session’s notebook with actual code and a sample image.\n",
        "\n",
        "Important: In a real setting, factors like lighting can affect color detection. The same blue object might look different under a yellow lamp versus sunlight. HSV helps, but sometimes you need to adjust the ranges for the environment. This is a good thing to keep in mind: computer vision often requires tuning or calibrating to conditions.\n",
        "\n",
        "### Wrap-Up (Session 1)\n",
        "You've refreshed Python and learned the basics of computer vision relevant to our project:\n",
        "- Python basics: variables, loops, functions (you'll use these to write the vision logic and possibly control logic for the robot).\n",
        "- What computer vision is and common tasks.\n",
        "- Key concepts: color spaces (HSV), filtering, and thresholding for segmentation.\n",
        "\n",
        "In the next session (Notebook 2), we'll get hands-on with OpenCV to apply these ideas:\n",
        "we'll load an image with colorful objects and write code to detect and highlight those objects by color. Exciting!\n",
        "\n",
        "Before moving on, make sure:\n",
        "- You are comfortable with the Python exercises above (if not, review or ask questions).\n",
        "- You understand at a high level what our approach for color-based detection will be (if you can, try to explain the pipeline in your own words).\n",
        "\n",
        "\n",
        "Great work so far! When you're ready, proceed to Notebook 2: Hands-On Image Processing with OpenCV where we'll implement the vision pipeline step by step."
      ]
    }
  ],
  "metadata": {
    "colab": {
      "provenance": []
    },
    "kernelspec": {
      "display_name": "Python 3",
      "name": "python3"
    },
    "language_info": {
      "codemirror_mode": {
        "name": "ipython",
        "version": 3
      },
      "file_extension": ".py",
      "mimetype": "text/x-python",
      "name": "python",
      "nbconvert_exporter": "python",
      "pygments_lexer": "ipython3",
      "version": "3.13.2"
    }
  },
  "nbformat": 4,
  "nbformat_minor": 0
}
