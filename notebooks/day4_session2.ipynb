{
 "cells": [
  {
   "cell_type": "markdown",
   "metadata": {
    "id": "xG7C0BIH8Ry9"
   },
   "source": [
    "# Introduction to Physics Simulation and URDFs\n"
   ]
  },
  {
   "cell_type": "markdown",
   "metadata": {
    "id": "GBjB89pE8zdj"
   },
   "source": [
    "## Setting Up PyBullet in Colab\n",
    "\n",
    "First, let’s set up our environment by installing PyBullet and importing the necessary modules. We’ll connect to PyBullet in DIRECT mode (no GUI). If you were running this on your own computer and wanted to see the simulation in a GUI window, you could use `p.connect(p.GUI)` instead, but that won’t work in Colab.\n",
    "\n",
    "**Code**: Install and import PyBullet, and connect to the physics server.\n"
   ]
  },
  {
   "cell_type": "code",
   "execution_count": 1,
   "metadata": {
    "id": "JuhytOz37aFT"
   },
   "outputs": [],
   "source": [
    "!pip install -q pybullet"
   ]
  },
  {
   "cell_type": "code",
   "execution_count": 5,
   "metadata": {},
   "outputs": [
    {
     "name": "stdout",
     "output_type": "stream",
     "text": [
      "/Users/henry/miniforge3/envs/pybullet_env/bin/python\n",
      "3.10.18 | packaged by conda-forge | (main, Jun  4 2025, 14:46:00) [Clang 18.1.8 ]\n"
     ]
    }
   ],
   "source": [
    "import sys\n",
    "print(sys.executable)\n",
    "print(sys.version)"
   ]
  },
  {
   "cell_type": "code",
   "execution_count": 1,
   "metadata": {
    "colab": {
     "base_uri": "https://localhost:8080/"
    },
    "executionInfo": {
     "elapsed": 33,
     "status": "ok",
     "timestamp": 1750635621929,
     "user": {
      "displayName": "Nicholas Drake Broadbent",
      "userId": "08725805900874769141"
     },
     "user_tz": 420
    },
    "id": "03Xjl2dG82s-",
    "outputId": "ab7adf1a-b068-4686-bcbd-dddf1c1e1fc4"
   },
   "outputs": [
    {
     "name": "stdout",
     "output_type": "stream",
     "text": [
      "PyBullet connected (ID 0)\n"
     ]
    },
    {
     "name": "stderr",
     "output_type": "stream",
     "text": [
      "pybullet build time: May 17 2025 21:05:07\n"
     ]
    }
   ],
   "source": [
    "import PyQt5\n",
    "%gui qt\n",
    "import pybullet as p\n",
    "import pybullet_data\n",
    "import time\n",
    "\n",
    "# Connect to PyBullet physics server in DIRECT mode (no GUI).\n",
    "physicsClient = p.connect(p.DIRECT)\n",
    "# Set search path to find URDFs (includes PyBullet's built-in urdf files).\n",
    "p.setAdditionalSearchPath(pybullet_data.getDataPath())\n",
    "print(\"PyBullet connected (ID {})\".format(physicsClient))"
   ]
  },
  {
   "cell_type": "code",
   "execution_count": 6,
   "metadata": {},
   "outputs": [
    {
     "name": "stdout",
     "output_type": "stream",
     "text": [
      "numActiveThreads = 0\n",
      "stopping threads\n",
      "Thread with taskId 0 exiting\n",
      "Thread TERMINATED\n",
      "destroy semaphore\n",
      "semaphore destroyed\n",
      "destroy main semaphore\n",
      "main semaphore destroyed\n"
     ]
    }
   ],
   "source": [
    "p.disconnect()"
   ]
  },
  {
   "cell_type": "markdown",
   "metadata": {
    "id": "eBxkpvYl84uy"
   },
   "source": [
    "Running the above should install PyBullet and print a confirmation that we’re connected. The physicsClient ID (usually 0) indicates a successful connection.\n",
    "\n",
    "Output:\n",
    "```\n",
    "PyBullet connected (ID 0)\n",
    "```"
   ]
  },
  {
   "cell_type": "markdown",
   "metadata": {
    "id": "Qp5rmhdd88Iw"
   },
   "source": [
    "(Optional – for local desktop users only: If you are running this notebook on your own computer with PyBullet installed, you can use GUI mode to see the simulation. Uncomment the line below and comment out the DIRECT mode line to connect with GUI visualization. Remember, this won’t show a window in Colab.)\n"
   ]
  },
  {
   "cell_type": "code",
   "execution_count": 2,
   "metadata": {
    "id": "18t-d86r89Yu"
   },
   "outputs": [
    {
     "name": "stdout",
     "output_type": "stream",
     "text": [
      "Version = 4.1 Metal - 89.4\n",
      "Vendor = Apple\n",
      "Renderer = Apple M4 Pro\n",
      "b3Printf: Selected demo: Physics Server\n",
      "startThreads creating 1 threads.\n",
      "starting thread 0\n",
      "started thread 0 \n",
      "MotionThreadFunc thread started\n"
     ]
    }
   ],
   "source": [
    "physicsClient = p.connect(p.GUI)  # Optional: use GUI mode if running locally"
   ]
  },
  {
   "cell_type": "markdown",
   "metadata": {
    "id": "AE-zvHOc9ARo"
   },
   "source": [
    "## Loading a Simple Robot and Environment\n",
    "\n",
    "Now that PyBullet is ready, let’s set up a basic simulation world:\n",
    "1. **Add a ground plane**: Most simulations start with a floor. PyBullet has a ready-made plane URDF we can load.\n",
    "2. **Define a simple robot URDF**: We will use a very basic two-link arm as our robot. To keep things self-contained, we’ll generate a URDF file for it on the fly. (In practice, you might load a URDF from disk. PyBullet also has example robots like KUKA arms, but those have many joints and details. Our simple arm will be easier to understand.)\n",
    "3. **Load the robot URDF into the simulation**.\n",
    "\n",
    "\n",
    "**Code**: Load a ground plane and create a simple two-link robot URDF file."
   ]
  },
  {
   "cell_type": "code",
   "execution_count": 3,
   "metadata": {
    "colab": {
     "base_uri": "https://localhost:8080/"
    },
    "executionInfo": {
     "elapsed": 41,
     "status": "ok",
     "timestamp": 1750635622005,
     "user": {
      "displayName": "Nicholas Drake Broadbent",
      "userId": "08725805900874769141"
     },
     "user_tz": 420
    },
    "id": "FFimg06a9C_C",
    "outputId": "18b8f66d-6683-4138-fd50-341ecf348f29"
   },
   "outputs": [
    {
     "name": "stdout",
     "output_type": "stream",
     "text": [
      "Loaded ground plane with ID: 0\n",
      "simple_arm.urdf file created.\n"
     ]
    }
   ],
   "source": [
    "# physicsClient = p.connect(p.GUI)  \n",
    "# Load a basic flat plane as ground.\n",
    "plane_id = p.loadURDF(\"plane.urdf\")\n",
    "print(\"Loaded ground plane with ID:\", plane_id)\n",
    "\n",
    "# Define a simple two-link robot URDF as a string.\n",
    "simple_urdf = \"\"\"<?xml version=\"1.0\"?>\n",
    "<robot name=\"simple_two_link\">\n",
    "  <link name=\"base_link\">\n",
    "    <inertial>\n",
    "      <mass value=\"1\"/>\n",
    "      <inertia ixx=\"1\" iyy=\"1\" izz=\"1\" ixy=\"0\" ixz=\"0\" iyz=\"0\"/>\n",
    "    </inertial>\n",
    "    <visual>\n",
    "      <geometry><box size=\"0.1 0.1 0.1\"/></geometry>\n",
    "      <material name=\"blue\"><color rgba=\"0 0 1 1\"/></material>\n",
    "    </visual>\n",
    "  </link>\n",
    "  <link name=\"link1\">\n",
    "    <inertial>\n",
    "      <mass value=\"1\"/>\n",
    "      <inertia ixx=\"0.1\" iyy=\"0.1\" izz=\"0.1\" ixy=\"0\" ixz=\"0\" iyz=\"0\"/>\n",
    "    </inertial>\n",
    "    <visual>\n",
    "      <origin xyz=\"0 0 0.5\" rpy=\"0 0 0\"/>\n",
    "      <geometry><cylinder radius=\"0.05\" length=\"1\"/></geometry>\n",
    "      <material name=\"green\"><color rgba=\"0 1 0 1\"/></material>\n",
    "    </visual>\n",
    "  </link>\n",
    "  <link name=\"link2\">\n",
    "    <inertial>\n",
    "      <mass value=\"1\"/>\n",
    "      <inertia ixx=\"0.1\" iyy=\"0.1\" izz=\"0.1\" ixy=\"0\" ixz=\"0\" iyz=\"0\"/>\n",
    "    </inertial>\n",
    "    <visual>\n",
    "      <origin xyz=\"0 0 0.5\" rpy=\"0 0 0\"/>\n",
    "      <geometry><cylinder radius=\"0.05\" length=\"1\"/></geometry>\n",
    "      <material name=\"red\"><color rgba=\"1 0 0 1\"/></material>\n",
    "    </visual>\n",
    "  </link>\n",
    "  <!-- Joint connecting base_link and link1 -->\n",
    "  <joint name=\"joint1\" type=\"revolute\">\n",
    "    <parent link=\"base_link\"/>\n",
    "    <child link=\"link1\"/>\n",
    "    <origin xyz=\"0 0 0.1\" rpy=\"0 0 0\"/>\n",
    "    <axis xyz=\"0 1 0\"/>\n",
    "    <limit lower=\"-3.14\" upper=\"3.14\" effort=\"10\" velocity=\"1\"/>\n",
    "  </joint>\n",
    "  <!-- Joint connecting link1 and link2 -->\n",
    "  <joint name=\"joint2\" type=\"revolute\">\n",
    "    <parent link=\"link1\"/>\n",
    "    <child link=\"link2\"/>\n",
    "    <origin xyz=\"0 0 1\" rpy=\"0 0 0\"/>\n",
    "    <axis xyz=\"0 1 0\"/>\n",
    "    <limit lower=\"-3.14\" upper=\"3.14\" effort=\"10\" velocity=\"1\"/>\n",
    "  </joint>\n",
    "</robot>\"\"\"\n",
    "# Write the URDF string to a file.\n",
    "with open(\"simple_arm.urdf\", \"w\") as f:\n",
    "    f.write(simple_urdf)\n",
    "print(\"simple_arm.urdf file created.\")\n"
   ]
  },
  {
   "cell_type": "markdown",
   "metadata": {
    "id": "sEgiB3ez9DgX"
   },
   "source": [
    "Let’s break down what we did in the URDF above:\n",
    "\n",
    "- We created a robot named \"simple_two_link\".\n",
    "- Defined three links: **base_link** (a small blue box, acting as the robot’s base), **link1** (a green cylinder of length 1 unit), and **link2** (a red cylinder of length 1 unit).\n",
    "- Added two revolute (rotating) joints: **joint1** attaches base_link to link1 (with an axis of rotation along the Y-axis through the base, meaning link1 can swing up/down), and **joint2** attaches link1 to link2 (axis along link1’s Y-axis, so link2 can swing relative to link1). We gave each joint a range of motion from -3.14 to +3.14 radians (~±180 degrees).\n",
    "- Note: We positioned link1’s joint origin at `<origin xyz=\"0 0 0.1\"/>` relative to base_link (so link1 attaches at the top of the base box), and link2’s joint origin at `<origin xyz=\"0 0 1\"/>` relative to link1 (so it attaches at link1’s end). All rotations are about the Y axis (`axis xyz=\"0 1 0\"`), which for our orientation means a horizontal axis allowing the links to swing in a vertical plane (like an elbow bending).\n",
    "\n",
    "\n",
    "Now that the URDF file is created, let’s load the robot into the simulation."
   ]
  },
  {
   "cell_type": "code",
   "execution_count": 4,
   "metadata": {
    "colab": {
     "base_uri": "https://localhost:8080/"
    },
    "executionInfo": {
     "elapsed": 26,
     "status": "ok",
     "timestamp": 1750635622008,
     "user": {
      "displayName": "Nicholas Drake Broadbent",
      "userId": "08725805900874769141"
     },
     "user_tz": 420
    },
    "id": "cwWHlEq99IpB",
    "outputId": "96831b85-fd93-48df-d7d3-612b1e12872f"
   },
   "outputs": [
    {
     "name": "stdout",
     "output_type": "stream",
     "text": [
      "Loaded simple robot with ID: 1\n"
     ]
    }
   ],
   "source": [
    "# Load the simple two-link robot URDF into PyBullet\n",
    "robot_id = p.loadURDF(\"simple_arm.urdf\", basePosition=[0,0,0], useFixedBase=True)\n",
    "print(\"Loaded simple robot with ID:\", robot_id)\n"
   ]
  },
  {
   "cell_type": "markdown",
   "metadata": {
    "id": "VxOB62V59Jvm"
   },
   "source": [
    "\n",
    "This is the result of simulating the robot on local.\n",
    "\n",
    "<img src=\"https://i.postimg.cc/t4jzzmT3/urdf-model.png\" alt=\"urdf_model\" width=\"300\"/>\n",
    "\n",
    "\n",
    "We used `useFixedBase=True` so that the base_link is anchored at the given basePosition and will not fall due to gravity. The robot is now in the simulation. We also loaded a ground plane earlier (plane_id). By default, PyBullet has gravity enabled (set to Earth gravity 9.8 m/s² downward on the z-axis). If our robot’s base was not fixed, it would start falling. Since it’s fixed, it will stay in place – useful because this robot has no legs or supports.\n",
    "\n",
    "The code prints the unique ID of the robot (an integer). We have our world set up: a ground and a simple robot.\n",
    "\n",
    "Output:\n",
    "```\n",
    "Loaded ground plane with ID: 0\n",
    "simple_arm.urdf file created.\n",
    "Loaded simple robot with ID: 1\n",
    "```"
   ]
  },
  {
   "cell_type": "markdown",
   "metadata": {
    "id": "5X5HfKbR9Nij"
   },
   "source": [
    "## Inspecting the Robot Model\n",
    "\n",
    "Let’s explore some properties of the loaded robot to understand the structure:\n",
    "\n",
    "**Code**: Query robot details (number of joints, joint names, etc)."
   ]
  },
  {
   "cell_type": "code",
   "execution_count": 5,
   "metadata": {
    "colab": {
     "base_uri": "https://localhost:8080/"
    },
    "executionInfo": {
     "elapsed": 17,
     "status": "ok",
     "timestamp": 1750635622009,
     "user": {
      "displayName": "Nicholas Drake Broadbent",
      "userId": "08725805900874769141"
     },
     "user_tz": 420
    },
    "id": "VFk5xCfV9Ovo",
    "outputId": "e424d1b6-9d88-4625-b5e0-94aef0d28436"
   },
   "outputs": [
    {
     "name": "stdout",
     "output_type": "stream",
     "text": [
      "Number of joints in the robot: 2\n",
      " Joint 0: name='joint1', type=0\n",
      " Joint 1: name='joint2', type=0\n"
     ]
    }
   ],
   "source": [
    "num_joints = p.getNumJoints(robot_id)\n",
    "print(\"Number of joints in the robot:\", num_joints)\n",
    "\n",
    "# Print the name and type of each joint\n",
    "for ji in range(num_joints):\n",
    "    info = p.getJointInfo(robot_id, ji)\n",
    "    joint_name = info[1].decode('utf-8')\n",
    "    joint_type = info[2]\n",
    "    print(f\" Joint {ji}: name='{joint_name}', type={joint_type}\")\n"
   ]
  },
  {
   "cell_type": "markdown",
   "metadata": {
    "id": "0oXdXWC89QZ6"
   },
   "source": [
    "When you run this, you should see that our robot has 2 joints (joint1 and joint2). PyBullet assigns each joint an index (0 and 1 in this case, since joints are numbered starting from 0). The joint type is given as an integer code – 0 typically means revolute (hinge) joint. The joint names come from our URDF.\n",
    "\n",
    "Output:\n",
    "```\n",
    "Number of joints in the robot: 2\n",
    " Joint 0: name='joint1', type=0\n",
    " Joint 1: name='joint2', type=0\n",
    "```\n",
    "\n",
    "This confirms our robot’s two joints are loaded correctly. We can also query links. In PyBullet, the base link of a robot isn’t counted as a joint (the robot’s base is fixed or free in space). So with 2 joints, there are 3 links (base_link plus two others). We can verify the link names via the joint info as well (PyBullet’s getJointInfo returns child link names, etc.). Let’s also check the robot’s starting pose briefly.\n"
   ]
  },
  {
   "cell_type": "code",
   "execution_count": 6,
   "metadata": {
    "colab": {
     "base_uri": "https://localhost:8080/"
    },
    "executionInfo": {
     "elapsed": 19,
     "status": "ok",
     "timestamp": 1750635622017,
     "user": {
      "displayName": "Nicholas Drake Broadbent",
      "userId": "08725805900874769141"
     },
     "user_tz": 420
    },
    "id": "xhjBnqOf9P_F",
    "outputId": "42a151f1-315d-4369-9bb3-e9e93b41d05d"
   },
   "outputs": [
    {
     "name": "stdout",
     "output_type": "stream",
     "text": [
      "Robot base position (x,y,z): (0.0, 0.0, 0.0)\n",
      "Robot base orientation (as quaternion): (0.0, 0.0, 0.0, 1.0)\n",
      " Initial angle of joint 0 ('joint1') = 0.00 rad\n",
      " Initial angle of joint 1 ('joint2') = 0.00 rad\n"
     ]
    }
   ],
   "source": [
    "# Get base position and orientation\n",
    "base_pos, base_orn = p.getBasePositionAndOrientation(robot_id)\n",
    "print(\"Robot base position (x,y,z):\", base_pos)\n",
    "print(\"Robot base orientation (as quaternion):\", base_orn)\n",
    "\n",
    "# Check initial joint states (angles)\n",
    "for ji in range(num_joints):\n",
    "    joint_state = p.getJointState(robot_id, ji)\n",
    "    joint_angle = joint_state[0]  # position value\n",
    "    print(f\" Initial angle of joint {ji} ('{p.getJointInfo(robot_id, ji)[1].decode('utf-8')}') = {joint_angle:.2f} rad\")\n"
   ]
  },
  {
   "cell_type": "markdown",
   "metadata": {
    "id": "eBYCwAyK9WFc"
   },
   "source": [
    "By default, if we don’t specify anything, PyBullet loads the URDF with all joint angles at their default positions (usually 0). The base position should be (0,0,0) as we set, and orientation as a quaternion (0,0,0,1) meaning no rotation from world axes.\n",
    "\n",
    "Output:\n",
    "```\n",
    "Robot base position (x,y,z): (0.0, 0.0, 0.0)\n",
    "Robot base orientation (as quaternion): (0.0, 0.0, 0.0, 1.0)\n",
    " Initial angle of joint 0 ('joint1') = 0.00 rad\n",
    " Initial angle of joint 1 ('joint2') = 0.00 rad\n",
    "\n",
    "```"
   ]
  },
  {
   "cell_type": "markdown",
   "metadata": {
    "id": "oOMvaDGz9YnJ"
   },
   "source": [
    "The robot’s base is at the world origin, and the joints are initially at 0 radians (so link1 is unrotated, pointing presumably straight down from the base’s attachment point; link2 is straight in line with link1 since its joint is also 0).\n"
   ]
  },
  {
   "cell_type": "markdown",
   "metadata": {
    "id": "huKFkWFz9Z3X"
   },
   "source": [
    "## Simulating Physics\n",
    "Even though we have a robot loaded, nothing has moved yet. The physics simulation advances in steps. In a real-time simulator, these steps would be advanced continuously. In PyBullet’s DIRECT mode, we manually step the simulation.\n",
    "\n",
    "Right now, gravity is acting on the robot. But we fixed the base in place, and the arm links are connected by joints with no motors actively moving them. Because we didn’t apply any initial forces or velocities, the arm will just hang there in whatever pose we set (in this case, straight down). Let’s advance the simulation a bit to confirm nothing crazy happens (it shouldn’t).\n",
    "\n",
    "**Code**: Step the simulation forward and see if anything changes.\n"
   ]
  },
  {
   "cell_type": "code",
   "execution_count": 7,
   "metadata": {
    "colab": {
     "base_uri": "https://localhost:8080/"
    },
    "executionInfo": {
     "elapsed": 16,
     "status": "ok",
     "timestamp": 1750635622046,
     "user": {
      "displayName": "Nicholas Drake Broadbent",
      "userId": "08725805900874769141"
     },
     "user_tz": 420
    },
    "id": "9KPbtrhH9b75",
    "outputId": "0ce10853-4184-47f3-ba89-26b6d41418ea"
   },
   "outputs": [
    {
     "name": "stdout",
     "output_type": "stream",
     "text": [
      "Post-simulation angle of joint 0 = 0.00 rad\n",
      "Post-simulation angle of joint 1 = 0.00 rad\n"
     ]
    },
    {
     "ename": "",
     "evalue": "",
     "output_type": "error",
     "traceback": [
      "\u001b[1;31mThe Kernel crashed while executing code in the current cell or a previous cell. \n",
      "\u001b[1;31mPlease review the code in the cell(s) to identify a possible cause of the failure. \n",
      "\u001b[1;31mClick <a href='https://aka.ms/vscodeJupyterKernelCrash'>here</a> for more info. \n",
      "\u001b[1;31mView Jupyter <a href='command:jupyter.viewOutput'>log</a> for further details."
     ]
    }
   ],
   "source": [
    "# Run the simulation for a short time (e.g., 1 second of simulated time)\n",
    "# PyBullet default time step is ~1/240 of a second, so 240 steps = 1 second.\n",
    "for _ in range(240):\n",
    "    p.stepSimulation()\n",
    "\n",
    "# After simulation steps, check the joint angles again to see if they moved\n",
    "for ji in range(num_joints):\n",
    "    joint_angle = p.getJointState(robot_id, ji)[0]\n",
    "    print(f\"Post-simulation angle of joint {ji} = {joint_angle:.2f} rad\")\n"
   ]
  },
  {
   "cell_type": "markdown",
   "metadata": {
    "id": "kFOrga_I9c5o"
   },
   "source": [
    "We stepped the simulation 240 times (which corresponds to roughly 1 second of simulation time at default settings). Since we didn’t apply any motor commands or external forces, and the base is fixed, the arm should remain in place. The joint angles printed after simulation should still be 0.00 rad for both joints, confirming nothing moved on its own.\n",
    "\n",
    "Output:\n",
    "```\n",
    "Post-simulation angle of joint 0 = 0.00 rad\n",
    "Post-simulation angle of joint 1 = 0.00 rad\n",
    "```"
   ]
  },
  {
   "cell_type": "markdown",
   "metadata": {
    "id": "-m0SKyU39ft1"
   },
   "source": [
    "Great! We have successfully:\n",
    "- Set up a physics simulation environment,\n",
    "- Loaded a robot described by a URDF,\n",
    "- Stepped the simulation.\n"
   ]
  }
 ],
 "metadata": {
  "colab": {
   "provenance": [
    {
     "file_id": "1-m-V6r4FsGwL7yoo0Dn6pzdspBQcYMcI",
     "timestamp": 1750629364199
    }
   ]
  },
  "kernelspec": {
   "display_name": "pybullet_env",
   "language": "python",
   "name": "python3"
  },
  "language_info": {
   "codemirror_mode": {
    "name": "ipython",
    "version": 3
   },
   "file_extension": ".py",
   "mimetype": "text/x-python",
   "name": "python",
   "nbconvert_exporter": "python",
   "pygments_lexer": "ipython3",
   "version": "3.10.18"
  }
 },
 "nbformat": 4,
 "nbformat_minor": 0
}
