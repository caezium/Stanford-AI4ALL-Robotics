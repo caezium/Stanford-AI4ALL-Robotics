{
  "cells": [
    {
      "cell_type": "markdown",
      "metadata": {
        "id": "jRAwYx-bBEbg"
      },
      "source": [
        "# Day 6 Session 2 – Hands-On Mapping and Vision Tuning\n",
        "\n",
        "This session ties everything together: we’ll take an image, detect an object with OpenCV (color detection like we did on Day 3), then map that detection to a coordinate in the simulation world. We’ll demonstrate this with a simple example and give you room to experiment.\n",
        "\n",
        "**Reminder**: In Day 3 notebooks, we learned how to use OpenCV to detect colored objects (for instance, using HSV thresholding). We’ll reuse that concept here.\n",
        "\n",
        "## Setup: Import OpenCV and Create a Test Image\n",
        "First, let’s set up OpenCV (if not already installed) and create a test image. We’ll simulate a scenario: an overhead view with a distinct colored dot representing an object.\n",
        "\n",
        "**Code**: Import OpenCV and create a test image with a colored object."
      ]
    },
    {
      "cell_type": "code",
      "execution_count": null,
      "metadata": {
        "id": "H3ObAoit3ynm"
      },
      "outputs": [],
      "source": [
        "!pip install -q opencv-python-headless"
      ]
    },
    {
      "cell_type": "code",
      "execution_count": null,
      "metadata": {
        "colab": {
          "base_uri": "https://localhost:8080/",
          "height": 435
        },
        "id": "7L6R1f32BKR-",
        "outputId": "ae294b46-714f-4de8-b682-ba2733b640df"
      },
      "outputs": [
        {
          "name": "stdout",
          "output_type": "stream",
          "text": [
            "Test image created. Object center (pixel): (300, 100)\n"
          ]
        },
        {
          "data": {
            "image/jpeg": "[encoded data removed]",
            "image/png": "[encoded data removed]",
            "text/plain": [
              "<PIL.Image.Image image mode=RGB size=400x400>"
            ]
          },
          "metadata": {},
          "output_type": "display_data"
        }
      ],
      "source": [
        "import cv2\n",
        "import numpy as np\n",
        "from google.colab.patches import cv2_imshow\n",
        "\n",
        "# Create a blank image (e.g., 400x400 pixels, white background)\n",
        "img_height, img_width = 400, 400\n",
        "image = np.ones((img_height, img_width, 3), dtype=np.uint8) * 255  # white image\n",
        "\n",
        "# Draw a colored circle (our \"object\") on the image\n",
        "obj_color_bgr = (0, 255, 0)  # green in BGR format\n",
        "obj_center = (300, 100)      # pixel coordinates (x=300, y=100)\n",
        "obj_radius = 15\n",
        "cv2.circle(image, obj_center, obj_radius, obj_color_bgr, -1)  # filled circle\n",
        "\n",
        "print(\"Test image created. Object center (pixel):\", obj_center)\n",
        "cv2_imshow(image)  # display the generated image\n"
      ]
    },
    {
      "cell_type": "markdown",
      "metadata": {
        "id": "1R6yd4enBK50"
      },
      "source": [
        "Running this will create a 400x400 image with a green circle at pixel (300,100). The cv2_imshow should display the image (a white background with a green dot near the top-right region).\n",
        "\n",
        "Output: The image is shown below (with the green circle):\n",
        "\n",
        "<img src=\"https://i.postimg.cc/V6Z2qcYk/Screenshot-2025-06-12-at-1-05-21-AM.png\" alt=\"Sample Image\" width=\"250\"/>\n",
        "\n",
        "(If you cannot see the image above due to platform limitations, imagine a white square with a green dot in the upper-right area.)"
      ]
    },
    {
      "cell_type": "markdown",
      "metadata": {
        "id": "lgeMpC5tBYWv"
      },
      "source": [
        "## Detecting the Object in the Image (HSV Color Detection)\n",
        "\n",
        "We’ll now perform color detection to find the object’s pixel coordinates. Since we drew the object in green, we’ll target that. We convert the image to HSV color space and define a range for green.\n",
        "\n",
        "**Code**: Detect the green object and find its pixel position.\n"
      ]
    },
    {
      "cell_type": "code",
      "execution_count": null,
      "metadata": {
        "colab": {
          "base_uri": "https://localhost:8080/",
          "height": 435
        },
        "id": "avz0fDS_7nOe",
        "outputId": "bfcb0715-f9ac-4a0a-8810-c9cc17311bc8"
      },
      "outputs": [
        {
          "name": "stdout",
          "output_type": "stream",
          "text": [
            "Detected object at pixel: (300, 100)\n"
          ]
        },
        {
          "data": {
            "image/jpeg": "[encoded data removed]",
            "image/png": "[encoded data removed]",
            "text/plain": [
              "<PIL.Image.Image image mode=RGB size=400x400>"
            ]
          },
          "metadata": {},
          "output_type": "display_data"
        }
      ],
      "source": [
        "# Convert image to HSV and threshold for green color\n",
        "hsv = cv2.cvtColor(image, cv2.COLOR_BGR2HSV)\n",
        "# Define HSV range for green (this may need tuning if shades vary)\n",
        "lower_green = np.array([50, 150, 150])\n",
        "upper_green = np.array([70, 255, 255])\n",
        "mask = cv2.inRange(hsv, lower_green, upper_green)\n",
        "\n",
        "# Find contours (to locate the blob)\n",
        "contours, _ = cv2.findContours(mask, cv2.RETR_EXTERNAL, cv2.CHAIN_APPROX_SIMPLE)\n",
        "detected_center = None\n",
        "if contours:\n",
        "    # Assume the largest contour is our object\n",
        "    c = max(contours, key=cv2.contourArea)\n",
        "    M = cv2.moments(c)\n",
        "    if M[\"m00\"] != 0:\n",
        "        cx = int(M[\"m10\"]/M[\"m00\"])\n",
        "        cy = int(M[\"m01\"]/M[\"m00\"])\n",
        "        detected_center = (cx, cy)\n",
        "        # Mark the detected center on the image for visualization\n",
        "        cv2.drawContours(image, [c], -1, (0,0,255), 2)  # outline the object in red\n",
        "        cv2.circle(image, (cx, cy), 5, (0,0,255), -1)   # draw a red dot at center\n",
        "        print(f\"Detected object at pixel: ({cx}, {cy})\")\n",
        "    else:\n",
        "        print(\"Contour found, but zero area (m00=0).\")\n",
        "else:\n",
        "    print(\"No contours (object not found).\")\n",
        "\n",
        "cv2_imshow(image)  # show the image with detection markers\n"
      ]
    },
    {
      "cell_type": "markdown",
      "metadata": {
        "id": "qHEtyxqzBcpA"
      },
      "source": [
        "This code:\n",
        "- Thresholds the HSV image to get a binary mask of where green is.\n",
        "- Finds contours in that mask.\n",
        "- Picks the largest contour and computes its moments to get the centroid (cx, cy).\n",
        "- Draws the contour and the center (in red) on the image for confirmation.\n",
        "- Prints the detected pixel coordinates.\n",
        "\n",
        "If all goes well, it should detect around (300,100) as the center (give or take a pixel). The displayed image will now show a red outline and dot on the green circle.\n",
        "\n",
        "Output:\n",
        "```\n",
        "Detected object at pixel: (300, 100)\n",
        "```\n",
        "\n",
        "And the image with a red marking confirming detection:\n",
        "\n",
        "The red outline and dot show the detected object and its center in the image.\n",
        "\n",
        "Now we have the pixel position of the object: (300, 100) in a 400x400 image.\n"
      ]
    },
    {
      "cell_type": "markdown",
      "metadata": {
        "id": "geVl7Z5aBsH0"
      },
      "source": [
        "## Mapping Pixel to Simulation World Coordinates\n",
        "\n",
        "Next, we map this pixel to a world coordinate. We need to assume a mapping. Let’s adopt the same idea as in Session 1:\n",
        "- Suppose the 400x400 image corresponds to a region from X = -0.5 to X = 0.5, and Y = 0.5 to Y = -0.5 (in meters). This is as if the camera covers a 1m x 1m area, the origin (0,0) is at the center, X increases to the right, Y increases to the left (since top of image is +Y).\n",
        "\n",
        "Thus:\n",
        "- x_min = -0.5, x_max = 0.5\n",
        "- y_max = 0.5, y_min = -0.5\n",
        "\n",
        "We’ll use the formulas to convert (cx, cy) to (world_x, world_y).\n",
        "\n",
        "**Code**: Map the detected pixel to world coordinates."
      ]
    },
    {
      "cell_type": "code",
      "execution_count": null,
      "metadata": {
        "colab": {
          "base_uri": "https://localhost:8080/"
        },
        "id": "yMa7kQp-Br78",
        "outputId": "3dfe9ee2-66a5-4f77-c5a0-f42509073dd5"
      },
      "outputs": [
        {
          "name": "stdout",
          "output_type": "stream",
          "text": [
            "Mapped pixel (300, 100) -> world coordinates (0.25, 0.25)\n"
          ]
        }
      ],
      "source": [
        "# Define mapping parameters (assuming a 1m x 1m area mapping for 400x400 image)\n",
        "x_min, x_max = -0.5, 0.5  # meters\n",
        "y_min, y_max = -0.5, 0.5  # meters\n",
        "\n",
        "if detected_center:\n",
        "    px, py = detected_center\n",
        "    W, H = img_width, img_height  # 400, 400\n",
        "    norm_x = px / W\n",
        "    norm_y = py / H\n",
        "    world_x = x_min + norm_x * (x_max - x_min)\n",
        "    world_y = y_max + -norm_y * (y_max - y_min)\n",
        "    print(f\"Mapped pixel ({px}, {py}) -> world coordinates ({world_x:.2f}, {world_y:.2f})\")\n",
        "else:\n",
        "    print(\"No detected center to map.\")\n"
      ]
    },
    {
      "cell_type": "markdown",
      "metadata": {
        "id": "hj-PqwQeBx4X"
      },
      "source": [
        "Plugging px=300, py=100:\n",
        "- norm_x = 300/400 = 0.75\n",
        "- norm_y = 100/400 = 0.25\n",
        "- world_x = -0.5 + 0.75*(1.0) = 0.25 m\n",
        "- world_y = 0.5 + -0.25*(1.0) = 0.25 m\n",
        "\n",
        "So we expect around (0.25, 0.25) in world.\n",
        "\n",
        "Output:\n",
        "```\n",
        "Mapped pixel (300, 100) -> world coordinates (0.25, 0.25)\n",
        "```\n",
        "\n",
        "This means: the green object in the image is at about (0.25 m, 0.25 m) in the robot’s simulation world coordinates relative to the defined origin (which we took as the image center).\n",
        "\n",
        "If our robot’s base was at the origin (0,0) and this camera mapping is aligned, the object would be 25 cm to the right and 25 cm forward (assuming +X is right, +Y is up in image which we aligned with left in world? There is an assumption in orientation, but let’s say it’s quarter meter in +X and +Y quadrant).\n",
        "\n",
        "The robot could use this coordinate to reach for the object in simulation:\n",
        "\n",
        "For example, we could instruct the robot’s end effector to go to (0.25, 0.25) (with appropriate Z). But that’s beyond this exercise – the key is that we translated vision info to world coordinates."
      ]
    },
    {
      "cell_type": "markdown",
      "metadata": {
        "id": "y2d6VogXB8Uh"
      },
      "source": [
        "## Playing with Different Resolutions or Images (Optional)\n",
        "Our formula inherently uses the image width and height, so if the resolution changes, it should still work as long as the mapping assumptions (meter range) are updated accordingly. If we simply resize the image without changing the assumed physical area, the mapping would give a slightly different answer unless we also scale the area.\n",
        "\n",
        "For example, if we downsample the image to 200x200 but still assume it covers 1m x 1m, then px=150 in 400 becomes px=75 in 200, and W changes from 400 to 200, so norm_x remains ~0.75 and we’d get the same world coordinate. So our formula already accounts for resolution if the physical coverage stays the same.\n",
        "\n",
        "However, if you did not adjust W, H in the formula after resizing, then the mapping would be off. That’s a potential pitfall: always use the correct image dimensions in the mapping calculation.\n",
        "\n",
        "**Try this**: You can draw the object at a different pixel or change the color thresholds to detect a different color (e.g., change the drawn circle to red and adjust HSV range for red) and see that the pipeline still works.\n"
      ]
    },
    {
      "cell_type": "markdown",
      "metadata": {
        "id": "88rSg8ZVCAs-"
      },
      "source": [
        "## Vision Tuning Considerations\n",
        "\n",
        "We used a simple color detection. In real scenarios, the object might not be a perfectly colored blob. You might need to filter noise, handle multiple objects, or choose the right color ranges (HSV tuning). Lighting changes can affect the HSV values. All these require tuning:\n",
        "- You might need to adjust the HSV bounds for different lighting.\n",
        "- If multiple contours are found, deciding which is the real object of interest (maybe based on size, shape, etc.).\n",
        "- Perhaps use other vision techniques (circle detection, ArUco markers, etc., for precise detection).\n",
        "\n",
        "The final coordinate mapping also might need an offset if, say, the camera origin and robot origin differ. For instance, if the robot’s base isn’t exactly at the center of the camera’s view, you’d incorporate that into x_min/x_max etc."
      ]
    },
    {
      "cell_type": "markdown",
      "metadata": {
        "id": "Rp-zRuxECEtf"
      },
      "source": [
        "## Recap\n",
        "In this exercise, we:\n",
        "- Created a test image with a colored object.\n",
        "- Detected the object’s pixel position with OpenCV.\n",
        "- Mapped that pixel to a world coordinate using a simple linear scaling.\n",
        "- Verified the result.\n",
        "\n",
        "We now have the ingredients to go from a camera image to a coordinate that a robot (in simulation) can use. This is a fundamental step in many robotics tasks, like locating an item to pick up."
      ]
    }
  ],
  "metadata": {
    "colab": {
      "provenance": []
    },
    "kernelspec": {
      "display_name": "Python 3",
      "name": "python3"
    },
    "language_info": {
      "name": "python"
    }
  },
  "nbformat": 4,
  "nbformat_minor": 0
}
