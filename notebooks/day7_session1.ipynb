{
  "cells": [
    {
      "cell_type": "markdown",
      "metadata": {
        "id": "q6MUuaVhADlv"
      },
      "source": [
        "# Day 7 – Session 1: Integrating Color Detection with PyBullet Simulation\n"
      ]
    },
    {
      "cell_type": "markdown",
      "metadata": {
        "id": "NRzo_F6YAGRL"
      },
      "source": [
        "In this session, we combine the computer vision color-detection code (from earlier notebooks) with the PyBullet simulation environment. We load the same synthetic red-circle image used previously, detect the red circle using OpenCV, and compute its center in pixel coordinates. Then we map these pixel coordinates into 3D world coordinates and visualize the object in the PyBullet simulation. Mentor prompts will guide students to think about how pixel locations map to world positions and how calibration works.\n",
        "\n",
        "Steps:\n",
        "- Generate or load the synthetic red-circle image.\n",
        "- Detect the red circle’s center using HSV thresholding and contour analysis.\n",
        "- Map the pixel coordinates `(cx, cy)` to world coordinates `(x, y)` assuming a known scale.\n",
        "- Set up a PyBullet simulation (plane + robot arm).\n",
        "- Place a marker (sphere) or move the robot to the mapped position.\n",
        "\n"
      ]
    },
    {
      "cell_type": "code",
      "execution_count": null,
      "metadata": {
        "colab": {
          "base_uri": "https://localhost:8080/"
        },
        "id": "111hErJ_AEcc",
        "outputId": "0aa63535-0daf-41c7-94c9-f4c522fbbfbb"
      },
      "outputs": [
        {
          "name": "stdout",
          "output_type": "stream",
          "text": [
            "Collecting pybullet\n",
            "  Downloading pybullet-3.2.7-cp311-cp311-manylinux_2_17_x86_64.manylinux2014_x86_64.whl.metadata (1.8 kB)\n",
            "Requirement already satisfied: opencv-python in /usr/local/lib/python3.11/dist-packages (4.11.0.86)\n",
            "Requirement already satisfied: matplotlib in /usr/local/lib/python3.11/dist-packages (3.10.0)\n",
            "Requirement already satisfied: numpy in /usr/local/lib/python3.11/dist-packages (2.0.2)\n",
            "Requirement already satisfied: contourpy>=1.0.1 in /usr/local/lib/python3.11/dist-packages (from matplotlib) (1.3.2)\n",
            "Requirement already satisfied: cycler>=0.10 in /usr/local/lib/python3.11/dist-packages (from matplotlib) (0.12.1)\n",
            "Requirement already satisfied: fonttools>=4.22.0 in /usr/local/lib/python3.11/dist-packages (from matplotlib) (4.58.1)\n",
            "Requirement already satisfied: kiwisolver>=1.3.1 in /usr/local/lib/python3.11/dist-packages (from matplotlib) (1.4.8)\n",
            "Requirement already satisfied: packaging>=20.0 in /usr/local/lib/python3.11/dist-packages (from matplotlib) (24.2)\n",
            "Requirement already satisfied: pillow>=8 in /usr/local/lib/python3.11/dist-packages (from matplotlib) (11.2.1)\n",
            "Requirement already satisfied: pyparsing>=2.3.1 in /usr/local/lib/python3.11/dist-packages (from matplotlib) (3.2.3)\n",
            "Requirement already satisfied: python-dateutil>=2.7 in /usr/local/lib/python3.11/dist-packages (from matplotlib) (2.9.0.post0)\n",
            "Requirement already satisfied: six>=1.5 in /usr/local/lib/python3.11/dist-packages (from python-dateutil>=2.7->matplotlib) (1.17.0)\n",
            "Downloading pybullet-3.2.7-cp311-cp311-manylinux_2_17_x86_64.manylinux2014_x86_64.whl (103.2 MB)\n",
            "\u001b[2K   \u001b[90m━━━━━━━━━━━━━━━━━━━━━━━━━━━━━━━━━━━━━━━━\u001b[0m \u001b[32m103.2/103.2 MB\u001b[0m \u001b[31m5.3 MB/s\u001b[0m eta \u001b[36m0:00:00\u001b[0m\n",
            "\u001b[?25hInstalling collected packages: pybullet\n",
            "Successfully installed pybullet-3.2.7\n"
          ]
        }
      ],
      "source": [
        "!pip install pybullet opencv-python matplotlib numpy"
      ]
    },
    {
      "cell_type": "code",
      "execution_count": 1,
      "metadata": {
        "id": "XOfi22x0Aaa8"
      },
      "outputs": [
        {
          "name": "stderr",
          "output_type": "stream",
          "text": [
            "pybullet build time: Jun 18 2025 10:10:00\n"
          ]
        }
      ],
      "source": [
        "# Import required libraries\n",
        "%matplotlib inline\n",
        "import cv2\n",
        "import numpy as np\n",
        "import pybullet as p\n",
        "import pybullet_data\n",
        "import matplotlib.pyplot as plt\n",
        "import time"
      ]
    },
    {
      "cell_type": "markdown",
      "metadata": {
        "id": "-qxl4gpkEP8K"
      },
      "source": [
        "We create a synthetic 200×200 image with a red filled circle at the center."
      ]
    },
    {
      "cell_type": "code",
      "execution_count": 2,
      "metadata": {
        "colab": {
          "base_uri": "https://localhost:8080/"
        },
        "id": "3KoTjknhAdT2",
        "outputId": "67d7258b-1f1c-4792-fe7d-5b773df85494"
      },
      "outputs": [
        {
          "name": "stdout",
          "output_type": "stream",
          "text": [
            "Generated synthetic red-circle image.\n"
          ]
        }
      ],
      "source": [
        "# Create a blank image and draw a red circle\n",
        "image = np.zeros((200, 200, 3), dtype=np.uint8)\n",
        "\n",
        "# Circle pixel center\n",
        "px = 150\n",
        "py = 150\n",
        "cv2.circle(image, (px, py), 50, (0, 0, 255), -1)  # BGR red circle\n",
        "print(\"Generated synthetic red-circle image.\")"
      ]
    },
    {
      "cell_type": "code",
      "execution_count": 3,
      "metadata": {
        "colab": {
          "base_uri": "https://localhost:8080/",
          "height": 428
        },
        "id": "RA934EFpESp8",
        "outputId": "5d1afb9f-bd39-4bf8-c13e-e6eb92893131"
      },
      "outputs": [
        {
          "data": {
            "image/png": "[encoded data removed]",
            "text/plain": [
              "<Figure size 640x480 with 1 Axes>"
            ]
          },
          "metadata": {},
          "output_type": "display_data"
        }
      ],
      "source": [
        "# Display the synthetic image\n",
        "plt.imshow(cv2.cvtColor(image, cv2.COLOR_BGR2RGB))\n",
        "plt.title('Synthetic Red Circle Image')\n",
        "plt.axis('off')\n",
        "plt.show()"
      ]
    },
    {
      "cell_type": "markdown",
      "metadata": {
        "id": "z9K0nxy6Af6d"
      },
      "source": [
        "Next, convert the image to HSV color space and threshold to isolate red pixels. We use a HSV range that captures the red hue."
      ]
    },
    {
      "cell_type": "code",
      "execution_count": 4,
      "metadata": {
        "colab": {
          "base_uri": "https://localhost:8080/"
        },
        "id": "okdYrVUaAgvE",
        "outputId": "e8fd0239-9866-4d9d-fac3-00f8bf7a6878"
      },
      "outputs": [
        {
          "name": "stdout",
          "output_type": "stream",
          "text": [
            "Applied HSV threshold for red. Nonzero mask pixels: 7843\n"
          ]
        }
      ],
      "source": [
        "hsv = cv2.cvtColor(image, cv2.COLOR_BGR2HSV)\n",
        "# Define HSV range for red color (tune these values if needed)\n",
        "lower_red = np.array([0, 100, 100])\n",
        "upper_red = np.array([10, 255, 255])\n",
        "mask = cv2.inRange(hsv, lower_red, upper_red)\n",
        "print(\"Applied HSV threshold for red. Nonzero mask pixels:\", np.sum(mask>0))"
      ]
    },
    {
      "cell_type": "code",
      "execution_count": 5,
      "metadata": {
        "colab": {
          "base_uri": "https://localhost:8080/"
        },
        "id": "hoIr61xEEV-o",
        "outputId": "e86e9133-059e-430e-d47f-9d1d77bc0aca"
      },
      "outputs": [
        {
          "name": "stdout",
          "output_type": "stream",
          "text": [
            "Detected center at pixel coordinates: (149, 149)\n"
          ]
        }
      ],
      "source": [
        "# Find contours in the mask to locate the red object\n",
        "contours, _ = cv2.findContours(mask, cv2.RETR_EXTERNAL, cv2.CHAIN_APPROX_SIMPLE)\n",
        "if len(contours) > 0:\n",
        "    cnt = contours[0]\n",
        "    M = cv2.moments(cnt)\n",
        "    if M['m00'] != 0:\n",
        "        cx = int(M['m10']/M['m00'])\n",
        "        cy = int(M['m01']/M['m00'])\n",
        "    else:\n",
        "        cx, cy = None, None\n",
        "    print(f\"Detected center at pixel coordinates: ({cx}, {cy})\")\n",
        "else:\n",
        "    cx, cy = None, None\n",
        "    print(\"No red object detected.\")"
      ]
    },
    {
      "cell_type": "code",
      "execution_count": 6,
      "metadata": {
        "colab": {
          "base_uri": "https://localhost:8080/",
          "height": 428
        },
        "id": "x5iAA45LEXDW",
        "outputId": "20fbfe5f-f120-4fde-c61c-ca4f3de3255a"
      },
      "outputs": [
        {
          "data": {
            "image/png": "[encoded data removed]",
            "text/plain": [
              "<Figure size 640x480 with 1 Axes>"
            ]
          },
          "metadata": {},
          "output_type": "display_data"
        }
      ],
      "source": [
        "# Draw the detected center on the image for visualization\n",
        "display_image = image.copy()\n",
        "if cx is not None:\n",
        "    cv2.circle(display_image, (cx, cy), 5, (0, 255, 0), -1)  # green dot\n",
        "plt.imshow(cv2.cvtColor(display_image, cv2.COLOR_BGR2RGB))\n",
        "plt.title('Detected Circle Center')\n",
        "plt.axis('off')\n",
        "plt.show()"
      ]
    },
    {
      "cell_type": "markdown",
      "metadata": {
        "id": "XVuE7HLiAiBr"
      },
      "source": [
        "Now we map the pixel coordinates `(cx, cy)` to world coordinates. We assume the image covers a 1m×1m plane. Pixel `(0,0)` maps to world `(-0.5m, -0.5m)`, and pixel (width, height) maps to `(0.5m, 0.5m)`. The formula scales and offsets accordingly."
      ]
    },
    {
      "cell_type": "code",
      "execution_count": 7,
      "metadata": {
        "colab": {
          "base_uri": "https://localhost:8080/"
        },
        "id": "_iFoy79nAjwF",
        "outputId": "53364eaf-e0f8-4dc1-cf7a-32c2d0bae181"
      },
      "outputs": [
        {
          "name": "stdout",
          "output_type": "stream",
          "text": [
            "Mapped to world coordinates: x = 0.24 m, y = 0.24 m (z=0 assumed)\n"
          ]
        }
      ],
      "source": [
        "image_height, image_width = image.shape[:2]\n",
        "plane_size = 1.0  # in meters\n",
        "world_x = (cx / image_width) * plane_size - plane_size/2\n",
        "world_y = (cy / image_height) * plane_size - plane_size/2\n",
        "print(f\"Mapped to world coordinates: x = {world_x:.2f} m, y = {world_y:.2f} m (z=0 assumed)\")"
      ]
    },
    {
      "cell_type": "markdown",
      "metadata": {
        "id": "5Yr3K846Ef4P"
      },
      "source": [
        "To verify the mapping formula, consider example corners:"
      ]
    },
    {
      "cell_type": "code",
      "execution_count": 8,
      "metadata": {
        "colab": {
          "base_uri": "https://localhost:8080/"
        },
        "id": "h-ZB39e_A7TY",
        "outputId": "2924769c-51d3-42c4-9fb9-df0ca92a9030"
      },
      "outputs": [
        {
          "name": "stdout",
          "output_type": "stream",
          "text": [
            "Pixel (0,0) → World (-0.50, -0.50)\n",
            "Pixel (199,199) → World (0.49, 0.49)\n"
          ]
        }
      ],
      "source": [
        "# Example: pixel (0,0) and (width-1, height-1) mapping\n",
        "px, py = 0, 0\n",
        "wx = (px / image_width) * plane_size - plane_size/2\n",
        "wy = (py / image_height) * plane_size - plane_size/2\n",
        "print(f\"Pixel (0,0) → World ({wx:.2f}, {wy:.2f})\")\n",
        "\n",
        "px, py = image_width-1, image_height-1\n",
        "wx = (px / image_width) * plane_size - plane_size/2\n",
        "wy = (py / image_height) * plane_size - plane_size/2\n",
        "print(f\"Pixel ({px},{py}) → World ({wx:.2f}, {wy:.2f})\")"
      ]
    },
    {
      "cell_type": "markdown",
      "metadata": {
        "id": "GHL1pYRPElLf"
      },
      "source": [
        "We now set up the PyBullet simulation. We load a plane and a KUKA robot arm.\n",
        "\n",
        "<img src=\"https://i.postimg.cc/QNKrQSzx/Screenshot-2025-06-12-at-1-28-38-AM.png\" alt=\"Sample Image\" width=\"200\"/>"
      ]
    },
    {
      "cell_type": "code",
      "execution_count": 9,
      "metadata": {
        "colab": {
          "base_uri": "https://localhost:8080/"
        },
        "id": "ybW_n47aElqy",
        "outputId": "fec4d285-5a88-4f37-e4bc-b601b53e6c5f"
      },
      "outputs": [
        {
          "name": "stdout",
          "output_type": "stream",
          "text": [
            "Loaded PyBullet plane.\n"
          ]
        }
      ],
      "source": [
        "# [COLAB USERS ONLY]\n",
        "p.connect(p.DIRECT)\n",
        "p.setAdditionalSearchPath(pybullet_data.getDataPath())\n",
        "planeId = p.loadURDF(\"plane.urdf\")\n",
        "print(\"Loaded PyBullet plane.\")"
      ]
    },
    {
      "cell_type": "code",
      "execution_count": null,
      "metadata": {},
      "outputs": [],
      "source": [
        "# [LOCAL USERS - PLEASE TRANSFER THE FOLLOWING CODE TO A SEPARATE PYTHON FILE!]\n",
        "p.connect(p.GUI)\n",
        "p.setAdditionalSearchPath(pybullet_data.getDataPath())\n",
        "planeId = p.loadURDF(\"plane.urdf\")\n",
        "print(\"Loaded PyBullet plane.\")"
      ]
    },
    {
      "cell_type": "code",
      "execution_count": 10,
      "metadata": {
        "colab": {
          "base_uri": "https://localhost:8080/"
        },
        "id": "qOtqh7p7Emuv",
        "outputId": "76599026-30ff-4699-ecc5-772594c7c0e8"
      },
      "outputs": [
        {
          "name": "stdout",
          "output_type": "stream",
          "text": [
            "Loaded KUKA with 7 joints.\n"
          ]
        }
      ],
      "source": [
        "# Load a KUKA robot arm at the origin\n",
        "kukaId = p.loadURDF(\"kuka_iiwa/model.urdf\", basePosition=[0,0,0], useFixedBase=True)\n",
        "num_joints = p.getNumJoints(kukaId)\n",
        "print(f\"Loaded KUKA with {num_joints} joints.\")"
      ]
    },
    {
      "cell_type": "markdown",
      "metadata": {
        "id": "25MOR5miEnru"
      },
      "source": [
        "We place a small red sphere at the detected world coordinates to mark the target."
      ]
    },
    {
      "cell_type": "code",
      "execution_count": 11,
      "metadata": {
        "colab": {
          "base_uri": "https://localhost:8080/"
        },
        "id": "eDTucR9uEpc-",
        "outputId": "26b3a009-049b-4db1-dcd9-02c3ee82de6e"
      },
      "outputs": [
        {
          "name": "stdout",
          "output_type": "stream",
          "text": [
            "Sphere placed at world coordinates: (0.245, 0.245)\n"
          ]
        }
      ],
      "source": [
        "sphereRadius = 0.05\n",
        "colSphereId = p.createCollisionShape(p.GEOM_SPHERE, radius=sphereRadius)\n",
        "visSphereId = p.createVisualShape(p.GEOM_SPHERE, radius=sphereRadius, rgbaColor=[1, 0, 0, 1])\n",
        "sphereId = p.createMultiBody(baseMass=0, baseCollisionShapeIndex=colSphereId,\n",
        "                             baseVisualShapeIndex=visSphereId,\n",
        "                             basePosition=[world_x, world_y, sphereRadius])\n",
        "print(\"Sphere placed at world coordinates:\", (world_x, world_y))"
      ]
    },
    {
      "cell_type": "markdown",
      "metadata": {
        "id": "aX-VYWivEqXT"
      },
      "source": [
        "Optionally, we can use inverse kinematics to move the KUKA’s end effector near the sphere. The end-effector link index for KUKA is typically 6 (last joint)."
      ]
    },
    {
      "cell_type": "code",
      "execution_count": 12,
      "metadata": {
        "colab": {
          "base_uri": "https://localhost:8080/"
        },
        "id": "ktr23VCUErhl",
        "outputId": "4495288c-85da-4e8c-bb2a-7a33bb1ef171"
      },
      "outputs": [
        {
          "name": "stdout",
          "output_type": "stream",
          "text": [
            "Moved KUKA end-effector near the target position.\n"
          ]
        }
      ],
      "source": [
        "end_effector_index = 6\n",
        "target_pos = [world_x, world_y, sphereRadius + 0.1]  # a bit above the sphere\n",
        "joint_positions = p.calculateInverseKinematics(kukaId, end_effector_index, target_pos)\n",
        "for j in range(num_joints):\n",
        "    p.resetJointState(kukaId, j, joint_positions[j])\n",
        "print(\"Moved KUKA end-effector near the target position.\")\n"
      ]
    },
    {
      "cell_type": "code",
      "execution_count": 13,
      "metadata": {
        "colab": {
          "base_uri": "https://localhost:8080/"
        },
        "id": "KUhpAQLTEtXz",
        "outputId": "2f337168-bbae-4203-d826-cfee29fada0e"
      },
      "outputs": [
        {
          "name": "stdout",
          "output_type": "stream",
          "text": [
            "Simulation step completed and disconnected.\n"
          ]
        }
      ],
      "source": [
        "# [COLAB USERS ONLY]: Step the simulation a few times (no visualization in DIRECT mode)\n",
        "for _ in range(100):\n",
        "    p.stepSimulation()\n",
        "p.disconnect()\n",
        "print(\"Simulation step completed and disconnected.\")"
      ]
    },
    {
      "cell_type": "code",
      "execution_count": null,
      "metadata": {},
      "outputs": [],
      "source": [
        "# [LOCAL USERS ONLY]: Run the simulation in an infinite loop so the program doesn't quit\n",
        "while True:\n",
        "    p.stepSimulation()\n",
        "    time.sleep(0.01)\n",
        "p.disconnect()\n",
        "print(\"Simulation step completed and disconnected.\")"
      ]
    },
    {
      "cell_type": "code",
      "execution_count": 14,
      "metadata": {
        "colab": {
          "base_uri": "https://localhost:8080/",
          "height": 857
        },
        "id": "xQD3HzabEuy2",
        "outputId": "ac9b281b-6bdd-424d-e665-b679de1c1408"
      },
      "outputs": [
        {
          "name": "stdout",
          "output_type": "stream",
          "text": [
            "Mask shape: (200, 200) Number of detected pixels: 7843\n"
          ]
        },
        {
          "data": {
            "image/png": "[encoded data removed]",
            "text/plain": [
              "<Figure size 640x480 with 1 Axes>"
            ]
          },
          "metadata": {},
          "output_type": "display_data"
        },
        {
          "data": {
            "image/png": "[encoded data removed]",
            "text/plain": [
              "<Figure size 640x480 with 1 Axes>"
            ]
          },
          "metadata": {},
          "output_type": "display_data"
        }
      ],
      "source": [
        "# Inspect the mask and overlays for clarity (debugging visuals):\n",
        "print(\"Mask shape:\", mask.shape, \"Number of detected pixels:\", np.sum(mask>0))\n",
        "plt.imshow(mask, cmap='gray')\n",
        "plt.title('Mask of Red Regions')\n",
        "plt.axis('off')\n",
        "plt.show()\n",
        "\n",
        "overlay = cv2.bitwise_and(image, image, mask=mask)\n",
        "plt.imshow(cv2.cvtColor(overlay, cv2.COLOR_BGR2RGB))\n",
        "plt.title('Original Image Overlaid with Mask')\n",
        "plt.axis('off')\n",
        "plt.show()\n"
      ]
    },
    {
      "cell_type": "markdown",
      "metadata": {},
      "source": [
        "## Using Simulated Images"
      ]
    },
    {
      "cell_type": "markdown",
      "metadata": {},
      "source": [
        "Below is a TopDownCamera class that abstracts away the complex details about camera calibration and making a camera at a certain position in PyBullet. Feel free to use this below!\n",
        "\n",
        "Note for LOCAL USERS: copy the imports from the first cell and make a new python file to run :)"
      ]
    },
    {
      "cell_type": "code",
      "execution_count": 2,
      "metadata": {},
      "outputs": [],
      "source": [
        "class TopDownCamera:\n",
        "\n",
        "    def __init__(self, \n",
        "                 img_width: int,\n",
        "                 img_height: int,\n",
        "                 camera_position: list[float],\n",
        "                 floor_plane_size: float,\n",
        "                 ):\n",
        "        \"\"\"\n",
        "        A TopDownCamera for use in the simulation to get images.\n",
        "\n",
        "        Args:\n",
        "            img_width: int, width of a gathered image in pixels\n",
        "            img_height: int, height of a gathered image in pixels\n",
        "            camera_position: list[float], position of the camera in world coordinates, [X, Y, Z]\n",
        "            floor_plane_size: float, size of each side of the floor plane in meters (the camera is looking down on this plane)\n",
        "        \"\"\"\n",
        "        self._img_width = img_width\n",
        "        self._img_height = img_height\n",
        "        self._floor_plane_size = floor_plane_size\n",
        "        self._camera_position = camera_position\n",
        "        \n",
        "        # Roll, pitch, and yaw in degrees specify how the camera is rotated in the world (this makes it top-down)\n",
        "        self._roll = 0\n",
        "        self._pitch = -90\n",
        "        self._yaw = 90\n",
        "\n",
        "        camera_target = camera_position.copy()\n",
        "        camera_target[2] = 0\n",
        "\n",
        "        # Extrinsics matrix: camera position in world coordinates\n",
        "        self._view_matrix = p.computeViewMatrixFromYawPitchRoll(\n",
        "            cameraTargetPosition=camera_target,\n",
        "            distance=camera_position[2],\n",
        "            yaw=self._yaw,\n",
        "            pitch=self._pitch,\n",
        "            roll=self._roll,\n",
        "            upAxisIndex=2\n",
        "        )\n",
        "\n",
        "        self._aspect_ratio = img_width / img_height\n",
        "        self._near = 0.01\n",
        "        self._far = 10\n",
        "        self._fov = 2 * np.degrees(np.arctan((floor_plane_size/2) / camera_position[2]))  # field of view to cover 1m\n",
        "\n",
        "        # Intrinsics matrix\n",
        "        self._projection_matrix = p.computeProjectionMatrixFOV(\n",
        "            fov=self._fov,\n",
        "            aspect=self._aspect_ratio,\n",
        "            nearVal=self._near,\n",
        "            farVal=self._far\n",
        "        )\n",
        "\n",
        "    def get_image(self):\n",
        "        \"\"\"\n",
        "        Takes a RGB top-down image from inside Pybullet.\n",
        "\n",
        "        Returns:\n",
        "            rgb_img: np.ndarray, RGB image of shape (img_height, img_width, 3)\n",
        "        \"\"\"\n",
        "        img_arr = p.getCameraImage(\n",
        "            width=self._img_width,\n",
        "            height=self._img_height,\n",
        "            viewMatrix=self._view_matrix,\n",
        "            projectionMatrix=self._projection_matrix,\n",
        "        )\n",
        "        rgba = np.reshape(img_arr[2], (self._img_height, self._img_width, 4))\n",
        "        rgb_img = rgba[:, :, :3]\n",
        "        return rgb_img\n",
        "    \n",
        "    def get_pixel_world_coords(self, pixel_x: int, pixel_y: int) -> list[float]:\n",
        "        \"\"\"\n",
        "        Converts a pixel coordinate to 3D world coordinates assuming the pixel lies on the floor plane.\n",
        "\n",
        "        Args:\n",
        "            pixel_x: int, x-coordinate of the pixel\n",
        "            pixel_y: int, y-coordinate of the pixel\n",
        "\n",
        "        Returns:\n",
        "            world_coords: list[float], 3D world coordinates of the pixel, [X, Y, Z]\n",
        "        \"\"\"\n",
        "        world_x = (pixel_x / self._img_width) * self._floor_plane_size - self._floor_plane_size/2\n",
        "        world_y = (pixel_y / self._img_height) * self._floor_plane_size - self._floor_plane_size/2\n",
        "        world_z = 0\n",
        "        return [world_x, world_y, world_z]"
      ]
    },
    {
      "cell_type": "code",
      "execution_count": 3,
      "metadata": {},
      "outputs": [
        {
          "name": "stdout",
          "output_type": "stream",
          "text": [
            "Loaded PyBullet plane.\n"
          ]
        }
      ],
      "source": [
        "# Re-set up the simulation again, since it is closed\n",
        "# [COLAB USERS ONLY]\n",
        "p.connect(p.DIRECT)\n",
        "p.setAdditionalSearchPath(pybullet_data.getDataPath())\n",
        "planeId = p.loadURDF(\"plane.urdf\")\n",
        "print(\"Loaded PyBullet plane.\")"
      ]
    },
    {
      "cell_type": "code",
      "execution_count": null,
      "metadata": {},
      "outputs": [],
      "source": [
        "# [LOCAL USERS - PLEASE TRANSFER THE FOLLOWING CODE TO A SEPARATE PYTHON FILE!]\n",
        "p.connect(p.GUI)\n",
        "p.setAdditionalSearchPath(pybullet_data.getDataPath())\n",
        "planeId = p.loadURDF(\"plane.urdf\")\n",
        "print(\"Loaded PyBullet plane.\")"
      ]
    },
    {
      "cell_type": "code",
      "execution_count": 4,
      "metadata": {},
      "outputs": [
        {
          "name": "stdout",
          "output_type": "stream",
          "text": [
            "Loaded KUKA with 7 joints.\n"
          ]
        }
      ],
      "source": [
        "# Load a KUKA robot arm at the origin\n",
        "kukaId = p.loadURDF(\"kuka_iiwa/model.urdf\", basePosition=[0,0,0], useFixedBase=True)\n",
        "num_joints = p.getNumJoints(kukaId)\n",
        "print(f\"Loaded KUKA with {num_joints} joints.\")"
      ]
    },
    {
      "cell_type": "code",
      "execution_count": 8,
      "metadata": {},
      "outputs": [
        {
          "name": "stdout",
          "output_type": "stream",
          "text": [
            "Sphere placed at world coordinates: (0.25, 0.25)\n"
          ]
        }
      ],
      "source": [
        "# Play around with these and see where the sphere ends up!\n",
        "SPHERE_X = 0.25\n",
        "SPHERE_Y = 0.25\n",
        "\n",
        "sphereRadius = 0.05\n",
        "colSphereId = p.createCollisionShape(p.GEOM_SPHERE, radius=sphereRadius)\n",
        "visSphereId = p.createVisualShape(p.GEOM_SPHERE, radius=sphereRadius, rgbaColor=[1, 0, 0, 1])\n",
        "sphereId = p.createMultiBody(baseMass=0, baseCollisionShapeIndex=colSphereId,\n",
        "                             baseVisualShapeIndex=visSphereId,\n",
        "                             basePosition=[SPHERE_X, SPHERE_Y, sphereRadius])\n",
        "print(\"Sphere placed at world coordinates:\", (SPHERE_X, SPHERE_Y))"
      ]
    },
    {
      "cell_type": "code",
      "execution_count": 11,
      "metadata": {},
      "outputs": [
        {
          "data": {
            "image/png": "[encoded data removed]",
            "text/plain": [
              "<Figure size 640x480 with 1 Axes>"
            ]
          },
          "metadata": {},
          "output_type": "display_data"
        },
        {
          "name": "stdout",
          "output_type": "stream",
          "text": [
            "[0.25, 0.25, 0]\n"
          ]
        }
      ],
      "source": [
        "# How to use this camera?\n",
        "\n",
        "# 1. Create a camera object\n",
        "camera = TopDownCamera(\n",
        "    img_width=200, \n",
        "    img_height=200, \n",
        "    camera_position=[0, 0, 2], \n",
        "    floor_plane_size=1.0\n",
        "    )\n",
        "\n",
        "# 2. Get an image and display it\n",
        "img = camera.get_image()\n",
        "plt.imshow(img)\n",
        "plt.show()\n",
        "\n",
        "# 3. Get the world coordinates of a pixel\n",
        "world_coords = camera.get_pixel_world_coords(150, 150)\n",
        "print(world_coords)"
      ]
    },
    {
      "cell_type": "markdown",
      "metadata": {
        "id": "5X6IwkAsIaT6"
      },
      "source": [
        "**🗣 Discussion & Reflection**\n",
        "\n",
        "1. Mapping Accuracy: *If the red sphere appears offset in the PyBullet view, what could be wrong?*  \n",
        "   - HSV threshold too tight or loose → centroid shifts  \n",
        "   - Pixel‑to‑world scaling factor wrong (camera FOV assumption)  \n",
        "   - Image center not perfectly aligned with world origin  \n",
        "\n",
        "2. Food for Thought:\n",
        "   - How would mapping change if the camera were **tilted** instead of perfectly top‑down?  \n",
        "   - In a real lab, what **calibration procedure** would you use to learn the exact transform?  \n",
        "\n",
        "3. Mini‑Exercise:\n",
        "   - For the part before the Simulated Images: Move the red circle to three new pixel locations (e.g. (50,50), (150,50), (0,0)).  \n",
        "   - Predict where the sphere should land in world (draw on paper), **then run** the notebook and confirm.\n",
        "\n",
        "Assignment: Place the red sphere somewhere in the world, threshold appropriately, and make the robot go right above it!"
      ]
    }
  ],
  "metadata": {
    "colab": {
      "provenance": []
    },
    "kernelspec": {
      "display_name": "iiil",
      "language": "python",
      "name": "python3"
    },
    "language_info": {
      "codemirror_mode": {
        "name": "ipython",
        "version": 3
      },
      "file_extension": ".py",
      "mimetype": "text/x-python",
      "name": "python",
      "nbconvert_exporter": "python",
      "pygments_lexer": "ipython3",
      "version": "3.10.18"
    }
  },
  "nbformat": 4,
  "nbformat_minor": 0
}
